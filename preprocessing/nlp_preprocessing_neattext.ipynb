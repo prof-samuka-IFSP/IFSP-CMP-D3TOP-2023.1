{
 "cells": [
  {
   "cell_type": "markdown",
   "id": "4757a060-dec0-442e-b8cf-5ee4d209f4af",
   "metadata": {},
   "source": [
    "## **D3TOP - Tópicos em Ciência de Dados (IFSP Campinas)**\n",
    "**Prof. Dr. Samuel Martins (@iamsamucoding @samucoding @xavecoding)** <br/>\n",
    "xavecoding: https://youtube.com/c/xavecoding <br/><br/>\n",
    "\n",
    "<a rel=\"license\" href=\"http://creativecommons.org/licenses/by-nc-sa/4.0/\"><img alt=\"Creative Commons License\" style=\"border-width:0\" src=\"https://i.creativecommons.org/l/by-nc-sa/4.0/88x31.png\" /></a><br />This work is licensed under a <a rel=\"license\" href=\"http://creativecommons.org/licenses/by-nc-sa/4.0/\">Creative Commons Attribution-NonCommercial-ShareAlike 4.0 International License</a>.\n",
    "\n",
    "<hr/>"
   ]
  },
  {
   "cell_type": "markdown",
   "id": "d8e35576-ff36-435e-a3fa-c5af9d056717",
   "metadata": {},
   "source": [
    "# Text Cleaning and Preprocessing with **Neat Text**\n",
    "- https://jcharis.github.io/neattext/userguide/\n",
    "\n",
    "**Neattext** is designed for _text cleaning and preprocessing_, and it is used either via an _object oriented approach_ or a _functional/method oriented approach_.\n",
    "\n",
    "**Tasks:**\n",
    "- Cleaning of unstructured text data\n",
    "- Reduce noise [special characters,stopwords]\n",
    "- Reducing repetition of using the same code for text preprocessing\n",
    "\n",
    "**Usage:**\n",
    "- The OOP Way(Object Oriented Way)\n",
    "- NeatText offers 5 main classes for working with text data\n",
    "    + `TextFrame`: a frame-like object for cleaning text\n",
    "    + `TextCleaner`: remove or replace specifics\n",
    "    + `TextExtractor`: extract unwanted text data\n",
    "    + `TextMetrics`: word stats and metrics\n",
    "    + `TextPipeline`: combine multiple functions in a pipeline\n",
    "\n",
    "**Supported Languages (stopwords)**:\n",
    "- English(en) _(default)_\n",
    "- Spanish(es)\n",
    "- French(fr)\n",
    "- Russian(ru)\n",
    "- Yoruba(yo)\n",
    "- German(de)"
   ]
  },
  {
   "cell_type": "code",
   "execution_count": null,
   "id": "eeff6244-fb1b-4dc3-ae64-37c4d4b336d3",
   "metadata": {},
   "outputs": [],
   "source": [
    "!pip install neattext"
   ]
  },
  {
   "cell_type": "markdown",
   "id": "8376b34b-219f-4f5e-a38a-de823cfb703c",
   "metadata": {},
   "source": [
    "## 1. Overview"
   ]
  },
  {
   "cell_type": "code",
   "execution_count": 1,
   "id": "dd1b045a-3042-4422-b429-1b4aaeccbecd",
   "metadata": {},
   "outputs": [],
   "source": [
    "text = '''Beer 🍺 is one of the oldest and most widely consumed alcoholic beverages in the world, with a history that dates back over 7,000 years! (source: https://www.history.com/topics/ancient-history/beer).\n",
    "\n",
    "🍻 The most popular beer style in the United States is the American Lager, which accounts for over 80% of beer sales! 🍻 A standard serving of beer in the US is 12 fluid ounces (355 mL), although larger sizes like pints (16 oz) and bottles (22 oz) are also common. (send us an email: contact@beer.com)'''"
   ]
  },
  {
   "cell_type": "code",
   "execution_count": 2,
   "id": "b49e9e22-1fbe-49be-9f13-8a39afefc076",
   "metadata": {},
   "outputs": [
    {
     "name": "stdout",
     "output_type": "stream",
     "text": [
      "Beer 🍺 is one of the oldest and most widely consumed alcoholic beverages in the world, with a history that dates back over 7,000 years! (source: https://www.history.com/topics/ancient-history/beer).\n",
      "\n",
      "🍻 The most popular beer style in the United States is the American Lager, which accounts for over 80% of beer sales! 🍻 A standard serving of beer in the US is 12 fluid ounces (355 mL), although larger sizes like pints (16 oz) and bottles (22 oz) are also common. (send us an email: contact@beer.com)\n"
     ]
    }
   ],
   "source": [
    "print(text)"
   ]
  },
  {
   "cell_type": "code",
   "execution_count": 3,
   "id": "4c598643-3b13-4056-ab36-a49073bfc665",
   "metadata": {},
   "outputs": [
    {
     "data": {
      "text/plain": [
       "'Beer 🍺 is one of the oldest and most widely consumed alcoholic beverages in the world, with a history that dates back over 7,000 years! (source: https://www.history.com/topics/ancient-history/beer).\\n\\n🍻 The most popular beer style in the United States is the American Lager, which accounts for over 80% of beer sales! 🍻 A standard serving of beer in the US is 12 fluid ounces (355 mL), although larger sizes like pints (16 oz) and bottles (22 oz) are also common. (send us an email: contact@beer.com)'"
      ]
     },
     "execution_count": 3,
     "metadata": {},
     "output_type": "execute_result"
    }
   ],
   "source": [
    "text"
   ]
  },
  {
   "cell_type": "code",
   "execution_count": 4,
   "id": "a2c036fa-246b-4d99-ac86-a3a32d23a86e",
   "metadata": {},
   "outputs": [],
   "source": [
    "import neattext as nt"
   ]
  },
  {
   "cell_type": "code",
   "execution_count": 5,
   "id": "3c1d9bff-2408-4524-b552-123cb9a52e1a",
   "metadata": {},
   "outputs": [],
   "source": [
    "# simplest way for text preprocessing\n",
    "docx = nt.TextFrame(text)"
   ]
  },
  {
   "cell_type": "code",
   "execution_count": 6,
   "id": "a171fa71-1c0e-4ed8-8b4c-9d4c8b435209",
   "metadata": {},
   "outputs": [
    {
     "data": {
      "text/plain": [
       "neattext.neattext.TextFrame"
      ]
     },
     "execution_count": 6,
     "metadata": {},
     "output_type": "execute_result"
    }
   ],
   "source": [
    "type(docx)"
   ]
  },
  {
   "cell_type": "code",
   "execution_count": 7,
   "id": "26b13084-bd77-4ac3-b644-429f79da89d5",
   "metadata": {},
   "outputs": [
    {
     "data": {
      "text/plain": [
       "'Beer 🍺 is one of the oldest and most widely consumed alcoholic beverages in the world, with a history that dates back over 7,000 years! (source: https://www.history.com/topics/ancient-history/beer).\\n\\n🍻 The most popular beer style in the United States is the American Lager, which accounts for over 80% of beer sales! 🍻 A standard serving of beer in the US is 12 fluid ounces (355 mL), although larger sizes like pints (16 oz) and bottles (22 oz) are also common. (send us an email: contact@beer.com)'"
      ]
     },
     "execution_count": 7,
     "metadata": {},
     "output_type": "execute_result"
    }
   ],
   "source": [
    "# original text\n",
    "docx.text"
   ]
  },
  {
   "cell_type": "code",
   "execution_count": 8,
   "id": "bffb6bdf-e22f-4cd3-ad13-49b047a3207c",
   "metadata": {},
   "outputs": [
    {
     "data": {
      "text/plain": [
       "499"
      ]
     },
     "execution_count": 8,
     "metadata": {},
     "output_type": "execute_result"
    }
   ],
   "source": [
    "# text length\n",
    "docx.length"
   ]
  },
  {
   "cell_type": "code",
   "execution_count": 9,
   "id": "ff66d3fd-05d3-4b68-a72f-71755a747255",
   "metadata": {},
   "outputs": [
    {
     "data": {
      "text/plain": [
       "499"
      ]
     },
     "execution_count": 9,
     "metadata": {},
     "output_type": "execute_result"
    }
   ],
   "source": [
    "len(docx.text)"
   ]
  },
  {
   "cell_type": "code",
   "execution_count": 10,
   "id": "3530f05e-1b1b-440d-bb8a-9ef3db87ea27",
   "metadata": {},
   "outputs": [
    {
     "name": "stdout",
     "output_type": "stream",
     "text": [
      "Key      Value          \n",
      "Length  : 499            \n",
      "vowels  : 138            \n",
      "consonants: 228            \n",
      "stopwords: 35             \n",
      "punctuations: 31             \n",
      "special_char: 32             \n",
      "tokens(whitespace): 83             \n",
      "tokens(words): 91             \n"
     ]
    }
   ],
   "source": [
    "# overall description\n",
    "docx.describe()"
   ]
  },
  {
   "cell_type": "code",
   "execution_count": 11,
   "id": "a3661013-4524-4c72-9acc-e217516beab6",
   "metadata": {},
   "outputs": [
    {
     "data": {
      "text/plain": [
       "'Beer '"
      ]
     },
     "execution_count": 11,
     "metadata": {},
     "output_type": "execute_result"
    }
   ],
   "source": [
    "# head ==> first 5 chars\n",
    "docx.head()"
   ]
  },
  {
   "cell_type": "code",
   "execution_count": 12,
   "id": "2637db4a-96a7-4231-bb5f-cb09cf8e5414",
   "metadata": {},
   "outputs": [
    {
     "data": {
      "text/plain": [
       "'Beer 🍺 is '"
      ]
     },
     "execution_count": 12,
     "metadata": {},
     "output_type": "execute_result"
    }
   ],
   "source": [
    "# head ==> first 10 chars\n",
    "docx.head(10)"
   ]
  },
  {
   "cell_type": "code",
   "execution_count": 13,
   "id": "78fba1dc-7055-442c-b173-5bd74fd88470",
   "metadata": {},
   "outputs": [
    {
     "data": {
      "text/plain": [
       "'.com)'"
      ]
     },
     "execution_count": 13,
     "metadata": {},
     "output_type": "execute_result"
    }
   ],
   "source": [
    "# tail ==> last 5 chars\n",
    "docx.tail()"
   ]
  },
  {
   "cell_type": "code",
   "execution_count": 14,
   "id": "37335427-b82b-49b0-adb5-319e3cb7a027",
   "metadata": {},
   "outputs": [
    {
     "data": {
      "text/plain": [
       "'@beer.com)'"
      ]
     },
     "execution_count": 14,
     "metadata": {},
     "output_type": "execute_result"
    }
   ],
   "source": [
    "# tail ==> last 10 chars\n",
    "docx.tail(10)"
   ]
  },
  {
   "cell_type": "code",
   "execution_count": 15,
   "id": "555cc7b5-44e2-424b-a2b5-082423998909",
   "metadata": {},
   "outputs": [
    {
     "data": {
      "text/plain": [
       "{'a': 27, 'e': 46, 'i': 23, 'o': 32, 'u': 10}"
      ]
     },
     "execution_count": 15,
     "metadata": {},
     "output_type": "execute_result"
    }
   ],
   "source": [
    "# counting vowels\n",
    "docx.count_vowels()"
   ]
  },
  {
   "cell_type": "code",
   "execution_count": 16,
   "id": "b9e229ad-1624-4068-ab5c-0b04697066d6",
   "metadata": {},
   "outputs": [
    {
     "data": {
      "text/plain": [
       "{'b': 9,\n",
       " 'c': 17,\n",
       " 'd': 12,\n",
       " 'f': 5,\n",
       " 'g': 5,\n",
       " 'h': 17,\n",
       " 'j': 0,\n",
       " 'k': 2,\n",
       " 'l': 17,\n",
       " 'm': 10,\n",
       " 'n': 20,\n",
       " 'p': 5,\n",
       " 'q': 0,\n",
       " 'r': 24,\n",
       " 's': 33,\n",
       " 't': 32,\n",
       " 'v': 4,\n",
       " 'w': 7,\n",
       " 'x': 0,\n",
       " 'y': 6,\n",
       " 'z': 3}"
      ]
     },
     "execution_count": 16,
     "metadata": {},
     "output_type": "execute_result"
    }
   ],
   "source": [
    "# counting consonants\n",
    "docx.count_consonants()"
   ]
  },
  {
   "cell_type": "code",
   "execution_count": 17,
   "id": "19b0532c-0dc6-46b7-a4ae-645793842eb2",
   "metadata": {},
   "outputs": [
    {
     "data": {
      "text/plain": [
       "{'is': 3,\n",
       " 'one': 1,\n",
       " 'of': 3,\n",
       " 'the': 6,\n",
       " 'and': 2,\n",
       " 'most': 2,\n",
       " 'in': 3,\n",
       " 'with': 1,\n",
       " 'a': 2,\n",
       " 'that': 1,\n",
       " 'back': 1,\n",
       " 'over': 2,\n",
       " 'which': 1,\n",
       " 'for': 1,\n",
       " 'us': 2,\n",
       " 'although': 1,\n",
       " 'are': 1,\n",
       " 'also': 1,\n",
       " 'an': 1}"
      ]
     },
     "execution_count": 17,
     "metadata": {},
     "output_type": "execute_result"
    }
   ],
   "source": [
    "# counting stop words\n",
    "docx.count_stopwords()"
   ]
  },
  {
   "cell_type": "code",
   "execution_count": 18,
   "id": "8427cc86-a808-4727-b99e-6b0c0836c546",
   "metadata": {},
   "outputs": [
    {
     "data": {
      "text/plain": [
       "['🍻', '🍻', '🍺']"
      ]
     },
     "execution_count": 18,
     "metadata": {},
     "output_type": "execute_result"
    }
   ],
   "source": [
    "# show the 3 longest words\n",
    "docx.nlongest()"
   ]
  },
  {
   "cell_type": "code",
   "execution_count": 19,
   "id": "e655036c-0a19-4ac3-a23c-4ec08d8b53fc",
   "metadata": {},
   "outputs": [
    {
     "data": {
      "text/plain": [
       "['🍻', '🍻', '🍺', 'years', 'world']"
      ]
     },
     "execution_count": 19,
     "metadata": {},
     "output_type": "execute_result"
    }
   ],
   "source": [
    "# show the 5 longest words\n",
    "docx.nlongest(5)"
   ]
  },
  {
   "cell_type": "code",
   "execution_count": 20,
   "id": "c44120da-b0a9-4cb9-985e-39dba6ce70cc",
   "metadata": {},
   "outputs": [
    {
     "data": {
      "text/plain": [
       "['12', '16', '22']"
      ]
     },
     "execution_count": 20,
     "metadata": {},
     "output_type": "execute_result"
    }
   ],
   "source": [
    "# show the 3 shortest words\n",
    "docx.nshortest()"
   ]
  },
  {
   "cell_type": "code",
   "execution_count": 21,
   "id": "923a08e3-1c56-4a25-9afa-1d10a9e1c0fb",
   "metadata": {},
   "outputs": [
    {
     "data": {
      "text/plain": [
       "['12', '16', '22', '355', '7000']"
      ]
     },
     "execution_count": 21,
     "metadata": {},
     "output_type": "execute_result"
    }
   ],
   "source": [
    "# show the 5 shortest words\n",
    "docx.nshortest(5)"
   ]
  },
  {
   "cell_type": "code",
   "execution_count": 22,
   "id": "af81dce9-1dd1-4f31-a669-abcd78f3b5bf",
   "metadata": {},
   "outputs": [
    {
     "data": {
      "text/plain": [
       "{'!': 2,\n",
       " '\"': 0,\n",
       " '&': 0,\n",
       " \"'\": 0,\n",
       " '(': 5,\n",
       " ')': 5,\n",
       " '*': 0,\n",
       " ',': 4,\n",
       " '-': 1,\n",
       " '.': 5,\n",
       " '/': 5,\n",
       " ':': 3,\n",
       " ';': 0,\n",
       " '?': 0,\n",
       " '@': 1,\n",
       " '[': 0,\n",
       " '\\\\': 0,\n",
       " ']': 0,\n",
       " '^': 0,\n",
       " '_': 0,\n",
       " '`': 0,\n",
       " '{': 0,\n",
       " '|': 0,\n",
       " '}': 0}"
      ]
     },
     "execution_count": 22,
     "metadata": {},
     "output_type": "execute_result"
    }
   ],
   "source": [
    "# counting punctuations\n",
    "docx.count_puncts()"
   ]
  },
  {
   "cell_type": "markdown",
   "id": "1b65c2c4-06f2-47b0-9155-2343f9e9894f",
   "metadata": {},
   "source": [
    "<br/>\n",
    "\n",
    "There are lot of other functions (cleaning and preprocessing)."
   ]
  },
  {
   "cell_type": "markdown",
   "id": "4fcd2226-3ed9-4a16-8151-85a40c892b13",
   "metadata": {},
   "source": [
    "## 2. Basic NLP Task (Tokenization,Ngram,Text Generation)"
   ]
  },
  {
   "cell_type": "code",
   "execution_count": 23,
   "id": "7b4066dd-ec09-41c7-a06f-160b7a1ff2da",
   "metadata": {},
   "outputs": [
    {
     "data": {
      "text/plain": [
       "'Beer 🍺 is one of the oldest and most widely consumed alcoholic beverages in the world, with a history that dates back over 7,000 years! (source: https://www.history.com/topics/ancient-history/beer).\\n\\n🍻 The most popular beer style in the United States is the American Lager, which accounts for over 80% of beer sales! 🍻 A standard serving of beer in the US is 12 fluid ounces (355 mL), although larger sizes like pints (16 oz) and bottles (22 oz) are also common. (send us an email: contact@beer.com)'"
      ]
     },
     "execution_count": 23,
     "metadata": {},
     "output_type": "execute_result"
    }
   ],
   "source": [
    "docx.text"
   ]
  },
  {
   "cell_type": "code",
   "execution_count": 24,
   "id": "cecb43d5-2bd2-4643-a2bc-7506235be868",
   "metadata": {},
   "outputs": [
    {
     "data": {
      "text/plain": [
       "['Beer',\n",
       " '🍺',\n",
       " 'is',\n",
       " 'one',\n",
       " 'of',\n",
       " 'the',\n",
       " 'oldest',\n",
       " 'and',\n",
       " 'most',\n",
       " 'widely',\n",
       " 'consumed',\n",
       " 'alcoholic',\n",
       " 'beverages',\n",
       " 'in',\n",
       " 'the',\n",
       " 'world',\n",
       " 'with',\n",
       " 'a',\n",
       " 'history',\n",
       " 'that',\n",
       " 'dates',\n",
       " 'back',\n",
       " 'over',\n",
       " '7000',\n",
       " 'years',\n",
       " 'source',\n",
       " 'httpswwwhistorycomtopicsancienthistorybeer',\n",
       " '🍻',\n",
       " 'The',\n",
       " 'most',\n",
       " 'popular',\n",
       " 'beer',\n",
       " 'style',\n",
       " 'in',\n",
       " 'the',\n",
       " 'United',\n",
       " 'States',\n",
       " 'is',\n",
       " 'the',\n",
       " 'American',\n",
       " 'Lager',\n",
       " 'which',\n",
       " 'accounts',\n",
       " 'for',\n",
       " 'over',\n",
       " '80',\n",
       " 'of',\n",
       " 'beer',\n",
       " 'sales',\n",
       " '🍻',\n",
       " 'A',\n",
       " 'standard',\n",
       " 'serving',\n",
       " 'of',\n",
       " 'beer',\n",
       " 'in',\n",
       " 'the',\n",
       " 'US',\n",
       " 'is',\n",
       " '12',\n",
       " 'fluid',\n",
       " 'ounces',\n",
       " '355',\n",
       " 'mL',\n",
       " 'although',\n",
       " 'larger',\n",
       " 'sizes',\n",
       " 'like',\n",
       " 'pints',\n",
       " '16',\n",
       " 'oz',\n",
       " 'and',\n",
       " 'bottles',\n",
       " '22',\n",
       " 'oz',\n",
       " 'are',\n",
       " 'also',\n",
       " 'common',\n",
       " 'send',\n",
       " 'us',\n",
       " 'an',\n",
       " 'email',\n",
       " 'contactbeercom']"
      ]
     },
     "execution_count": 24,
     "metadata": {},
     "output_type": "execute_result"
    }
   ],
   "source": [
    "# word tokens\n",
    "docx.word_tokens()"
   ]
  },
  {
   "cell_type": "code",
   "execution_count": 25,
   "id": "1eeba6c0-6b6b-4c5e-92dd-434725aa2c08",
   "metadata": {},
   "outputs": [
    {
     "data": {
      "text/plain": [
       "['Beer 🍺 is one of the oldest and most widely consumed alcoholic beverages in the world, with a history that dates back over 7,000 years! (source: https://www',\n",
       " 'history',\n",
       " 'com/topics/ancient-history/beer)',\n",
       " '\\n\\n🍻 The most popular beer style in the United States is the American Lager, which accounts for over 80% of beer sales! 🍻 A standard serving of beer in the US is 12 fluid ounces (355 mL), although larger sizes like pints (16 oz) and bottles (22 oz) are also common',\n",
       " ' (send us an email: contact@beer',\n",
       " 'com)']"
      ]
     },
     "execution_count": 25,
     "metadata": {},
     "output_type": "execute_result"
    }
   ],
   "source": [
    "# sentence tokenizer\n",
    "docx.sent_tokens()"
   ]
  },
  {
   "cell_type": "code",
   "execution_count": 26,
   "id": "64f255ce-26d3-4346-b06f-59e670f3b84d",
   "metadata": {},
   "outputs": [
    {
     "data": {
      "text/plain": [
       "Counter({'Beer': 1,\n",
       "         'is': 3,\n",
       "         'one': 1,\n",
       "         'of': 3,\n",
       "         'the': 5,\n",
       "         'oldest': 1,\n",
       "         'and': 2,\n",
       "         'most': 2,\n",
       "         'widely': 1,\n",
       "         'consumed': 1,\n",
       "         'alcoholic': 1,\n",
       "         'beverages': 1,\n",
       "         'in': 3,\n",
       "         'world': 1,\n",
       "         'with': 1,\n",
       "         'a': 1,\n",
       "         'history': 3,\n",
       "         'that': 1,\n",
       "         'dates': 1,\n",
       "         'back': 1,\n",
       "         'over': 2,\n",
       "         '7': 1,\n",
       "         '000': 1,\n",
       "         'years': 1,\n",
       "         'source': 1,\n",
       "         'https': 1,\n",
       "         'www': 1,\n",
       "         'com': 2,\n",
       "         'topics': 1,\n",
       "         'ancient': 1,\n",
       "         'beer': 5,\n",
       "         'The': 1,\n",
       "         'popular': 1,\n",
       "         'style': 1,\n",
       "         'United': 1,\n",
       "         'States': 1,\n",
       "         'American': 1,\n",
       "         'Lager': 1,\n",
       "         'which': 1,\n",
       "         'accounts': 1,\n",
       "         'for': 1,\n",
       "         '80': 1,\n",
       "         'sales': 1,\n",
       "         'A': 1,\n",
       "         'standard': 1,\n",
       "         'serving': 1,\n",
       "         'US': 1,\n",
       "         '12': 1,\n",
       "         'fluid': 1,\n",
       "         'ounces': 1,\n",
       "         '355': 1,\n",
       "         'mL': 1,\n",
       "         'although': 1,\n",
       "         'larger': 1,\n",
       "         'sizes': 1,\n",
       "         'like': 1,\n",
       "         'pints': 1,\n",
       "         '16': 1,\n",
       "         'oz': 2,\n",
       "         'bottles': 1,\n",
       "         '22': 1,\n",
       "         'are': 1,\n",
       "         'also': 1,\n",
       "         'common': 1,\n",
       "         'send': 1,\n",
       "         'us': 1,\n",
       "         'an': 1,\n",
       "         'email': 1,\n",
       "         'contact': 1})"
      ]
     },
     "execution_count": 26,
     "metadata": {},
     "output_type": "execute_result"
    }
   ],
   "source": [
    "# bag of words\n",
    "docx.bow()"
   ]
  },
  {
   "cell_type": "markdown",
   "id": "6e405eb0-ada0-4170-8d34-3169aa73faf4",
   "metadata": {},
   "source": [
    "## 3. Text Cleaning\n",
    "- https://jcharis.github.io/neattext/apireference/\n",
    "\n",
    "**Functions (in-place):**\n",
    "- `remove_emails`\n",
    "- `remove_numbers`\n",
    "- `remove_phone_numbers`\n",
    "- `remove_urls`\n",
    "- `remove_special_characters`\n",
    "- `remove_emojis`\n",
    "- `remove_stopwords`\n",
    "- `remove_terms_in_bracket`\n",
    "- `remove_accents`"
   ]
  },
  {
   "cell_type": "markdown",
   "id": "b84f7447-faa5-48d5-8aad-fb0fe697ab0f",
   "metadata": {},
   "source": [
    "### 3.1. Object Oriented Way"
   ]
  },
  {
   "cell_type": "code",
   "execution_count": 39,
   "id": "7fb113cd-be01-4562-b383-cb0faabec761",
   "metadata": {},
   "outputs": [],
   "source": [
    "text = '''Beer 🍺 is one of the oldest and most widely consumed alcoholic beverages in the world, with a history that dates back over 7,000 years! (source: https://www.history.com/topics/ancient-history/beer).\n",
    "\n",
    "🍻 The most popular beer style in the United States is the American Lager, which accounts for over 80% of beer sales! 🍻 A standard serving of beer in the US is 12 fluid ounces (355 mL), although larger sizes like pints (16 oz) and bottles (22 oz) are also common. (send us an email: contact@beer.com)'''"
   ]
  },
  {
   "cell_type": "code",
   "execution_count": 40,
   "id": "9e26bfa5-f28b-4500-a6b0-a335c7985532",
   "metadata": {},
   "outputs": [
    {
     "data": {
      "text/plain": [
       "'Beer 🍺 is one of the oldest and most widely consumed alcoholic beverages in the world, with a history that dates back over 7,000 years! (source: https://www.history.com/topics/ancient-history/beer).\\n\\n🍻 The most popular beer style in the United States is the American Lager, which accounts for over 80% of beer sales! 🍻 A standard serving of beer in the US is 12 fluid ounces (355 mL), although larger sizes like pints (16 oz) and bottles (22 oz) are also common. (send us an email: contact@beer.com)'"
      ]
     },
     "execution_count": 40,
     "metadata": {},
     "output_type": "execute_result"
    }
   ],
   "source": [
    "text"
   ]
  },
  {
   "cell_type": "code",
   "execution_count": 41,
   "id": "47b7824e-9d37-4490-989e-b68f8b588352",
   "metadata": {},
   "outputs": [],
   "source": [
    "import neattext as nt\n",
    "docx = nt.TextFrame(text)"
   ]
  },
  {
   "cell_type": "code",
   "execution_count": 42,
   "id": "c5f8d02e-2440-46dc-8b03-ad5c2a4c10eb",
   "metadata": {},
   "outputs": [
    {
     "data": {
      "text/plain": [
       "'Beer 🍺 is one of the oldest and most widely consumed alcoholic beverages in the world, with a history that dates back over 7,000 years! (source: https://www.history.com/topics/ancient-history/beer).\\n\\n🍻 The most popular beer style in the United States is the American Lager, which accounts for over 80% of beer sales! 🍻 A standard serving of beer in the US is 12 fluid ounces (355 mL), although larger sizes like pints (16 oz) and bottles (22 oz) are also common. (send us an email: contact@beer.com)'"
      ]
     },
     "execution_count": 42,
     "metadata": {},
     "output_type": "execute_result"
    }
   ],
   "source": [
    "docx.text"
   ]
  },
  {
   "cell_type": "code",
   "execution_count": 43,
   "id": "593d88cc-178e-41fe-85ee-edc37b3e73d3",
   "metadata": {},
   "outputs": [
    {
     "name": "stdout",
     "output_type": "stream",
     "text": [
      "Beer 🍺 is one of the oldest and most widely consumed alcoholic beverages in the world, with a history that dates back over 7,000 years! (source: https://www.history.com/topics/ancient-history/beer).\n",
      "\n",
      "🍻 The most popular beer style in the United States is the American Lager, which accounts for over 80% of beer sales! 🍻 A standard serving of beer in the US is 12 fluid ounces (355 mL), although larger sizes like pints (16 oz) and bottles (22 oz) are also common. (send us an email: )\n"
     ]
    }
   ],
   "source": [
    "# remove email (in-place)\n",
    "docx.remove_emails()\n",
    "\n",
    "print(docx.text)"
   ]
  },
  {
   "cell_type": "code",
   "execution_count": 44,
   "id": "99dbf123-86f2-4405-9e93-598526381cc1",
   "metadata": {},
   "outputs": [
    {
     "name": "stdout",
     "output_type": "stream",
     "text": [
      "Beer 🍺 is one of the oldest and most widely consumed alcoholic beverages in the world, with a history that dates back over 7,000 years! (source: ).\n",
      "\n",
      "🍻 The most popular beer style in the United States is the American Lager, which accounts for over 80% of beer sales! 🍻 A standard serving of beer in the US is 12 fluid ounces (355 mL), although larger sizes like pints (16 oz) and bottles (22 oz) are also common. (send us an email: )\n"
     ]
    }
   ],
   "source": [
    "# remove urls (in-place)\n",
    "docx.remove_urls()\n",
    "\n",
    "print(docx.text)"
   ]
  },
  {
   "cell_type": "code",
   "execution_count": 45,
   "id": "119d0cde-e64f-43a8-a655-f8da7a137674",
   "metadata": {},
   "outputs": [
    {
     "name": "stdout",
     "output_type": "stream",
     "text": [
      "Beer  is one of the oldest and most widely consumed alcoholic beverages in the world, with a history that dates back over 7,000 years! (source: ).\n",
      "\n",
      " The most popular beer style in the United States is the American Lager, which accounts for over 80% of beer sales!  A standard serving of beer in the US is 12 fluid ounces (355 mL), although larger sizes like pints (16 oz) and bottles (22 oz) are also common. (send us an email: )\n"
     ]
    }
   ],
   "source": [
    "# remove emojis (in-place)\n",
    "docx.remove_emojis()\n",
    "\n",
    "print(docx.text)"
   ]
  },
  {
   "cell_type": "code",
   "execution_count": 46,
   "id": "86fe293a-4135-4c18-b33d-6aaad1638b30",
   "metadata": {},
   "outputs": [
    {
     "name": "stdout",
     "output_type": "stream",
     "text": [
      "Beer oldest widely consumed alcoholic beverages world, history dates 7,000 years! (source: ). popular beer style United States American Lager, accounts 80% beer sales! standard serving beer 12 fluid ounces (355 mL), larger sizes like pints (16 oz) bottles (22 oz) common. (send email: )\n"
     ]
    }
   ],
   "source": [
    "# remove stop words (in-place)\n",
    "docx.remove_stopwords()\n",
    "\n",
    "print(docx.text)"
   ]
  },
  {
   "cell_type": "markdown",
   "id": "19047448-b0d1-49e6-8a27-056f1d78b19d",
   "metadata": {},
   "source": [
    "<br/>\n",
    "etc..."
   ]
  },
  {
   "cell_type": "markdown",
   "id": "3899d6b4-743a-43c6-94a6-4db3f89c332e",
   "metadata": {},
   "source": [
    "### 3.2. Method Oriented Approach\n",
    "- https://jcharis.github.io/neattext/userguide/\n",
    "- https://github.com/Jcharis/neattext/blob/f84af80ce7598a297be99fca763b1744169a2d3e/neattext/functions/functions.py#L451\n",
    "\n",
    "**Lowering and Cleaning/Pre-processing**"
   ]
  },
  {
   "cell_type": "code",
   "execution_count": 61,
   "id": "34d35516-3025-45b9-8897-4c687eaaac7f",
   "metadata": {},
   "outputs": [
    {
     "name": "stdout",
     "output_type": "stream",
     "text": [
      "Beer 🍺 is one of the oldest and most widely consumed alcoholic beverages in the world, with a history that dates back over 7,000 years! (source: https://www.history.com/topics/ancient-history/beer).\n",
      "\n",
      "🍻 The most popular beer style in the United States is the American Lager, which accounts for over 80% of beer sales! 🍻 A standard serving of beer in the US is 12 fluid ounces (355 mL), although larger sizes like pints (16 oz) and bottles (22 oz) are also common. (send us an email: contact@beer.com)\n"
     ]
    }
   ],
   "source": [
    "text = '''Beer 🍺 is one of the oldest and most widely consumed alcoholic beverages in the world, with a history that dates back over 7,000 years! (source: https://www.history.com/topics/ancient-history/beer).\n",
    "\n",
    "🍻 The most popular beer style in the United States is the American Lager, which accounts for over 80% of beer sales! 🍻 A standard serving of beer in the US is 12 fluid ounces (355 mL), although larger sizes like pints (16 oz) and bottles (22 oz) are also common. (send us an email: contact@beer.com)'''\n",
    "\n",
    "print(text)"
   ]
  },
  {
   "cell_type": "code",
   "execution_count": 49,
   "id": "6118d2f6-26d5-4949-93d0-ffdd0e21560f",
   "metadata": {},
   "outputs": [],
   "source": [
    "from neattext.functions import clean_text"
   ]
  },
  {
   "cell_type": "code",
   "execution_count": 62,
   "id": "8c3179c3-abd7-4de5-a29a-b86cb98165ec",
   "metadata": {},
   "outputs": [],
   "source": [
    "text_pre = clean_text(text, emails=True, urls=True, emojis=True, stopwords=True)"
   ]
  },
  {
   "cell_type": "code",
   "execution_count": 63,
   "id": "80c89df3-6069-474b-85e5-ff0ffbcf953d",
   "metadata": {},
   "outputs": [
    {
     "data": {
      "text/plain": [
       "'Beer 🍺 is one of the oldest and most widely consumed alcoholic beverages in the world, with a history that dates back over 7,000 years! (source: https://www.history.com/topics/ancient-history/beer).\\n\\n🍻 The most popular beer style in the United States is the American Lager, which accounts for over 80% of beer sales! 🍻 A standard serving of beer in the US is 12 fluid ounces (355 mL), although larger sizes like pints (16 oz) and bottles (22 oz) are also common. (send us an email: contact@beer.com)'"
      ]
     },
     "execution_count": 63,
     "metadata": {},
     "output_type": "execute_result"
    }
   ],
   "source": [
    "# it does not change the original text\n",
    "text"
   ]
  },
  {
   "cell_type": "code",
   "execution_count": 64,
   "id": "d42f4e62-830e-4285-9921-5249a9e69213",
   "metadata": {},
   "outputs": [
    {
     "data": {
      "text/plain": [
       "'beer oldest widely consumed alcoholic beverages world, history dates 7,000 years! (source: ). popular beer style united states american lager, accounts 80% beer sales! standard serving beer 12 fluid ounces (355 ml), larger sizes like pints (16 oz) bottles (22 oz) common. (send email: )'"
      ]
     },
     "execution_count": 64,
     "metadata": {},
     "output_type": "execute_result"
    }
   ],
   "source": [
    "text_pre"
   ]
  },
  {
   "cell_type": "code",
   "execution_count": 65,
   "id": "95a761b4-b17e-4ab5-91fc-269be2aa9d6b",
   "metadata": {},
   "outputs": [
    {
     "data": {
      "text/plain": [
       "'Beer oldest widely consumed alcoholic beverages world, history dates 7,000 years! (source: ). popular beer style United States American Lager, accounts 80% beer sales! standard serving beer 12 fluid ounces (355 mL), larger sizes like pints (16 oz) bottles (22 oz) common. (send email: )'"
      ]
     },
     "execution_count": 65,
     "metadata": {},
     "output_type": "execute_result"
    }
   ],
   "source": [
    "# compare with the other cleaning way\n",
    "docx.text"
   ]
  },
  {
   "cell_type": "markdown",
   "id": "16a8b40d-b7fa-4f50-8e62-0b4e92eaa815",
   "metadata": {},
   "source": [
    "### 3.3. Function Oriented Way"
   ]
  },
  {
   "cell_type": "code",
   "execution_count": 66,
   "id": "b7f413bc-a04d-4405-a34a-c7b285e35e9d",
   "metadata": {},
   "outputs": [
    {
     "name": "stdout",
     "output_type": "stream",
     "text": [
      "Beer 🍺 is one of the oldest and most widely consumed alcoholic beverages in the world, with a history that dates back over 7,000 years! (source: https://www.history.com/topics/ancient-history/beer).\n",
      "\n",
      "🍻 The most popular beer style in the United States is the American Lager, which accounts for over 80% of beer sales! 🍻 A standard serving of beer in the US is 12 fluid ounces (355 mL), although larger sizes like pints (16 oz) and bottles (22 oz) are also common. (send us an email: contact@beer.com)\n"
     ]
    }
   ],
   "source": [
    "text = '''Beer 🍺 is one of the oldest and most widely consumed alcoholic beverages in the world, with a history that dates back over 7,000 years! (source: https://www.history.com/topics/ancient-history/beer).\n",
    "\n",
    "🍻 The most popular beer style in the United States is the American Lager, which accounts for over 80% of beer sales! 🍻 A standard serving of beer in the US is 12 fluid ounces (355 mL), although larger sizes like pints (16 oz) and bottles (22 oz) are also common. (send us an email: contact@beer.com)'''\n",
    "\n",
    "print(text)"
   ]
  },
  {
   "cell_type": "code",
   "execution_count": 67,
   "id": "927e20dc-f833-42b0-bcbd-e07c604e33c1",
   "metadata": {},
   "outputs": [],
   "source": [
    "from neattext.functions import remove_emails, remove_urls, remove_emojis, remove_stopwords"
   ]
  },
  {
   "cell_type": "code",
   "execution_count": 68,
   "id": "1bf41ce9-df79-4817-9cf1-80e49405d49a",
   "metadata": {},
   "outputs": [],
   "source": [
    "text_pre_2 = remove_emails(remove_urls(remove_emojis(remove_stopwords(text))))"
   ]
  },
  {
   "cell_type": "code",
   "execution_count": 69,
   "id": "88f8a6f6-80be-43a6-bd4e-2f8dfde134ab",
   "metadata": {},
   "outputs": [
    {
     "data": {
      "text/plain": [
       "'Beer  oldest widely consumed alcoholic beverages world, history dates 7,000 years! (source: ).  popular beer style United States American Lager, accounts 80% beer sales!  standard serving beer 12 fluid ounces (355 mL), larger sizes like pints (16 oz) bottles (22 oz) common. (send email: )'"
      ]
     },
     "execution_count": 69,
     "metadata": {},
     "output_type": "execute_result"
    }
   ],
   "source": [
    "text_pre_2"
   ]
  },
  {
   "cell_type": "markdown",
   "id": "523b1ff4-0074-4513-a9fc-cf6dc41ef829",
   "metadata": {},
   "source": [
    "### 3.4. Pipeline Approach using TextPipeline\n",
    "- https://jcharis.github.io/neattext/userguide/\n",
    "- https://github.com/Jcharis/neattext/blob/master/neattext/pipeline/pipeline.py"
   ]
  },
  {
   "cell_type": "code",
   "execution_count": 70,
   "id": "4c70e507-f3de-4dd4-9132-c39dc73c2329",
   "metadata": {},
   "outputs": [
    {
     "name": "stdout",
     "output_type": "stream",
     "text": [
      "Beer 🍺 is one of the oldest and most widely consumed alcoholic beverages in the world, with a history that dates back over 7,000 years! (source: https://www.history.com/topics/ancient-history/beer).\n",
      "\n",
      "🍻 The most popular beer style in the United States is the American Lager, which accounts for over 80% of beer sales! 🍻 A standard serving of beer in the US is 12 fluid ounces (355 mL), although larger sizes like pints (16 oz) and bottles (22 oz) are also common. (send us an email: contact@beer.com)\n"
     ]
    }
   ],
   "source": [
    "text = '''Beer 🍺 is one of the oldest and most widely consumed alcoholic beverages in the world, with a history that dates back over 7,000 years! (source: https://www.history.com/topics/ancient-history/beer).\n",
    "\n",
    "🍻 The most popular beer style in the United States is the American Lager, which accounts for over 80% of beer sales! 🍻 A standard serving of beer in the US is 12 fluid ounces (355 mL), although larger sizes like pints (16 oz) and bottles (22 oz) are also common. (send us an email: contact@beer.com)'''\n",
    "\n",
    "print(text)"
   ]
  },
  {
   "cell_type": "code",
   "execution_count": 71,
   "id": "87b7ec0c-c44d-4ec4-8feb-d9073e6b5dec",
   "metadata": {},
   "outputs": [],
   "source": [
    "from neattext.functions import remove_emails, remove_urls, remove_emojis, remove_stopwords\n",
    "from neattext.pipeline import TextPipeline"
   ]
  },
  {
   "cell_type": "code",
   "execution_count": 76,
   "id": "068563d8-474c-4418-9634-4d2de223d59a",
   "metadata": {},
   "outputs": [],
   "source": [
    "# executing the function in the passed order\n",
    "cleaning_pipeline = TextPipeline(\n",
    "    steps=[remove_emails, remove_urls, remove_emojis, remove_stopwords]\n",
    ")"
   ]
  },
  {
   "cell_type": "code",
   "execution_count": 77,
   "id": "95c4d6d4-39ff-4960-8678-5a60416947a3",
   "metadata": {},
   "outputs": [
    {
     "data": {
      "text/plain": [
       "[<function neattext.functions.functions.remove_emails(text)>,\n",
       " <function neattext.functions.functions.remove_urls(text)>,\n",
       " <function neattext.functions.functions.remove_emojis(text)>,\n",
       " <function neattext.functions.functions.remove_stopwords(text, lang='en')>]"
      ]
     },
     "execution_count": 77,
     "metadata": {},
     "output_type": "execute_result"
    }
   ],
   "source": [
    "cleaning_pipeline.steps"
   ]
  },
  {
   "cell_type": "code",
   "execution_count": 78,
   "id": "53b1e3c9-16d5-43ca-92b1-586bb1f09b25",
   "metadata": {},
   "outputs": [
    {
     "data": {
      "text/plain": [
       "{'step_0': 'remove_emails',\n",
       " 'step_1': 'remove_urls',\n",
       " 'step_2': 'remove_emojis',\n",
       " 'step_3': 'remove_stopwords'}"
      ]
     },
     "execution_count": 78,
     "metadata": {},
     "output_type": "execute_result"
    }
   ],
   "source": [
    "cleaning_pipeline.named_steps"
   ]
  },
  {
   "cell_type": "code",
   "execution_count": 79,
   "id": "d9c48b0a-c483-471a-9cd3-4974c7929d31",
   "metadata": {},
   "outputs": [],
   "source": [
    "text_pre_3 = cleaning_pipeline.transform(text)"
   ]
  },
  {
   "cell_type": "code",
   "execution_count": 80,
   "id": "aafb9a12-1c65-4654-9923-d2c401feac51",
   "metadata": {},
   "outputs": [
    {
     "data": {
      "text/plain": [
       "'Beer oldest widely consumed alcoholic beverages world, history dates 7,000 years! (source: ). popular beer style United States American Lager, accounts 80% beer sales! standard serving beer 12 fluid ounces (355 mL), larger sizes like pints (16 oz) bottles (22 oz) common. (send email: )'"
      ]
     },
     "execution_count": 80,
     "metadata": {},
     "output_type": "execute_result"
    }
   ],
   "source": [
    "text_pre_3"
   ]
  },
  {
   "cell_type": "markdown",
   "id": "29e8f4f3-fa71-4916-ba54-0006a20fd125",
   "metadata": {},
   "source": [
    "## 4. Text Extractor\n",
    "- https://jcharis.github.io/neattext/userguide/"
   ]
  },
  {
   "cell_type": "code",
   "execution_count": 1,
   "id": "725e2dfb-f738-48de-9c47-0d1ed1a55f12",
   "metadata": {},
   "outputs": [
    {
     "name": "stdout",
     "output_type": "stream",
     "text": [
      "Beer 🍺 is one of the oldest and most widely consumed alcoholic beverages in the world, with a history that dates back over 7,000 years! (source: https://www.history.com/topics/ancient-history/beer).\n",
      "\n",
      "🍻 The most popular beer style in the United States is the American Lager, which accounts for over 80% of beer sales! 🍻 A standard serving of beer in the US is 12 fluid ounces (355 mL), although larger sizes like pints (16 oz) and bottles (22 oz) are also common. (send us an email: contact@beer.com)\n"
     ]
    }
   ],
   "source": [
    "text = '''Beer 🍺 is one of the oldest and most widely consumed alcoholic beverages in the world, with a history that dates back over 7,000 years! (source: https://www.history.com/topics/ancient-history/beer).\n",
    "\n",
    "🍻 The most popular beer style in the United States is the American Lager, which accounts for over 80% of beer sales! 🍻 A standard serving of beer in the US is 12 fluid ounces (355 mL), although larger sizes like pints (16 oz) and bottles (22 oz) are also common. (send us an email: contact@beer.com)'''\n",
    "\n",
    "print(text)"
   ]
  },
  {
   "cell_type": "code",
   "execution_count": 4,
   "id": "0916c9fd-7eb4-4e02-81a5-00c614804ce7",
   "metadata": {},
   "outputs": [],
   "source": [
    "from neattext import TextExtractor"
   ]
  },
  {
   "cell_type": "code",
   "execution_count": 5,
   "id": "23491362-ad4f-4d6e-8795-f3527d315ec1",
   "metadata": {},
   "outputs": [],
   "source": [
    "docx = TextExtractor()"
   ]
  },
  {
   "cell_type": "code",
   "execution_count": 6,
   "id": "a7117529-80c0-4f38-adb4-4e4b3cff0169",
   "metadata": {},
   "outputs": [],
   "source": [
    "docx.text = text"
   ]
  },
  {
   "cell_type": "code",
   "execution_count": 7,
   "id": "2e5cbfb1-3fce-4602-a2ff-ff7f8b8c5056",
   "metadata": {},
   "outputs": [
    {
     "data": {
      "text/plain": [
       "neattext.neattext.TextExtractor"
      ]
     },
     "execution_count": 7,
     "metadata": {},
     "output_type": "execute_result"
    }
   ],
   "source": [
    "type(docx)"
   ]
  },
  {
   "cell_type": "code",
   "execution_count": 8,
   "id": "6f7e4f38-d7ad-4685-9f39-bcf88a87232e",
   "metadata": {},
   "outputs": [
    {
     "data": {
      "text/plain": [
       "['contact@beer.com']"
      ]
     },
     "execution_count": 8,
     "metadata": {},
     "output_type": "execute_result"
    }
   ],
   "source": [
    "# extract emails\n",
    "docx.extract_emails()"
   ]
  },
  {
   "cell_type": "code",
   "execution_count": 9,
   "id": "c1ca78e0-114d-4290-bf68-3431a63d781f",
   "metadata": {},
   "outputs": [
    {
     "data": {
      "text/plain": [
       "['https://www.history.com/topics/ancient-history/beer']"
      ]
     },
     "execution_count": 9,
     "metadata": {},
     "output_type": "execute_result"
    }
   ],
   "source": [
    "# extract urls\n",
    "docx.extract_urls()"
   ]
  },
  {
   "cell_type": "code",
   "execution_count": 10,
   "id": "e3519740-e9ad-4034-9813-b32e0555c58a",
   "metadata": {},
   "outputs": [
    {
     "data": {
      "text/plain": [
       "['🍺', '🍻', '🍻']"
      ]
     },
     "execution_count": 10,
     "metadata": {},
     "output_type": "execute_result"
    }
   ],
   "source": [
    "# extract emojis\n",
    "docx.extract_emojis()"
   ]
  },
  {
   "cell_type": "code",
   "execution_count": 13,
   "id": "1e0d28a8-632b-4a73-9826-2935521127b0",
   "metadata": {},
   "outputs": [
    {
     "data": {
      "text/plain": [
       "['7', '000', '80', '12', '355', '16', '22']"
      ]
     },
     "execution_count": 13,
     "metadata": {},
     "output_type": "execute_result"
    }
   ],
   "source": [
    "# extract numbers\n",
    "docx.extract_numbers()"
   ]
  },
  {
   "cell_type": "code",
   "execution_count": null,
   "id": "4133acff-5b0c-454b-9aea-cb42a0fdeace",
   "metadata": {},
   "outputs": [],
   "source": []
  }
 ],
 "metadata": {
  "kernelspec": {
   "display_name": "Python 3",
   "language": "python",
   "name": "python3"
  },
  "language_info": {
   "codemirror_mode": {
    "name": "ipython",
    "version": 3
   },
   "file_extension": ".py",
   "mimetype": "text/x-python",
   "name": "python",
   "nbconvert_exporter": "python",
   "pygments_lexer": "ipython3",
   "version": "3.8.5"
  }
 },
 "nbformat": 4,
 "nbformat_minor": 5
}
