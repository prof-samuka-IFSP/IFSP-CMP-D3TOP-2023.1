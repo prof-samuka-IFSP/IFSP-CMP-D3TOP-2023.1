{
 "cells": [
  {
   "cell_type": "markdown",
   "id": "b30c78a6-53b3-4770-8c15-bb0ca19338be",
   "metadata": {},
   "source": [
    "## **D3TOP - Tópicos em Ciência de Dados (IFSP Campinas)**\n",
    "**Prof. Dr. Samuel Martins (@iamsamucoding @samucoding @xavecoding)** <br/>\n",
    "xavecoding: https://youtube.com/c/xavecoding <br/><br/>\n",
    "\n",
    "<a rel=\"license\" href=\"http://creativecommons.org/licenses/by-nc-sa/4.0/\"><img alt=\"Creative Commons License\" style=\"border-width:0\" src=\"https://i.creativecommons.org/l/by-nc-sa/4.0/88x31.png\" /></a><br />This work is licensed under a <a rel=\"license\" href=\"http://creativecommons.org/licenses/by-nc-sa/4.0/\">Creative Commons Attribution-NonCommercial-ShareAlike 4.0 International License</a>.\n",
    "\n",
    "<hr/>"
   ]
  },
  {
   "cell_type": "markdown",
   "id": "53a50725-8c91-4a2d-8609-cc7d325c0b55",
   "metadata": {},
   "source": [
    "# Files\n",
    "\n",
    "Python uses file objects to interact with external files on your computer. These file objects can be any sort of file you have on your computer, whether it be an audio file, a text file, emails, Excel documents, etc. Note: You will probably need to install certain libraries or modules to interact with those various file types, but they are easily available. (We will cover downloading modules later on in the course).\n",
    "\n",
    "Python has a built-in open function that allows us to open and play with basic file types."
   ]
  },
  {
   "cell_type": "markdown",
   "id": "f399dc5e-a4f0-4cb9-b5d2-34f6f75967cf",
   "metadata": {},
   "source": [
    "## Python Opening a File"
   ]
  },
  {
   "cell_type": "markdown",
   "id": "499fd348-8137-4a3c-9716-6cc5d07d438b",
   "metadata": {},
   "source": [
    "### Know Your File's Location"
   ]
  },
  {
   "cell_type": "code",
   "execution_count": null,
   "id": "078a71fe-07b0-4140-bf3e-488265a84496",
   "metadata": {},
   "outputs": [],
   "source": [
    "# show the absolute pathname from the folder that contains\n",
    "# this current jupyter-notebook file"
   ]
  },
  {
   "cell_type": "code",
   "execution_count": null,
   "id": "eafffcb6-ba0e-487c-bd4c-2f2b1197336b",
   "metadata": {},
   "outputs": [],
   "source": []
  },
  {
   "cell_type": "markdown",
   "id": "ea9cc174-ca7a-4058-871b-9666017798e6",
   "metadata": {},
   "source": [
    "### Opening a file"
   ]
  },
  {
   "cell_type": "markdown",
   "id": "b9c241e0-284d-48bc-9bb2-f3a8459fc699",
   "metadata": {},
   "source": [
    "Be sure your are passing the **correct pathname** for the file, which can be:\n",
    "- the _relative pathname_ from the current folder of this jupyter-notebook file\n",
    "- the _absolute_ pathname of the file"
   ]
  },
  {
   "cell_type": "code",
   "execution_count": null,
   "id": "7824784d-9dbc-4e31-8286-fe753b2c51c0",
   "metadata": {},
   "outputs": [],
   "source": [
    "# incomplete pathname\n"
   ]
  },
  {
   "cell_type": "code",
   "execution_count": null,
   "id": "ffedb830-510a-4d01-93d4-7411dcc71630",
   "metadata": {},
   "outputs": [],
   "source": [
    "# correct relative pathname\n"
   ]
  },
  {
   "cell_type": "code",
   "execution_count": null,
   "id": "a058b263-f2bb-41ea-b6f0-822284903f9a",
   "metadata": {},
   "outputs": [],
   "source": []
  },
  {
   "cell_type": "code",
   "execution_count": null,
   "id": "68b7210d-d280-4f31-9b79-0170f0fc25cd",
   "metadata": {},
   "outputs": [],
   "source": [
    "# or correct absolute pathname"
   ]
  },
  {
   "cell_type": "code",
   "execution_count": null,
   "id": "1bb0def7-5d31-48f9-8b2f-f9dca9dc04cd",
   "metadata": {},
   "outputs": [],
   "source": []
  },
  {
   "cell_type": "code",
   "execution_count": null,
   "id": "cbeb471c-af06-4c50-b33c-ed4d3a2dc631",
   "metadata": {},
   "outputs": [],
   "source": []
  },
  {
   "cell_type": "code",
   "execution_count": null,
   "id": "a34d6bd1-3731-4e07-a70d-f19badeece6a",
   "metadata": {},
   "outputs": [],
   "source": []
  },
  {
   "cell_type": "markdown",
   "id": "0272f2f7-6d3d-48e4-9217-4524e6d3ad56",
   "metadata": {},
   "source": [
    "The `open` function receives two parameters: `file pathname` and `access mode`. The availabe `access modes` are:"
   ]
  },
  {
   "cell_type": "markdown",
   "id": "22b50840-a7b1-4114-99f7-85b2feb59f66",
   "metadata": {},
   "source": [
    "- `\"r\"`: **Read** - Default value. Opens a file for reading, error if the file does not exist\n",
    "- `\"a\"`: **Append** - Opens a file for appending, creates the file if it does not exist\n",
    "- `\"w\"`: **Write** - Opens a file for writing, creates the file if it does not exist\n",
    "- `\"x\"`: **Create** - Creates the specified file, returns an error if the file exists"
   ]
  },
  {
   "cell_type": "markdown",
   "id": "e55041a4-7b64-4425-b4e9-5dbe53bd81a6",
   "metadata": {},
   "source": [
    "In addition you can specify if the file should be handled as **binary** or **text mode**:"
   ]
  },
  {
   "cell_type": "markdown",
   "id": "706b931f-2e41-46f7-a527-cd723c532af2",
   "metadata": {},
   "source": [
    "- `\"t\"`: **Text** - Default value. Text mode\n",
    "- `\"b\"`: **Binary** - Binary mode (e.g. images)"
   ]
  },
  {
   "cell_type": "markdown",
   "id": "61edf7e4-62e0-44e0-b7c3-af8eac35b644",
   "metadata": {},
   "source": [
    "By default, files are opened in **text reading mode** - `rt`."
   ]
  },
  {
   "cell_type": "code",
   "execution_count": null,
   "id": "ae61341e-078c-47f3-956c-a6cc0eb1f880",
   "metadata": {},
   "outputs": [],
   "source": [
    "# alternative one\n"
   ]
  },
  {
   "cell_type": "code",
   "execution_count": null,
   "id": "232985bf-e6c7-48c2-ba73-fc720b86b808",
   "metadata": {},
   "outputs": [],
   "source": [
    "# alternative two\n"
   ]
  },
  {
   "cell_type": "code",
   "execution_count": null,
   "id": "d004dfd8-94a1-4c7d-bfa7-20f1ef056583",
   "metadata": {},
   "outputs": [],
   "source": [
    "# alternative three\n"
   ]
  },
  {
   "cell_type": "markdown",
   "id": "0cc5db01-cd21-4319-b298-1e7a5321d9c5",
   "metadata": {
    "tags": []
   },
   "source": [
    "## Closing a file\n",
    "Once there is no further interaction with the file, it must be **closed**."
   ]
  },
  {
   "cell_type": "code",
   "execution_count": null,
   "id": "a302747d-1279-4f59-9457-8a775302b383",
   "metadata": {},
   "outputs": [],
   "source": []
  },
  {
   "cell_type": "markdown",
   "id": "0c249321-5025-4e1a-bcf7-10277a0ff99c",
   "metadata": {},
   "source": [
    "## Reading the content of a file: `.read()`"
   ]
  },
  {
   "cell_type": "code",
   "execution_count": null,
   "id": "708c4d0c-31f3-4124-92ec-66ba417cc0f4",
   "metadata": {},
   "outputs": [],
   "source": [
    "myfile = open('demos/star-wars-wikipedia.txt')\n",
    "myfile"
   ]
  },
  {
   "cell_type": "markdown",
   "id": "fb7f1450-5e40-4c92-95a2-4558697f28cc",
   "metadata": {},
   "source": [
    "The `.read()` command reads the *entire content* of the file."
   ]
  },
  {
   "cell_type": "code",
   "execution_count": null,
   "id": "e0b8dad5-2aae-4e0d-a764-0331120b1623",
   "metadata": {},
   "outputs": [],
   "source": []
  },
  {
   "cell_type": "code",
   "execution_count": null,
   "id": "c1efd151-c1b4-4466-b8ec-1c49b81b00dd",
   "metadata": {},
   "outputs": [],
   "source": []
  },
  {
   "cell_type": "markdown",
   "id": "19938e0e-e0f1-40eb-9c3c-b3c87178e4e6",
   "metadata": {},
   "source": [
    "Note that the file has three paragraphs separated by an empty line each. The content stores `\\n` for each line break. "
   ]
  },
  {
   "cell_type": "markdown",
   "id": "79e8b60a-2846-4249-8c40-22ac5ecc02be",
   "metadata": {},
   "source": [
    "<br/>\n",
    "\n",
    "If you try to read the same file again:"
   ]
  },
  {
   "cell_type": "code",
   "execution_count": null,
   "id": "95478a7d-a553-4034-8ef8-3c1b88af211e",
   "metadata": {},
   "outputs": [],
   "source": []
  },
  {
   "cell_type": "markdown",
   "id": "c6622ea4-1c93-49c4-a5e1-ed971c0252e1",
   "metadata": {},
   "source": [
    "**There is no content!**\n",
    "\n",
    "This happens because you can imagine the **reading \"cursor\"** is _at the end of the file_ after having read it. **So there is nothing left to read.**"
   ]
  },
  {
   "cell_type": "markdown",
   "id": "d3896ca8-9a62-46c0-8a7c-b5d721a8bba9",
   "metadata": {},
   "source": [
    "When opening a file, the reading \"cursor\" is at the _beginning of it_."
   ]
  },
  {
   "cell_type": "markdown",
   "id": "25cd72c2-07d9-4e77-9eee-e4ce4e1469ca",
   "metadata": {},
   "source": [
    "<br/>\n",
    "\n",
    "We can reset the reading \"cursor\" by using the command `.seak()`:"
   ]
  },
  {
   "cell_type": "code",
   "execution_count": null,
   "id": "e1e275e6-fc02-4b96-9897-2c860532ba22",
   "metadata": {},
   "outputs": [],
   "source": [
    "# Seek to the start of file (index 0)\n"
   ]
  },
  {
   "cell_type": "markdown",
   "id": "8315269f-e474-40ee-9e25-ee34e1f151f6",
   "metadata": {},
   "source": [
    "This command **moves** the _reading \"cursor\"_ for the position of the **byte 0**, that is, the beginning of the file."
   ]
  },
  {
   "cell_type": "code",
   "execution_count": null,
   "id": "a3addb60-43ed-4f9f-b624-ffd6a8256894",
   "metadata": {},
   "outputs": [],
   "source": []
  },
  {
   "cell_type": "markdown",
   "id": "60458231-8493-4013-bbbe-9c51633142ef",
   "metadata": {},
   "source": [
    "<br/>\n",
    "\n",
    "Now we can read the entire file again!"
   ]
  },
  {
   "cell_type": "markdown",
   "id": "c74547a5-7550-40ac-a93f-444b780398ad",
   "metadata": {},
   "source": [
    "We can choose any (valid) position to move the reading cursor. In text files, each character requires one byte of space.\n",
    "\n",
    "Thus, if you pass 16 for the `seak()` command, we are moving the _reading cursor_ in 16 bytes/characters from the beginning of the file."
   ]
  },
  {
   "cell_type": "code",
   "execution_count": null,
   "id": "890eb91e-bdf0-459e-a287-bd4cf3198e75",
   "metadata": {},
   "outputs": [],
   "source": []
  },
  {
   "cell_type": "code",
   "execution_count": null,
   "id": "39f84552-bc17-4e36-bb5b-154914f5857c",
   "metadata": {},
   "outputs": [],
   "source": [
    "content_again = myfile.read()\n",
    "content_again"
   ]
  },
  {
   "cell_type": "markdown",
   "id": "d7e0c344-a64a-4f77-9094-adc44b5ebacc",
   "metadata": {},
   "source": [
    "<br/>\n",
    "\n",
    "Note that the first 16 characters including the spaces were ignored: `'Star Wars is an '`"
   ]
  },
  {
   "cell_type": "markdown",
   "id": "39f4a1c4-c9bf-419c-88b9-58ddd21a0dff",
   "metadata": {},
   "source": [
    "<br/>\n",
    "\n",
    "To find out the current position of the reading cursor, we use the `.tell()` command:"
   ]
  },
  {
   "cell_type": "code",
   "execution_count": null,
   "id": "986a9207-f31a-4e37-96e6-b5df3a674034",
   "metadata": {},
   "outputs": [],
   "source": [
    "# move the cursor for the 16th byte/character\n"
   ]
  },
  {
   "cell_type": "code",
   "execution_count": null,
   "id": "237c19d2-e149-4bc8-9693-ee01577c3d61",
   "metadata": {},
   "outputs": [],
   "source": [
    "# show the current position of the file\n"
   ]
  },
  {
   "cell_type": "markdown",
   "id": "dab02412-6841-4973-9176-8aa24e3ab8bd",
   "metadata": {},
   "source": [
    "### `.readlines()`\n",
    "You can read a file **line by line** using the `readlines()` method, returning a list where each element is a line of the file.\n",
    "\n",
    "**Use caution with *large files***, since everything will be held in memory."
   ]
  },
  {
   "cell_type": "code",
   "execution_count": null,
   "id": "7b18d327-0f2e-4de8-b10e-80ef4840a0e3",
   "metadata": {},
   "outputs": [],
   "source": []
  },
  {
   "cell_type": "code",
   "execution_count": null,
   "id": "b7528ce4-e9d8-4ad6-9397-369f853bbcf0",
   "metadata": {},
   "outputs": [],
   "source": []
  },
  {
   "cell_type": "code",
   "execution_count": null,
   "id": "5014bc07-9c9a-4463-9051-412a08dd1332",
   "metadata": {},
   "outputs": [],
   "source": []
  },
  {
   "cell_type": "markdown",
   "id": "18ad4450-41b5-4d5e-b778-15a4ae688947",
   "metadata": {},
   "source": [
    "## Writing to a File"
   ]
  },
  {
   "cell_type": "markdown",
   "id": "ed847807-88d9-4bc9-b254-c6de49b85987",
   "metadata": {},
   "source": [
    "By default, the `open()` function will only allow us to read the file.\n",
    "\n",
    "We need to pass the argument `'w'` to write over the file. It will create an ***empty text file*** to be written.\n",
    "\n",
    "PS: you can choose the extension you wish."
   ]
  },
  {
   "cell_type": "code",
   "execution_count": null,
   "id": "141e78f6-0a2d-4f66-a82a-80a635ef4618",
   "metadata": {},
   "outputs": [],
   "source": []
  },
  {
   "cell_type": "markdown",
   "id": "f7db2f84-a1f8-49ed-b231-bcd70eaea9c4",
   "metadata": {},
   "source": [
    "<br/>\n",
    "\n",
    "Now, use the `.write()` commands **to write** a string to the file.\n",
    "\n",
    "PS: This method also accepts the _f-string_ convention."
   ]
  },
  {
   "cell_type": "code",
   "execution_count": null,
   "id": "45a2697e-3919-4511-b3d6-ad5a90bb9a20",
   "metadata": {},
   "outputs": [],
   "source": []
  },
  {
   "cell_type": "markdown",
   "id": "8ff1f347-e13f-4edc-9e16-787dd0e8a84b",
   "metadata": {},
   "source": [
    "We've just written 35 bytes/characters. <br/>\n",
    "Now, open the file in a text editor and check it. See that the file is empty. This happen because we still **don't close** the file. The written content is just trully written to the file after closing it. "
   ]
  },
  {
   "cell_type": "code",
   "execution_count": null,
   "id": "ec1fe881-1290-407c-a4a0-61da4820a0a3",
   "metadata": {},
   "outputs": [],
   "source": []
  },
  {
   "cell_type": "markdown",
   "id": "67dfa45e-9d12-4f7e-bb03-b325ed8a682f",
   "metadata": {},
   "source": [
    "Now, open the file in a text editor again and check its content. The content is now there!"
   ]
  },
  {
   "cell_type": "markdown",
   "id": "b96f8d13-46b2-49e3-90a2-8cb3a0e56faa",
   "metadata": {},
   "source": [
    "<br/>\n",
    "\n",
    "If you open the file again in the **writing mode**, its **content will be overwritten** since the file already exists, that is, all previous content will be lost."
   ]
  },
  {
   "cell_type": "code",
   "execution_count": null,
   "id": "0b81c67d-f93a-4636-b6d5-247cd4cb5e1f",
   "metadata": {},
   "outputs": [],
   "source": []
  },
  {
   "cell_type": "markdown",
   "id": "199591ce-2359-48b7-8d7b-a249c2abf6b6",
   "metadata": {},
   "source": [
    "Open the file in the file editor again and check it."
   ]
  },
  {
   "cell_type": "markdown",
   "id": "444c0c91-a4db-47d6-b6f3-ff3b75c5496b",
   "metadata": {},
   "source": [
    "### Using `f-string`\n",
    "The `.write()` command also accepts the `f-string` pattern:"
   ]
  },
  {
   "cell_type": "code",
   "execution_count": null,
   "id": "ce3f4144-6585-43ab-8671-36853b7633c6",
   "metadata": {},
   "outputs": [],
   "source": []
  },
  {
   "cell_type": "code",
   "execution_count": null,
   "id": "05ddc4be-74d1-427f-84d8-e19b8fb7cbf4",
   "metadata": {},
   "outputs": [],
   "source": []
  },
  {
   "cell_type": "code",
   "execution_count": null,
   "id": "3b8fc428-2881-400c-b5e4-80072a01d4a4",
   "metadata": {},
   "outputs": [],
   "source": [
    "love_letter.write('I walked alone on the street.\\n')\n",
    "love_letter.write('I spoke to the stars and the moon.\\n')"
   ]
  },
  {
   "cell_type": "code",
   "execution_count": null,
   "id": "382caad7-29db-4632-b6c9-920200bac9c4",
   "metadata": {},
   "outputs": [],
   "source": []
  },
  {
   "cell_type": "markdown",
   "id": "abee0087-d10b-402a-b07c-79d9eb5198bd",
   "metadata": {},
   "source": [
    "### Appending to a File\n",
    "Passing the read mode `'a'` opens the file and puts the cursor **at the end**, so anything written is **appended**. If the file does not exist, one will be created."
   ]
  },
  {
   "cell_type": "code",
   "execution_count": null,
   "id": "d6ed49dc-6e7e-4f09-8d3b-0464ed2bb2a1",
   "metadata": {},
   "outputs": [],
   "source": []
  },
  {
   "cell_type": "code",
   "execution_count": null,
   "id": "34a156d4-65bd-4d39-a7b4-8c73ef0726e0",
   "metadata": {},
   "outputs": [],
   "source": []
  },
  {
   "cell_type": "code",
   "execution_count": null,
   "id": "e21da0c3-ff30-4959-a741-d766181433b9",
   "metadata": {},
   "outputs": [],
   "source": []
  },
  {
   "cell_type": "markdown",
   "id": "88da7ce6-e923-4cda-8173-4d5641b5c1bd",
   "metadata": {},
   "source": [
    "### `.writelines()`\n",
    "We can write a list of elements to a file."
   ]
  },
  {
   "cell_type": "code",
   "execution_count": null,
   "id": "09d5b4a6-10b9-4b3f-9d53-830503491a8f",
   "metadata": {},
   "outputs": [],
   "source": [
    "products = ['iPhone', 'Xbox', 'Playstation', 'Nintendo Switch', 'Fusca']"
   ]
  },
  {
   "cell_type": "code",
   "execution_count": null,
   "id": "749d23ab-82e4-4cf2-8bf4-4f179b27b55b",
   "metadata": {},
   "outputs": [],
   "source": []
  },
  {
   "cell_type": "code",
   "execution_count": null,
   "id": "d716e839-d0d5-4977-8d96-17b28f9714c6",
   "metadata": {},
   "outputs": [],
   "source": []
  },
  {
   "cell_type": "code",
   "execution_count": null,
   "id": "4e340ec0-1513-4aa0-8da1-52d7088752c0",
   "metadata": {},
   "outputs": [],
   "source": []
  },
  {
   "cell_type": "markdown",
   "id": "4a76ca53-9615-4b51-87e8-ecf49967793f",
   "metadata": {},
   "source": [
    "Note that no line separator (e.g., `\\n`) was added to each element."
   ]
  },
  {
   "cell_type": "markdown",
   "id": "2a1e7268-df03-4409-8d7f-ef22925faf69",
   "metadata": {},
   "source": [
    "## Aliases and Context Managers\n",
    "You can assign _temporary variable_ names as **aliases**, and manage the opening and closing of files **automatically** using a **context manager** (`with`):"
   ]
  },
  {
   "cell_type": "code",
   "execution_count": null,
   "id": "2fc6ef03-4150-495e-be2e-916989ec63da",
   "metadata": {},
   "outputs": [],
   "source": []
  },
  {
   "cell_type": "markdown",
   "id": "af25358d-70c4-490d-957c-bcd0a2a0c036",
   "metadata": {},
   "source": [
    "Note that the `with ... as ...:` *context manager* **automatically closed** `animals.txt` after assigning the first line of text to `first_animal`:"
   ]
  },
  {
   "cell_type": "code",
   "execution_count": null,
   "id": "ec2b77bb-a638-4759-87a2-11d71b379ac6",
   "metadata": {},
   "outputs": [],
   "source": []
  },
  {
   "cell_type": "markdown",
   "id": "41fc6eb4-d68c-40c0-819b-0e5095bf1953",
   "metadata": {},
   "source": [
    "## Iterating through a File"
   ]
  },
  {
   "cell_type": "code",
   "execution_count": null,
   "id": "c65e4400-e6af-4543-a86d-ab65508a0c74",
   "metadata": {},
   "outputs": [],
   "source": []
  },
  {
   "cell_type": "markdown",
   "id": "3557f6a5-ea85-4718-9d54-9a0b1bdcf49e",
   "metadata": {},
   "source": [
    "### Reading a CSV by scratch"
   ]
  },
  {
   "cell_type": "code",
   "execution_count": 15,
   "id": "a240247e-7a9d-4b77-909d-086bf1902b22",
   "metadata": {},
   "outputs": [],
   "source": [
    "# package for debugging\n"
   ]
  },
  {
   "cell_type": "code",
   "execution_count": 26,
   "id": "22adc5b2-2058-4bbb-acdc-bfa556f0220c",
   "metadata": {},
   "outputs": [],
   "source": [
    "playstore_dict = {\n",
    "    'apps': [],\n",
    "    'categories': [],\n",
    "    'ratings': [],\n",
    "    'reviews': []\n",
    "}\n",
    "\n"
   ]
  },
  {
   "cell_type": "code",
   "execution_count": 27,
   "id": "2c5a2ba3-0884-4fb8-b114-e4738830b57d",
   "metadata": {},
   "outputs": [
    {
     "name": "stdout",
     "output_type": "stream",
     "text": [
      "{'apps': ['App',\n",
      "          'Photo Editor & Candy Camera & Grid & ScrapBook',\n",
      "          'Coloring book moana',\n",
      "          'Gas Prices (Germany only)',\n",
      "          'Sketch - Draw & Paint',\n",
      "          'Pixel Draw - Number Art Coloring Book',\n",
      "          'Paper flowers instructions',\n",
      "          'Smoke Effect Photo Maker - Smoke Editor',\n",
      "          'Infinite Painter',\n",
      "          'Garden Coloring Book',\n",
      "          'Kids Paint Free - Drawing Fun',\n",
      "          'Text on Photo - Fonteee',\n",
      "          'Name Art Photo Editor - Focus n Filters',\n",
      "          'Tattoo Name On My Photo Editor',\n",
      "          'Mandala Coloring Book',\n",
      "          '3D Color Pixel by Number - Sandbox Art Coloring',\n",
      "          'Learn To Draw Kawaii Characters',\n",
      "          'Photo Designer - Write your name with shapes',\n",
      "          '350 Diy Room Decor Ideas',\n",
      "          'FlipaClip - Cartoon animation',\n",
      "          'ibis Paint X',\n",
      "          'Logo Maker - Small Business',\n",
      "          \"Boys Photo Editor - Six Pack & Men's Suit\",\n",
      "          'Superheroes Wallpapers | 4K Backgrounds',\n",
      "          'HD Mickey Minnie Wallpapers',\n",
      "          'Harley Quinn wallpapers HD',\n",
      "          'Colorfit - Drawing & Coloring',\n",
      "          'Animated Photo Editor',\n",
      "          'Pencil Sketch Drawing',\n",
      "          'Easy Realistic Drawing Tutorial',\n",
      "          'Pink Silver Bow Keyboard Theme'],\n",
      " 'categories': ['Category',\n",
      "                'ART_AND_DESIGN',\n",
      "                'ART_AND_DESIGN',\n",
      "                'AUTO_AND_VEHICLES',\n",
      "                'ART_AND_DESIGN',\n",
      "                'ART_AND_DESIGN',\n",
      "                'ART_AND_DESIGN',\n",
      "                'ART_AND_DESIGN',\n",
      "                'ART_AND_DESIGN',\n",
      "                'ART_AND_DESIGN',\n",
      "                'ART_AND_DESIGN',\n",
      "                'ART_AND_DESIGN',\n",
      "                'ART_AND_DESIGN',\n",
      "                'ART_AND_DESIGN',\n",
      "                'ART_AND_DESIGN',\n",
      "                'ART_AND_DESIGN',\n",
      "                'ART_AND_DESIGN',\n",
      "                'ART_AND_DESIGN',\n",
      "                'ART_AND_DESIGN',\n",
      "                'ART_AND_DESIGN',\n",
      "                'ART_AND_DESIGN',\n",
      "                'ART_AND_DESIGN',\n",
      "                'ART_AND_DESIGN',\n",
      "                'ART_AND_DESIGN',\n",
      "                'ART_AND_DESIGN',\n",
      "                'ART_AND_DESIGN',\n",
      "                'ART_AND_DESIGN',\n",
      "                'ART_AND_DESIGN',\n",
      "                'ART_AND_DESIGN',\n",
      "                'ART_AND_DESIGN',\n",
      "                'ART_AND_DESIGN'],\n",
      " 'ratings': ['Rating',\n",
      "             '4.1',\n",
      "             '3.9',\n",
      "             '4.4',\n",
      "             '4.5',\n",
      "             '4.3',\n",
      "             '4.4',\n",
      "             '3.8',\n",
      "             '4.1',\n",
      "             '4.4',\n",
      "             '4.7',\n",
      "             '4.4',\n",
      "             '4.4',\n",
      "             '4.2',\n",
      "             '4.6',\n",
      "             '4.4',\n",
      "             '3.2',\n",
      "             '4.7',\n",
      "             '4.5',\n",
      "             '4.3',\n",
      "             '4.6',\n",
      "             '4',\n",
      "             '4.1',\n",
      "             '4.7',\n",
      "             '4.7',\n",
      "             '4.8',\n",
      "             '4.7',\n",
      "             '4.1',\n",
      "             '3.9',\n",
      "             '4.1',\n",
      "             '4.2'],\n",
      " 'reviews': ['Reviews',\n",
      "             '159',\n",
      "             '967',\n",
      "             '805',\n",
      "             '215644',\n",
      "             '967',\n",
      "             '167',\n",
      "             '178',\n",
      "             '36815',\n",
      "             '13791',\n",
      "             '121',\n",
      "             '13880',\n",
      "             '8788',\n",
      "             '44829',\n",
      "             '4326',\n",
      "             '1518',\n",
      "             '55',\n",
      "             '3632',\n",
      "             '27',\n",
      "             '194216',\n",
      "             '224399',\n",
      "             '450',\n",
      "             '654',\n",
      "             '7699',\n",
      "             '118',\n",
      "             '192',\n",
      "             '20260',\n",
      "             '203',\n",
      "             '136',\n",
      "             '223',\n",
      "             '1120']}\n"
     ]
    }
   ],
   "source": [
    "from pprint import pprint\n",
    "\n",
    "pprint(playstore_dict)"
   ]
  },
  {
   "cell_type": "markdown",
   "id": "4efb1d19-7f28-4e37-a4ea-7d466baada61",
   "metadata": {},
   "source": [
    "Let's remove the _header_ (first element of each list):"
   ]
  },
  {
   "cell_type": "code",
   "execution_count": 28,
   "id": "9415829f-dbd2-4305-b9e8-757e5300d224",
   "metadata": {},
   "outputs": [
    {
     "data": {
      "text/plain": [
       "'Reviews'"
      ]
     },
     "execution_count": 28,
     "metadata": {},
     "output_type": "execute_result"
    }
   ],
   "source": []
  },
  {
   "cell_type": "code",
   "execution_count": 29,
   "id": "66688e36-7c46-47f1-b1a1-ca02c0b3ac15",
   "metadata": {},
   "outputs": [
    {
     "name": "stdout",
     "output_type": "stream",
     "text": [
      "{'apps': ['Photo Editor & Candy Camera & Grid & ScrapBook',\n",
      "          'Coloring book moana',\n",
      "          'Gas Prices (Germany only)',\n",
      "          'Sketch - Draw & Paint',\n",
      "          'Pixel Draw - Number Art Coloring Book',\n",
      "          'Paper flowers instructions',\n",
      "          'Smoke Effect Photo Maker - Smoke Editor',\n",
      "          'Infinite Painter',\n",
      "          'Garden Coloring Book',\n",
      "          'Kids Paint Free - Drawing Fun',\n",
      "          'Text on Photo - Fonteee',\n",
      "          'Name Art Photo Editor - Focus n Filters',\n",
      "          'Tattoo Name On My Photo Editor',\n",
      "          'Mandala Coloring Book',\n",
      "          '3D Color Pixel by Number - Sandbox Art Coloring',\n",
      "          'Learn To Draw Kawaii Characters',\n",
      "          'Photo Designer - Write your name with shapes',\n",
      "          '350 Diy Room Decor Ideas',\n",
      "          'FlipaClip - Cartoon animation',\n",
      "          'ibis Paint X',\n",
      "          'Logo Maker - Small Business',\n",
      "          \"Boys Photo Editor - Six Pack & Men's Suit\",\n",
      "          'Superheroes Wallpapers | 4K Backgrounds',\n",
      "          'HD Mickey Minnie Wallpapers',\n",
      "          'Harley Quinn wallpapers HD',\n",
      "          'Colorfit - Drawing & Coloring',\n",
      "          'Animated Photo Editor',\n",
      "          'Pencil Sketch Drawing',\n",
      "          'Easy Realistic Drawing Tutorial',\n",
      "          'Pink Silver Bow Keyboard Theme'],\n",
      " 'categories': ['ART_AND_DESIGN',\n",
      "                'ART_AND_DESIGN',\n",
      "                'AUTO_AND_VEHICLES',\n",
      "                'ART_AND_DESIGN',\n",
      "                'ART_AND_DESIGN',\n",
      "                'ART_AND_DESIGN',\n",
      "                'ART_AND_DESIGN',\n",
      "                'ART_AND_DESIGN',\n",
      "                'ART_AND_DESIGN',\n",
      "                'ART_AND_DESIGN',\n",
      "                'ART_AND_DESIGN',\n",
      "                'ART_AND_DESIGN',\n",
      "                'ART_AND_DESIGN',\n",
      "                'ART_AND_DESIGN',\n",
      "                'ART_AND_DESIGN',\n",
      "                'ART_AND_DESIGN',\n",
      "                'ART_AND_DESIGN',\n",
      "                'ART_AND_DESIGN',\n",
      "                'ART_AND_DESIGN',\n",
      "                'ART_AND_DESIGN',\n",
      "                'ART_AND_DESIGN',\n",
      "                'ART_AND_DESIGN',\n",
      "                'ART_AND_DESIGN',\n",
      "                'ART_AND_DESIGN',\n",
      "                'ART_AND_DESIGN',\n",
      "                'ART_AND_DESIGN',\n",
      "                'ART_AND_DESIGN',\n",
      "                'ART_AND_DESIGN',\n",
      "                'ART_AND_DESIGN',\n",
      "                'ART_AND_DESIGN'],\n",
      " 'ratings': ['4.1',\n",
      "             '3.9',\n",
      "             '4.4',\n",
      "             '4.5',\n",
      "             '4.3',\n",
      "             '4.4',\n",
      "             '3.8',\n",
      "             '4.1',\n",
      "             '4.4',\n",
      "             '4.7',\n",
      "             '4.4',\n",
      "             '4.4',\n",
      "             '4.2',\n",
      "             '4.6',\n",
      "             '4.4',\n",
      "             '3.2',\n",
      "             '4.7',\n",
      "             '4.5',\n",
      "             '4.3',\n",
      "             '4.6',\n",
      "             '4',\n",
      "             '4.1',\n",
      "             '4.7',\n",
      "             '4.7',\n",
      "             '4.8',\n",
      "             '4.7',\n",
      "             '4.1',\n",
      "             '3.9',\n",
      "             '4.1',\n",
      "             '4.2'],\n",
      " 'reviews': ['159',\n",
      "             '967',\n",
      "             '805',\n",
      "             '215644',\n",
      "             '967',\n",
      "             '167',\n",
      "             '178',\n",
      "             '36815',\n",
      "             '13791',\n",
      "             '121',\n",
      "             '13880',\n",
      "             '8788',\n",
      "             '44829',\n",
      "             '4326',\n",
      "             '1518',\n",
      "             '55',\n",
      "             '3632',\n",
      "             '27',\n",
      "             '194216',\n",
      "             '224399',\n",
      "             '450',\n",
      "             '654',\n",
      "             '7699',\n",
      "             '118',\n",
      "             '192',\n",
      "             '20260',\n",
      "             '203',\n",
      "             '136',\n",
      "             '223',\n",
      "             '1120']}\n"
     ]
    }
   ],
   "source": [
    "pprint(playstore_dict)"
   ]
  },
  {
   "cell_type": "markdown",
   "id": "7d03c7c1-a454-4553-b2ef-ec977e21e32e",
   "metadata": {},
   "source": [
    "### Writing a CSV by scratch\n",
    "Let's create a CSV file by scratch for our apps read previously. Let's only consider the columns: `'apps'` and `'ratings'`."
   ]
  },
  {
   "cell_type": "code",
   "execution_count": 31,
   "id": "ab88f504-e0c0-4b17-8723-a5d63e005ff5",
   "metadata": {},
   "outputs": [],
   "source": []
  },
  {
   "cell_type": "code",
   "execution_count": 33,
   "id": "e6029fc5-9d2b-49f4-a869-2a8dd580d2ca",
   "metadata": {},
   "outputs": [
    {
     "data": {
      "text/plain": [
       "11"
      ]
     },
     "execution_count": 33,
     "metadata": {},
     "output_type": "execute_result"
    }
   ],
   "source": [
    "# writing the header\n"
   ]
  },
  {
   "cell_type": "code",
   "execution_count": 34,
   "id": "1c306f96-0eb1-49c9-a16f-8c775f6bfa9d",
   "metadata": {},
   "outputs": [],
   "source": []
  },
  {
   "cell_type": "code",
   "execution_count": 35,
   "id": "1e00a105-b9c2-4659-99c6-32db7025a374",
   "metadata": {},
   "outputs": [],
   "source": []
  }
 ],
 "metadata": {
  "kernelspec": {
   "display_name": "Python 3",
   "language": "python",
   "name": "python3"
  },
  "language_info": {
   "codemirror_mode": {
    "name": "ipython",
    "version": 3
   },
   "file_extension": ".py",
   "mimetype": "text/x-python",
   "name": "python",
   "nbconvert_exporter": "python",
   "pygments_lexer": "ipython3",
   "version": "3.9.5"
  }
 },
 "nbformat": 4,
 "nbformat_minor": 5
}
