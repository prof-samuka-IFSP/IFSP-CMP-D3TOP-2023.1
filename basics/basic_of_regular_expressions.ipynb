{
 "cells": [
  {
   "cell_type": "markdown",
   "id": "3211af59-857a-4242-bdf6-1210cd86031d",
   "metadata": {},
   "source": [
    "## **D3TOP - Tópicos em Ciência de Dados (IFSP Campinas)**\n",
    "**Prof. Dr. Samuel Martins (@iamsamucoding @samucoding @xavecoding)** <br/>\n",
    "xavecoding: https://youtube.com/c/xavecoding <br/><br/>\n",
    "\n",
    "<a rel=\"license\" href=\"http://creativecommons.org/licenses/by-nc-sa/4.0/\"><img alt=\"Creative Commons License\" style=\"border-width:0\" src=\"https://i.creativecommons.org/l/by-nc-sa/4.0/88x31.png\" /></a><br />This work is licensed under a <a rel=\"license\" href=\"http://creativecommons.org/licenses/by-nc-sa/4.0/\">Creative Commons Attribution-NonCommercial-ShareAlike 4.0 International License</a>.\n",
    "\n",
    "<hr/>"
   ]
  },
  {
   "cell_type": "markdown",
   "id": "b5364ea9-da93-4a3f-b3a9-0d2274ddd179",
   "metadata": {
    "tags": []
   },
   "source": [
    "# Regular Expressions\n",
    "\n",
    "With **Regular Expressions** (often abbreviated as **regex**), users have the capability _to search_ for _specific strings_ using a wide range of rules they devise. For instance, they can locate phone numbers within a string.\n",
    "\n",
    "Regular expressions are infamous for their _intricate syntax_. The reason for this complexity lies in their versatility. Regular expressions must be capable of filtering out any conceivable string pattern, necessitating a sophisticated string pattern format.\n",
    "\n",
    "Regular expressions are handled using Python's built-in **re** library. See [the docs](https://docs.python.org/3/library/re.html) for more information."
   ]
  },
  {
   "cell_type": "markdown",
   "id": "cd9c10f3-c04f-4ca9-a0e3-dbfe818ae3a8",
   "metadata": {},
   "source": [
    "## Searching for Basic Patterns\n",
    "\n",
    "Suppose we have the following string:"
   ]
  },
  {
   "cell_type": "code",
   "execution_count": null,
   "id": "e0ea1477-a679-4093-b5cc-23f63f8d3908",
   "metadata": {},
   "outputs": [],
   "source": [
    "txt = \"Hey, my new phone number is 99-98123-4150. Call me later!\""
   ]
  },
  {
   "cell_type": "markdown",
   "id": "a6176311-f322-475d-8d3f-477c935c3fca",
   "metadata": {},
   "source": [
    "One way to find out if a word is inside the text is:"
   ]
  },
  {
   "cell_type": "code",
   "execution_count": null,
   "id": "50100a37-f6dd-4e01-a1ed-650284b9ed6f",
   "metadata": {},
   "outputs": [],
   "source": []
  },
  {
   "cell_type": "markdown",
   "id": "61da1a5e-b60a-427f-b9b9-425cb0bd2762",
   "metadata": {},
   "source": [
    "While valid, this solution _only works_ for checking **exact words or substrings**. It is not possible, for example, to check if there is a generic phone number that follows a given pattern/format. We would only be able to check if the _exact number_ `\"99-98123-4150\"` is present in the text."
   ]
  },
  {
   "cell_type": "code",
   "execution_count": null,
   "id": "97957727-b588-4678-86a8-3ef54dc86ca9",
   "metadata": {},
   "outputs": [],
   "source": []
  },
  {
   "cell_type": "markdown",
   "id": "ac7fd4aa-e4f5-49a6-bfc0-1f47dff212ef",
   "metadata": {},
   "source": [
    "<br/>\n",
    "\n",
    "Let's start with **regular expressions** for simples cases and later more complex cases."
   ]
  },
  {
   "cell_type": "code",
   "execution_count": null,
   "id": "a5acfeb1-870c-40ef-8480-fd05400d72d3",
   "metadata": {},
   "outputs": [],
   "source": [
    "# built-in Python module\n"
   ]
  },
  {
   "cell_type": "code",
   "execution_count": null,
   "id": "9e2d4684-c0ed-4257-8e6e-f15871871006",
   "metadata": {},
   "outputs": [],
   "source": [
    "# define the regex/pattern to search\n",
    "# in this case, the exact word 'number'\n"
   ]
  },
  {
   "cell_type": "code",
   "execution_count": null,
   "id": "71ddcebb-c4ad-433f-979f-47bd08fd08f1",
   "metadata": {},
   "outputs": [],
   "source": [
    "# search for the pattern occurs in the string/text\n"
   ]
  },
  {
   "cell_type": "markdown",
   "id": "2bebda12-621e-4d1c-90a2-eda83ef5101d",
   "metadata": {},
   "source": [
    "`re.search()` takes the _pattern_, _scan_ the text, and then return a **Match object**. If the pattern is found, it stores the **span**, that is, the **starting index** (included) and **ending index** (excluded) where the pattern was found."
   ]
  },
  {
   "cell_type": "code",
   "execution_count": null,
   "id": "192794c7-869e-478e-8610-8d6485df509f",
   "metadata": {},
   "outputs": [],
   "source": []
  },
  {
   "cell_type": "code",
   "execution_count": null,
   "id": "d7efb044-9386-4189-b3ea-f436cc54749d",
   "metadata": {},
   "outputs": [],
   "source": [
    "# repeat the search and save it in a variable\n"
   ]
  },
  {
   "cell_type": "code",
   "execution_count": null,
   "id": "a8f6542e-0e67-431a-840a-137e71c14c2f",
   "metadata": {},
   "outputs": [],
   "source": [
    "# span\n"
   ]
  },
  {
   "cell_type": "code",
   "execution_count": null,
   "id": "efff7746-d245-4848-bfc2-f3cb0b494e03",
   "metadata": {},
   "outputs": [],
   "source": []
  },
  {
   "cell_type": "code",
   "execution_count": null,
   "id": "e358c50e-e512-4c71-b2ef-2404fc74c9b0",
   "metadata": {},
   "outputs": [],
   "source": []
  },
  {
   "cell_type": "markdown",
   "id": "60fc7788-f796-4cca-bb33-0bf755431477",
   "metadata": {},
   "source": [
    "<br/>\n",
    "\n",
    "What if the pattern/regex **is not found**?"
   ]
  },
  {
   "cell_type": "code",
   "execution_count": null,
   "id": "d13e5df9-67a5-4388-8fa0-48a82f1566dc",
   "metadata": {},
   "outputs": [],
   "source": [
    "# a word not present in the text\n"
   ]
  },
  {
   "cell_type": "code",
   "execution_count": null,
   "id": "057ad573-d5be-48dc-bb4e-8055afb84fae",
   "metadata": {},
   "outputs": [],
   "source": []
  },
  {
   "cell_type": "markdown",
   "id": "86cb4f21-060d-4204-b3b7-fd294f679620",
   "metadata": {},
   "source": [
    "When the pattern is not found, the return of `re.search` is `None`. In Jupyter Notebook this just means that nothing is output below the cell."
   ]
  },
  {
   "cell_type": "code",
   "execution_count": null,
   "id": "dc2226c2-3e80-42fa-be87-008fe738a5ac",
   "metadata": {},
   "outputs": [],
   "source": []
  },
  {
   "cell_type": "code",
   "execution_count": null,
   "id": "a9295565-5b68-4c06-a164-e4987e3fe6b9",
   "metadata": {},
   "outputs": [],
   "source": [
    "match"
   ]
  },
  {
   "cell_type": "code",
   "execution_count": null,
   "id": "0917d600-19f0-4b3d-8587-d87eb3c3a762",
   "metadata": {},
   "outputs": [],
   "source": [
    "print(match)"
   ]
  },
  {
   "cell_type": "markdown",
   "id": "025d9ce1-7dbe-4365-abbe-3ba64523b509",
   "metadata": {},
   "source": [
    "<br/>\n",
    "\n",
    "But what if the pattern _occurs_ **more than once**?"
   ]
  },
  {
   "cell_type": "code",
   "execution_count": null,
   "id": "94667d53-04d6-4101-b1da-5408fe739896",
   "metadata": {},
   "outputs": [],
   "source": [
    "txt = \"I like my friends, they are good friends.\""
   ]
  },
  {
   "cell_type": "code",
   "execution_count": null,
   "id": "5e1eb36a-5574-45d1-857f-ae8a9d9a5c6b",
   "metadata": {},
   "outputs": [],
   "source": [
    "len(txt)"
   ]
  },
  {
   "cell_type": "code",
   "execution_count": null,
   "id": "7cfa940c-28f8-417b-bc47-34b22e63ff51",
   "metadata": {},
   "outputs": [],
   "source": [
    "# search for the word \"friends\"\n"
   ]
  },
  {
   "cell_type": "code",
   "execution_count": null,
   "id": "18ea5c72-4330-49d4-9207-09ea1fadf0f1",
   "metadata": {},
   "outputs": [],
   "source": []
  },
  {
   "cell_type": "code",
   "execution_count": null,
   "id": "fe3ac167-3ca4-41eb-bb58-f338f72df45c",
   "metadata": {},
   "outputs": [],
   "source": []
  },
  {
   "cell_type": "code",
   "execution_count": null,
   "id": "0aa9bdce-a175-41bb-9e8f-6bd7f5c32e4c",
   "metadata": {},
   "outputs": [],
   "source": []
  },
  {
   "cell_type": "markdown",
   "id": "f4b4aeb6-cb04-440f-b011-5261a102b619",
   "metadata": {},
   "source": [
    "Note that the function _only matches_ the **first instance**.\n",
    "\n",
    "If we wanted a **list of *all matches***, we can use `.findall()` method:"
   ]
  },
  {
   "cell_type": "code",
   "execution_count": null,
   "id": "18656050-f759-4498-97ab-6d3216543204",
   "metadata": {},
   "outputs": [],
   "source": []
  },
  {
   "cell_type": "code",
   "execution_count": null,
   "id": "af984700-fa7e-4d87-908f-90df7349d8e1",
   "metadata": {},
   "outputs": [],
   "source": []
  },
  {
   "cell_type": "code",
   "execution_count": null,
   "id": "453ce74a-ec04-45ad-a6fb-7e0df50481fc",
   "metadata": {},
   "outputs": [],
   "source": []
  },
  {
   "cell_type": "markdown",
   "id": "84e729cd-3cee-495f-b6e7-8e4a9157968d",
   "metadata": {},
   "source": [
    "<br/>\n",
    "\n",
    "To get a **match object** for each pattern found, we can use the **iterator**:"
   ]
  },
  {
   "cell_type": "code",
   "execution_count": null,
   "id": "dbe08387-f942-439c-9afd-7f40a6107aa8",
   "metadata": {},
   "outputs": [],
   "source": []
  },
  {
   "cell_type": "markdown",
   "id": "de727759-52fe-4eb9-897f-9f87a64fb656",
   "metadata": {},
   "source": [
    "<br/>\n",
    "\n",
    "Can the pattern `\"friends\"` also match the word \"friends\" written in other ways?"
   ]
  },
  {
   "cell_type": "code",
   "execution_count": null,
   "id": "af7f50fa-8436-4461-878a-1adbc5bedb2d",
   "metadata": {},
   "outputs": [],
   "source": [
    "txt"
   ]
  },
  {
   "cell_type": "code",
   "execution_count": null,
   "id": "fcfc098d-3f0c-4e07-812e-1d0d2da12864",
   "metadata": {},
   "outputs": [],
   "source": []
  },
  {
   "cell_type": "code",
   "execution_count": null,
   "id": "c12ce861-cbdc-496c-b445-44e86be69c3c",
   "metadata": {},
   "outputs": [],
   "source": []
  },
  {
   "cell_type": "markdown",
   "id": "05fdce2a-7435-4178-8108-3f9a6bf82196",
   "metadata": {},
   "source": [
    "**Answer:** **NO**, it can't. This is a simple _regex_ that only matches the ***exact word/patter***.\n",
    "\n",
    "But, in this specific case involving _lowercase and uppercase letters_, we can simply **ignore the _case_** by passing an extra argument to `re.search`."
   ]
  },
  {
   "cell_type": "code",
   "execution_count": null,
   "id": "cfe8cc92-9cd9-44bf-9f24-5eeb30b827a5",
   "metadata": {},
   "outputs": [],
   "source": []
  },
  {
   "cell_type": "markdown",
   "id": "49b157a6-2a7b-41e5-b759-a0dd10fbf36d",
   "metadata": {},
   "source": [
    "Now, the pattern was found ignoring the _case_.\n",
    "\n",
    "For other _flags_, refer to: https://docs.python.org/3/library/re.html#flags"
   ]
  },
  {
   "cell_type": "markdown",
   "id": "32f95acd-bffe-406f-a59a-3b5e70e07195",
   "metadata": {},
   "source": [
    "Let's see how to generalize patterns."
   ]
  },
  {
   "cell_type": "markdown",
   "id": "6a335bb7-189a-4b1b-9508-274bca93230a",
   "metadata": {},
   "source": [
    "## Patterns\n",
    "\n",
    "We only learned how to search for a basic pattern -- the exact word/string -- so far. What about **a more complex (and *generic*) pattern**? For example, trying to find if there is a phone number in the text, without necessarily knowing the exact number.\n",
    "\n",
    "We're going to start learning the regex syntax to define _generic patterns_. This systax will hurt you in a first moment, but be strong... you'll love it later 🤓\n",
    "\n",
    "For more details, refer to: https://www.w3schools.com/python/python_regex.asp"
   ]
  },
  {
   "cell_type": "markdown",
   "id": "5a6927d9-16b8-471f-ad38-680d04d1f697",
   "metadata": {},
   "source": [
    "### Special Sequences\n",
    "A special sequence is a `\\` followed by one of the characters in the list below, and has a special meaning:"
   ]
  },
  {
   "cell_type": "markdown",
   "id": "7148f1d5-169a-413e-8e66-d0b9dc767427",
   "metadata": {},
   "source": [
    "| **Character** | **Description**                                                                        | **Pattern Example** | **Match Example** |\n",
    "|---------------|----------------------------------------------------------------------------------------|---------------------|-------------------|\n",
    "|       \\d      |                               A digit (numbers from 0-9)                               |  \"student-id-\\d\\d\"  |   student-id-23   |\n",
    "|       \\D      |                                       A non digit                                      |        \"\\D\\D\"       |         Zy        |\n",
    "|       \\w      | Alphanumeric (characters from a to Z, digits from 0-9, and the underscore _ character) |      \"\\w\\w\\w\\w\"     |        Xa2y       |\n",
    "|       \\W      |                                    Non-alphanumeric                                    |       \"\\W\\W\\W\"      |        -+=        |\n",
    "|       \\s      |                                       White space                                      |     \"I\\sF\\sS\\sP\"    |      I F S P      |\n",
    "|       \\S      |                                     Non-whitespace                                     |        \"\\S\\S\"       |         a0        |"
   ]
  },
  {
   "cell_type": "markdown",
   "id": "c7910da7-12e5-4827-b16b-9820d672977a",
   "metadata": {},
   "source": [
    "### Sets\n",
    "A set is a set of characters inside a pair of square brackets `[]` with a special meaning:"
   ]
  },
  {
   "cell_type": "markdown",
   "id": "5b0dc4e8-0383-42ca-88d7-6e0850638e0e",
   "metadata": {},
   "source": [
    "| **Set**    | **Description**                                                                                                                                                   |\n",
    "|------------|-------------------------------------------------------------------------------------------------------------------------------------------------------------------|\n",
    "|    [arn]   |         Returns a match where one of the specified characters (`a`, `r`, **or** `n`) is present. <br/> You can choose any character and how many you want.        |\n",
    "|    [a-n]   |                                         Returns a match for any lower case character, alphabetically between `a` and `n`.                                         |\n",
    "|   [^arn]   |         Returns a match for any character **EXCEPT** `a`, `r`, and `n`. <br/> You can choose any character and how many you want. <br/> `^` means EXCEPT.         |\n",
    "|   [0123]   |          Returns a match where any of the specified digits (`0`, `1`, `2`, **or** `3`) are present. <br/> You can choose any digit and how many you want.         |\n",
    "|    [0-9]   |                                         Returns a match for any digit between `0` and `9`. <br/> `-` defines an interval.                                         |\n",
    "| [0-5][0-9] | Returns a match for any **two-digit numbers** from `00` and `59`. <br/> The first digit can be in the interval of `0-5` whereas the second in the interval `0-9`. |\n",
    "|  [a-zA-Z]  |                               Returns a match for ***any* character alphabetically** between `a` and `z`, lower case OR upper case.                               |\n",
    "|     [+]    |             In sets, `+`, `*`, `.`, `\\|`, `()`, `$`, `{}` has no special meaning, so `[+]` means: return a match for any `+` character in the string.             |"
   ]
  },
  {
   "cell_type": "markdown",
   "id": "791cdbdf-819a-4003-989b-61b3cce5a02d",
   "metadata": {},
   "source": [
    "#### Examples"
   ]
  },
  {
   "cell_type": "markdown",
   "id": "7203965a-4fa4-4533-bcca-8374a9399d7c",
   "metadata": {
    "tags": []
   },
   "source": [
    "##### 1) Find the phone number."
   ]
  },
  {
   "cell_type": "code",
   "execution_count": null,
   "id": "bb11d55d-4f54-4c4b-89b7-ad7ce1c30817",
   "metadata": {},
   "outputs": [],
   "source": [
    "txt = \"Hey, my new phone number is 99-98123-4150. Call me later!\""
   ]
  },
  {
   "cell_type": "code",
   "execution_count": null,
   "id": "c50dd120-83ac-4944-b2cc-8c294b4f3b05",
   "metadata": {
    "tags": []
   },
   "outputs": [],
   "source": [
    "# regex/pattern for the phone number\n"
   ]
  },
  {
   "cell_type": "code",
   "execution_count": null,
   "id": "4fa7ddf5-ea72-482d-80b8-0bc8cb5b4899",
   "metadata": {},
   "outputs": [],
   "source": [
    "match = re.search(regex, txt)\n",
    "print(match)\n",
    "print(match.group())"
   ]
  },
  {
   "cell_type": "markdown",
   "id": "95f3158a-d01a-449a-8ce7-155f30fa2516",
   "metadata": {},
   "source": [
    "`.group()`: returns the part of the string where there was a match"
   ]
  },
  {
   "cell_type": "code",
   "execution_count": null,
   "id": "5d17a9af-ce36-4889-82c8-96d66450ee8c",
   "metadata": {},
   "outputs": [],
   "source": []
  },
  {
   "cell_type": "markdown",
   "id": "9ffdb9a8-921a-45f1-8a35-687524acd3ce",
   "metadata": {},
   "source": [
    "##### 2) Old Brazilian Licence Plate: three capital letters followed by four digits."
   ]
  },
  {
   "cell_type": "code",
   "execution_count": null,
   "id": "b7b9e7e4-aba4-4d90-9841-bfdf0c80c59e",
   "metadata": {
    "tags": []
   },
   "outputs": [],
   "source": []
  },
  {
   "cell_type": "code",
   "execution_count": null,
   "id": "eeacce0c-2928-4296-a9e4-ac2ac5f11e3f",
   "metadata": {},
   "outputs": [],
   "source": [
    "match = re.search(regex, 'ABC9123')\n",
    "print(match)\n",
    "print(match.group())"
   ]
  },
  {
   "cell_type": "code",
   "execution_count": null,
   "id": "7f7235eb-8e81-460d-8229-415647a96080",
   "metadata": {},
   "outputs": [],
   "source": [
    "match = re.search(regex, 'BEE1010')\n",
    "print(match)\n",
    "print(match.group())"
   ]
  },
  {
   "cell_type": "code",
   "execution_count": null,
   "id": "42635ee1-d2a0-4c6b-b2fe-f45bed5fc043",
   "metadata": {},
   "outputs": [],
   "source": [
    "match = re.search(regex, 'My licence plate is: RIO2000')\n",
    "print(match)\n",
    "print(match.group())"
   ]
  },
  {
   "cell_type": "code",
   "execution_count": null,
   "id": "9a3b1537-26a8-48aa-81c6-95071dc1f454",
   "metadata": {},
   "outputs": [],
   "source": [
    "# invalid pattern\n",
    "match = re.search(regex, 'abc9123')\n",
    "print(match)"
   ]
  },
  {
   "cell_type": "code",
   "execution_count": null,
   "id": "0f5ad941-d7f7-44e0-a7d6-1f234d3aeb82",
   "metadata": {},
   "outputs": [],
   "source": [
    "# invalid pattern\n",
    "match = re.search(regex, 'ABCD123')\n",
    "print(match)"
   ]
  },
  {
   "cell_type": "code",
   "execution_count": null,
   "id": "17cb4264-8464-4df6-90cb-d34f2042ed58",
   "metadata": {},
   "outputs": [],
   "source": [
    "# invalid pattern\n",
    "match = re.search(regex, 'A text without a licence plate.')\n",
    "print(match)"
   ]
  },
  {
   "cell_type": "markdown",
   "id": "3f752520-a5e1-49aa-acc6-bf097f73407b",
   "metadata": {},
   "source": [
    "<br/>\n",
    "\n",
    "Note the repetition of the pattern elements (e.g., `\\d`, `[A-Z]`) in the previous examples. That is a bit of an _annoyance_, especially if we are looking for _very long_ strings of numbers. Let's explore the possible *quantifiers*.\n",
    "\n",
    "Please take note that in the previous examples, the pattern elements (such as `\\d` and `[A-Z]`) have been **repeated multiple times**. This could be somewhat _bothersome_, especially when searching for extended strings of numbers. Therefore, we will now examine the available **quantifiers**."
   ]
  },
  {
   "cell_type": "markdown",
   "id": "fa629284-e3a8-4e30-91e8-04979fc6590d",
   "metadata": {},
   "source": [
    "### Quantifiers\n",
    "We can specify the number of times that the regex happen."
   ]
  },
  {
   "cell_type": "markdown",
   "id": "de4fa4b6-62a5-41b3-8ac3-6d89dcfea0b0",
   "metadata": {},
   "source": [
    "| **Character** |                          **Description**                         | **Pattern Example** | **Match Example** |\n",
    "|:-------------:|:----------------------------------------------------------------:|:-------------------:|:-----------------:|\n",
    "|       *       |                     Zero or more occurrences.                    |       I*F*S*P*      |       IIIFSS      |\n",
    "|       +       |                      One or more occurrences                     |        IFS+P+       |       IFSSSP      |\n",
    "|       ?       |                     Zero or one occurrences.                     |        birds?       |        bird       |\n",
    "|      {4}      |    Exactly four occureences. <br/> You can specify any number.   |        \\d{4}        |        4029       |\n",
    "|     {1,5}     | From 1 to 5 times occurrences. <br/> You can specify any number. |    [a-zA-Z]{1,5}    |        nLp        |\n",
    "|      {2,}     |                      2 or more occurrences.                      |        \\w{2,}       |      anytext      |"
   ]
  },
  {
   "cell_type": "markdown",
   "id": "5fbb38ce-390a-44a1-a076-dee5767f6ab6",
   "metadata": {},
   "source": [
    "#### Examples"
   ]
  },
  {
   "cell_type": "markdown",
   "id": "1d808759-a4be-43ab-9a04-9f7032cf91c5",
   "metadata": {
    "tags": []
   },
   "source": [
    "##### 1) Find the phone number."
   ]
  },
  {
   "cell_type": "code",
   "execution_count": null,
   "id": "17cf7a91-3c59-49a9-be15-97cf8e9325f9",
   "metadata": {},
   "outputs": [],
   "source": [
    "txt = \"Hey, I have two phone numbers: 99-98123-4150 and 99-12345-6789!\""
   ]
  },
  {
   "cell_type": "code",
   "execution_count": null,
   "id": "d2fbad44-1714-4c80-ba5e-1e368ab47264",
   "metadata": {
    "tags": []
   },
   "outputs": [],
   "source": [
    "# regex for the phone number\n"
   ]
  },
  {
   "cell_type": "code",
   "execution_count": null,
   "id": "52c5ec58-bfba-4efe-b105-bd95cd4c90fd",
   "metadata": {},
   "outputs": [],
   "source": [
    "# return the first found regex/pattern\n",
    "match = re.search(regex, txt)\n",
    "print(match)\n",
    "print(match.group())"
   ]
  },
  {
   "cell_type": "code",
   "execution_count": null,
   "id": "1fc5765b-3823-481f-b157-270f0b6351ca",
   "metadata": {},
   "outputs": [],
   "source": [
    "phone_numbers = re.findall(regex, txt)\n",
    "phone_numbers"
   ]
  },
  {
   "cell_type": "code",
   "execution_count": null,
   "id": "fd16df2f-65be-4809-bf0f-ed40d6594ef7",
   "metadata": {},
   "outputs": [],
   "source": [
    "for match in re.finditer(regex, txt):\n",
    "    print(match)\n",
    "    print(match.group())\n",
    "    print()"
   ]
  },
  {
   "cell_type": "markdown",
   "id": "cb7b5a2d-7483-4f27-97bd-2d38a62c5ad0",
   "metadata": {},
   "source": [
    "##### 2) Old Brazilian Licence Plate: three capital letters followed by four digits."
   ]
  },
  {
   "cell_type": "code",
   "execution_count": null,
   "id": "817a4910-0ec3-46db-843b-7d25d71279f2",
   "metadata": {
    "tags": []
   },
   "outputs": [],
   "source": []
  },
  {
   "cell_type": "code",
   "execution_count": null,
   "id": "a4cdc1d9-677c-463a-8ab0-d7742e7bf479",
   "metadata": {},
   "outputs": [],
   "source": [
    "match = re.search(regex, 'ABC9123')\n",
    "print(match)\n",
    "print(match.group())"
   ]
  },
  {
   "cell_type": "code",
   "execution_count": null,
   "id": "aa59a774-2ad5-4437-b81b-3ba395057df0",
   "metadata": {},
   "outputs": [],
   "source": [
    "match = re.search(regex, 'BEE1010')\n",
    "print(match)\n",
    "print(match.group())"
   ]
  },
  {
   "cell_type": "code",
   "execution_count": null,
   "id": "91124aec-03c5-47d1-98e8-ae898c14f6a6",
   "metadata": {},
   "outputs": [],
   "source": [
    "match = re.search(regex, 'My licence plate is: RIO2000')\n",
    "print(match)\n",
    "print(match.group())"
   ]
  },
  {
   "cell_type": "code",
   "execution_count": null,
   "id": "b8508a74-cfeb-4448-bbb9-b6262b5f30ec",
   "metadata": {},
   "outputs": [],
   "source": [
    "# invalid pattern\n",
    "match = re.search(regex, 'abc9123')\n",
    "print(match)"
   ]
  },
  {
   "cell_type": "code",
   "execution_count": null,
   "id": "a8291a89-8262-4aa2-b7b3-cf5789764aff",
   "metadata": {},
   "outputs": [],
   "source": [
    "# invalid pattern\n",
    "match = re.search(regex, 'ABCD123')\n",
    "print(match)"
   ]
  },
  {
   "cell_type": "code",
   "execution_count": null,
   "id": "e70af0eb-67a1-4803-87c8-fc150c566553",
   "metadata": {},
   "outputs": [],
   "source": [
    "# invalid pattern\n",
    "match = re.search(regex, 'A text without a licence plate.')\n",
    "print(match)"
   ]
  },
  {
   "cell_type": "markdown",
   "id": "c04bfbec-12d4-4e99-9c69-9286dc995207",
   "metadata": {},
   "source": [
    "##### 3) Define a regex for the following pattern:\n",
    "FullName Age ID\n",
    "\n",
    "FullName = FirstName LastName (at least three letters for each, with the first letter capitalized and the other lowercase.) <br/>\n",
    "Age = Integer number. <br/>\n",
    "ID = two capital letters followed by three digits.\n",
    "\n",
    "Ex: `\"Luke Skywalker 16 LS987\"`\n",
    "\n",
    "**PS:** In case of a _single_ **white space**, we can use the white space directly in the string instead of `\\s`."
   ]
  },
  {
   "cell_type": "code",
   "execution_count": null,
   "id": "4c525478-29fb-4a2e-890a-ffb9af24aa6b",
   "metadata": {},
   "outputs": [],
   "source": []
  },
  {
   "cell_type": "code",
   "execution_count": null,
   "id": "1eb3b597-143c-455a-b5fd-531d92ed1e48",
   "metadata": {},
   "outputs": [],
   "source": [
    "match = re.search(regex, \"Luke Skywalker 16 LS987\")\n",
    "print(match)\n",
    "print(match.group())"
   ]
  },
  {
   "cell_type": "code",
   "execution_count": null,
   "id": "248442a9-7f5b-410f-9c2d-9a4301c3e81e",
   "metadata": {},
   "outputs": [],
   "source": [
    "match = re.search(regex, \"Here is your data: Leia Morgana 16 LM234\")\n",
    "print(match)\n",
    "print(match.group())"
   ]
  },
  {
   "cell_type": "code",
   "execution_count": null,
   "id": "ff39e82e-766c-4328-bf40-8e07c941321d",
   "metadata": {},
   "outputs": [],
   "source": [
    "# invalid pattern\n",
    "match = re.search(regex, \"LukeSkywalker 16 LS987\")\n",
    "print(match)"
   ]
  },
  {
   "cell_type": "code",
   "execution_count": null,
   "id": "33a9ea74-ecfb-4877-8007-9d672d15dea0",
   "metadata": {},
   "outputs": [],
   "source": [
    "# invalid pattern\n",
    "match = re.search(regex, \"Luke skywalker 16 LS987\")\n",
    "print(match)"
   ]
  },
  {
   "cell_type": "markdown",
   "id": "2243457b-ed1b-4c68-955b-ab2fb2c108ed",
   "metadata": {},
   "source": [
    "## Groups\n",
    "\n",
    "We can perform a more advanced search by grouping regular expressions. Thus, we can extract the entire regex and parts of it. For example, extract the _International Dialling Codes (IDC)_, the _dialling codes (DC)_, and the _phone number_. \n",
    "\n",
    "We can separate **groups** of _regular expressions_ using **parentheses**.\n",
    "\n",
    "full phone number: IDC DC PHONENUMBER <br/>\n",
    "- IDC: + and from one to three digits\n",
    "- DC: two digits\n",
    "- PHONENUMBER: five digits, hyphen, four digits\n",
    "- E.g: +55 19 12345-6789\n",
    "\n",
    "**PS:** Use the backslack `\\` to escape regex symbols such as `+`."
   ]
  },
  {
   "cell_type": "code",
   "execution_count": null,
   "id": "b04393fc-554e-4f89-a486-bddb140979ad",
   "metadata": {},
   "outputs": [],
   "source": []
  },
  {
   "cell_type": "code",
   "execution_count": null,
   "id": "d3540a1b-fe67-40e6-bf31-3c1b01e8ff67",
   "metadata": {},
   "outputs": [],
   "source": [
    "match = re.search(regex, \"My number is: +55 19 12345-6789\")\n",
    "print(match)"
   ]
  },
  {
   "cell_type": "code",
   "execution_count": null,
   "id": "8de4cbf3-9b70-4fa6-9f26-42f88ec4d563",
   "metadata": {},
   "outputs": [],
   "source": [
    "# return the full found regex/pattern\n",
    "\n",
    "\n",
    "# or\n"
   ]
  },
  {
   "cell_type": "code",
   "execution_count": null,
   "id": "269b242f-f271-42c6-83da-b44ebbc06190",
   "metadata": {},
   "outputs": [],
   "source": [
    "# return all the groups (parts of the regex) --> tuple\n"
   ]
  },
  {
   "cell_type": "code",
   "execution_count": null,
   "id": "ddd3957d-dfaf-4efa-bc08-14763a2e3f8c",
   "metadata": {},
   "outputs": [],
   "source": [
    "# return the first group\n"
   ]
  },
  {
   "cell_type": "code",
   "execution_count": null,
   "id": "36ed083f-c5aa-4eec-808a-4d3d3f5cb382",
   "metadata": {},
   "outputs": [],
   "source": [
    "# return the second group\n"
   ]
  },
  {
   "cell_type": "code",
   "execution_count": null,
   "id": "06ace819-6ee7-40dd-ad02-df349c53e694",
   "metadata": {},
   "outputs": [],
   "source": [
    "# return the third group\n"
   ]
  },
  {
   "cell_type": "markdown",
   "id": "447f6f4a-0f3e-4a6a-98e5-fd3683be2f7b",
   "metadata": {},
   "source": [
    "## Advanced Regex Syntax"
   ]
  },
  {
   "cell_type": "markdown",
   "id": "a68d2b1e-9a84-42dd-9a79-edc55955fdcd",
   "metadata": {},
   "source": [
    "### Or operator `|`"
   ]
  },
  {
   "cell_type": "code",
   "execution_count": null,
   "id": "baa6d41a-6832-421c-b908-ba74b95b1b43",
   "metadata": {},
   "outputs": [],
   "source": []
  },
  {
   "cell_type": "code",
   "execution_count": null,
   "id": "3dbed533-24ea-4bbe-94fc-1ffeb603740f",
   "metadata": {},
   "outputs": [],
   "source": [
    "match = re.search(regex, 'I have a cute cat.')\n",
    "print(match)\n",
    "print(match.group())"
   ]
  },
  {
   "cell_type": "code",
   "execution_count": null,
   "id": "2c19f167-2b1d-4deb-9f93-1b75aae25c5e",
   "metadata": {},
   "outputs": [],
   "source": [
    "# cats - plural\n",
    "match = re.search(regex, 'I have three cute cats.')\n",
    "print(match)\n",
    "print(match.group())"
   ]
  },
  {
   "cell_type": "code",
   "execution_count": null,
   "id": "6ba26a8c-b8d7-4d5c-a7e3-c170c53301d7",
   "metadata": {},
   "outputs": [],
   "source": [
    "match = re.search(regex, 'I have a dangeous dog.')\n",
    "print(match)\n",
    "print(match.group())"
   ]
  },
  {
   "cell_type": "code",
   "execution_count": null,
   "id": "4fbc261a-131e-4440-ad16-632c607186e0",
   "metadata": {},
   "outputs": [],
   "source": [
    "# return the first occurrence of the regex\n",
    "match = re.search(regex, 'I have a cat and a dog.')\n",
    "print(match)\n",
    "print(match.group())"
   ]
  },
  {
   "cell_type": "code",
   "execution_count": null,
   "id": "8d5457bf-defb-491f-91f1-837e2bbe1679",
   "metadata": {},
   "outputs": [],
   "source": [
    "# return all occurrences of the regex\n",
    "re.findall(regex, 'I have a cat and a dog.')"
   ]
  },
  {
   "cell_type": "markdown",
   "id": "6eed9046-d678-4724-ad02-8743ee09663f",
   "metadata": {},
   "source": [
    "### The Wildcard Character `.`\n",
    "Use a \"wildcard\" symbol `.` matches **_any character_**, including alphanumeric, symbols, and spaces, except newline character."
   ]
  },
  {
   "cell_type": "code",
   "execution_count": null,
   "id": "867386e6-c912-40c9-b427-aa3293dce821",
   "metadata": {},
   "outputs": [],
   "source": []
  },
  {
   "cell_type": "code",
   "execution_count": null,
   "id": "dd936d01-1c2c-47f3-b453-0c9260830409",
   "metadata": {},
   "outputs": [],
   "source": [
    "match = re.search(regex, 'Hello, world!')\n",
    "print(match)\n",
    "print(match.group())"
   ]
  },
  {
   "cell_type": "code",
   "execution_count": null,
   "id": "6cd3fde9-4a92-4ce5-8f63-7bc6521f91e9",
   "metadata": {},
   "outputs": [],
   "source": [
    "match = re.search(regex, 'He+9o, world!')\n",
    "print(match)\n",
    "print(match.group())"
   ]
  },
  {
   "cell_type": "code",
   "execution_count": null,
   "id": "754cc896-a641-48b7-aae3-a5d49fadd502",
   "metadata": {},
   "outputs": [],
   "source": [
    "match = re.search(regex, 'He0 o, world!')\n",
    "print(match)\n",
    "print(match.group())"
   ]
  },
  {
   "cell_type": "code",
   "execution_count": null,
   "id": "8e5d7d88-bfcd-4951-a76c-7674f10be7c4",
   "metadata": {},
   "outputs": [],
   "source": [
    "match = re.search(regex, 'He12o+-23, world!')\n",
    "print(match)\n",
    "print(match.group())"
   ]
  },
  {
   "cell_type": "markdown",
   "id": "cfbd83fd-b9cf-4484-9bbe-15081ac27047",
   "metadata": {},
   "source": [
    "### Starts With `^` and Ends With `$`\n",
    "\n",
    "We can use the `^` to indicate the start of the regex, and the `$` to the end."
   ]
  },
  {
   "cell_type": "markdown",
   "id": "d8bdc85e-e7f3-487c-b8b2-2702b886f89b",
   "metadata": {},
   "source": [
    "Example with `^` (starting):"
   ]
  },
  {
   "cell_type": "code",
   "execution_count": null,
   "id": "132f9e89-35f9-44e7-8943-a5696a934d54",
   "metadata": {},
   "outputs": [],
   "source": [
    "# the string/text must start with 3 capital letters\n"
   ]
  },
  {
   "cell_type": "code",
   "execution_count": null,
   "id": "16c5311f-38f6-42ab-b0a1-7edb665e8b9f",
   "metadata": {},
   "outputs": [],
   "source": [
    "match = re.search(regex, 'HELLO, I am Samuka, your professor!')\n",
    "print(match)\n",
    "print(match.group())"
   ]
  },
  {
   "cell_type": "code",
   "execution_count": null,
   "id": "a1646037-002a-4fb8-a16c-4867e8d26e01",
   "metadata": {},
   "outputs": [],
   "source": [
    "# invalid\n",
    "match = re.search(regex, 'Hello, I am Samuka, your professor!')\n",
    "print(match)"
   ]
  },
  {
   "cell_type": "markdown",
   "id": "60c203bc-a261-4ec1-bae5-d942b74d5c74",
   "metadata": {},
   "source": [
    "Example with `$` (ending):"
   ]
  },
  {
   "cell_type": "code",
   "execution_count": null,
   "id": "eab2a248-3582-4ebc-b470-342482d4d31a",
   "metadata": {},
   "outputs": [],
   "source": [
    "# the string/text must end with 2 digits\n"
   ]
  },
  {
   "cell_type": "code",
   "execution_count": null,
   "id": "1ab5e0b0-dd7d-4a89-b95c-1cd6b90a5c97",
   "metadata": {},
   "outputs": [],
   "source": [
    "match = re.search(regex, 'I am 32')\n",
    "print(match)\n",
    "print(match.group())"
   ]
  },
  {
   "cell_type": "code",
   "execution_count": null,
   "id": "da2d660f-bd38-48f5-8218-8a8242db0983",
   "metadata": {},
   "outputs": [],
   "source": [
    "match = re.search(regex, 'I was born in 1990')\n",
    "print(match)\n",
    "print(match.group())"
   ]
  },
  {
   "cell_type": "code",
   "execution_count": null,
   "id": "611c594a-011c-4b38-a499-905bda2a648a",
   "metadata": {},
   "outputs": [],
   "source": [
    "# invalid\n",
    "match = re.search(regex, 'I am 32 years old')\n",
    "print(match)"
   ]
  },
  {
   "cell_type": "markdown",
   "id": "c02e9508-29e0-4d99-a43f-207eb729553b",
   "metadata": {},
   "source": [
    "Example with both `^` and `$`: <br/>\n",
    "Brazilian CPF: XXX.XXX.XXX-XX"
   ]
  },
  {
   "cell_type": "code",
   "execution_count": null,
   "id": "1cef266d-bb59-4d0f-8a52-6896e61c421c",
   "metadata": {},
   "outputs": [],
   "source": []
  },
  {
   "cell_type": "code",
   "execution_count": null,
   "id": "b3f4b2f3-e2f9-4ea5-8db7-fd20e83000d7",
   "metadata": {},
   "outputs": [],
   "source": [
    "match = re.search(regex, '123.456.789-00')\n",
    "print(match)\n",
    "print(match.group())"
   ]
  },
  {
   "cell_type": "code",
   "execution_count": null,
   "id": "1476ae51-1c9e-4db3-9071-a739c7412eb2",
   "metadata": {},
   "outputs": [],
   "source": [
    "# invalid\n",
    "match = re.search(regex, 'My CPF is: 123.456.789-00')\n",
    "print(match)"
   ]
  },
  {
   "cell_type": "markdown",
   "id": "28b62496-2c9f-46e4-aae2-c7416b8143d1",
   "metadata": {},
   "source": [
    "##### **Example**"
   ]
  },
  {
   "cell_type": "markdown",
   "id": "6af14219-db97-449f-934b-b7f0691d3989",
   "metadata": {},
   "source": [
    "Define a regex for files with the following rules:\n",
    "- The filename can be formed by any kind of characters with at least one character except spaces.\n",
    "- It must have and a file extension formed by a dot '.' and at least one character.\n",
    "- The first character must be a letter and the remaining ones can be alphanumeric.\n",
    "- The string must only contain the filename\n",
    "\n",
    "Exs:\n",
    "- `image01.png`\n",
    "- `audio.MP3`\n",
    "- `102_abc.d2`\n",
    "- `veryLong-fil3N4m3___.XYs234c`\n",
    "\n",
    "**OBS:** In order to consider the literal value of a regex symbol, use the backslace `\\` _to escape it_."
   ]
  },
  {
   "cell_type": "code",
   "execution_count": null,
   "id": "d08980fd-0861-47c4-9835-a1a684483a90",
   "metadata": {},
   "outputs": [],
   "source": []
  },
  {
   "cell_type": "code",
   "execution_count": null,
   "id": "3904f895-18b9-48c5-9f9f-1402352b885a",
   "metadata": {},
   "outputs": [],
   "source": [
    "match = re.search(regex, 'image01.png')\n",
    "print(match)\n",
    "print(match.group())"
   ]
  },
  {
   "cell_type": "code",
   "execution_count": null,
   "id": "fa807283-7e9f-4cc9-8286-8d66e7bad56b",
   "metadata": {},
   "outputs": [],
   "source": [
    "match = re.search(regex, 'audio.MP3')\n",
    "print(match)\n",
    "print(match.group())"
   ]
  },
  {
   "cell_type": "code",
   "execution_count": null,
   "id": "560bf167-1ba7-4c2e-8b90-31a3f1e1cd2c",
   "metadata": {},
   "outputs": [],
   "source": [
    "match = re.search(regex, '102_abc.d2')\n",
    "print(match)\n",
    "print(match.group())"
   ]
  },
  {
   "cell_type": "code",
   "execution_count": null,
   "id": "6d194be9-0e02-43ef-9e98-68bba8dcab54",
   "metadata": {},
   "outputs": [],
   "source": [
    "match = re.search(regex, 'veryLong-fil3N4m3___.XYs234c')\n",
    "print(match)\n",
    "print(match.group())"
   ]
  },
  {
   "cell_type": "code",
   "execution_count": null,
   "id": "9678f818-04e2-47fd-8984-35a0d8142d8a",
   "metadata": {},
   "outputs": [],
   "source": [
    "# invalid\n",
    "match = re.search(regex, 'image01.1png')\n",
    "print(match)"
   ]
  },
  {
   "cell_type": "code",
   "execution_count": null,
   "id": "475c8efa-914b-4f91-87a0-92152eb6083e",
   "metadata": {},
   "outputs": [],
   "source": [
    "# invalid\n",
    "match = re.search(regex, 'My filename is: image01.png')\n",
    "print(match)"
   ]
  },
  {
   "cell_type": "markdown",
   "id": "f994ada3-d861-44b2-9d71-57bdca672029",
   "metadata": {},
   "source": [
    "Our regex included the entire sentence."
   ]
  },
  {
   "cell_type": "markdown",
   "id": "0f985761-aff6-4c8a-b114-31c9c0bc00e9",
   "metadata": {},
   "source": [
    "### Exclusion\n",
    "\n",
    "We can use the `^` symbol inside brackets `[]` to **exclude characters**. <br/>\n",
    "Anything inside the brackets is excluded."
   ]
  },
  {
   "cell_type": "markdown",
   "id": "6ee3413c-17c5-4a68-a5b9-f749a6755552",
   "metadata": {},
   "source": [
    "Ex: Removing punctuation:"
   ]
  },
  {
   "cell_type": "code",
   "execution_count": null,
   "id": "34d643a2-1beb-4dad-9681-de6b180ed6aa",
   "metadata": {},
   "outputs": [],
   "source": [
    "txt = 'What an amazing day! I am really happy today, my friends. And you?'"
   ]
  },
  {
   "cell_type": "code",
   "execution_count": null,
   "id": "e0fb966e-cdcb-49e6-a6ea-ac7fbbad5816",
   "metadata": {},
   "outputs": [],
   "source": [
    "# exclude ! . ? ,\n"
   ]
  },
  {
   "cell_type": "code",
   "execution_count": null,
   "id": "538359a0-5a94-433a-adc8-5d8bb68801e4",
   "metadata": {},
   "outputs": [],
   "source": []
  },
  {
   "cell_type": "markdown",
   "id": "67546937-428a-4153-85da-453bd7603eb3",
   "metadata": {},
   "source": [
    "### Multiple Options `()`\n",
    "\n",
    "To consider **multiple options** for _matching_, we need to list the options inside `()`."
   ]
  },
  {
   "cell_type": "code",
   "execution_count": null,
   "id": "b813eee3-6072-471b-b80c-6625f1906c80",
   "metadata": {},
   "outputs": [],
   "source": [
    "txt_1 = 'They shared similar musical tastes.'\n",
    "txt_2 = 'She laughed musically.'\n",
    "txt_3 = 'Your father was a fine musician.'"
   ]
  },
  {
   "cell_type": "code",
   "execution_count": null,
   "id": "189c05bd-a451-47d3-85f4-f25d73cd5c8d",
   "metadata": {},
   "outputs": [],
   "source": [
    "# pattern for: musical, musically, musician\n"
   ]
  },
  {
   "cell_type": "code",
   "execution_count": null,
   "id": "9e0928bc-8b46-4bb6-88b9-3e2c8d318dec",
   "metadata": {},
   "outputs": [],
   "source": [
    "match = re.search(regex, txt_1)\n",
    "print(match)\n",
    "print(match.group())"
   ]
  },
  {
   "cell_type": "code",
   "execution_count": null,
   "id": "0da7833c-70cf-4144-812e-fa73cde5a447",
   "metadata": {},
   "outputs": [],
   "source": [
    "match = re.search(regex, txt_2)\n",
    "print(match)\n",
    "print(match.group())"
   ]
  },
  {
   "cell_type": "code",
   "execution_count": null,
   "id": "a76fc62d-c6df-4a1e-8940-0ce10509636d",
   "metadata": {},
   "outputs": [],
   "source": [
    "match = re.search(regex, txt_3)\n",
    "print(match)\n",
    "print(match.group())"
   ]
  },
  {
   "cell_type": "markdown",
   "id": "e4ace76b-6c1b-406b-b373-55a5942e03c0",
   "metadata": {},
   "source": [
    "## Other useful RegEx functions\n",
    "https://www.w3schools.com/python/python_regex.asp"
   ]
  },
  {
   "cell_type": "markdown",
   "id": "921834dd-44a1-4bd1-8f07-0e6f48ad6889",
   "metadata": {},
   "source": [
    "### `split()`\n",
    "Returns a list where the string has been split at each match. <br/>\n",
    "The difference with the `split()` method of `strings` is that we can define a _regex_ as the **separator** instead of a _fixed string/separator_."
   ]
  },
  {
   "cell_type": "markdown",
   "id": "85554a3a-40fe-4826-8b76-df582aaef27d",
   "metadata": {},
   "source": [
    "##### Ex 1) Split by comma and multiple spaces, semicolon and multiple spaces (;)"
   ]
  },
  {
   "cell_type": "code",
   "execution_count": null,
   "id": "f9a181cf-7c66-4bae-a07d-7678630cd1ad",
   "metadata": {},
   "outputs": [],
   "source": [
    "txt = 'apples, oranges, bananas; grapes'"
   ]
  },
  {
   "cell_type": "code",
   "execution_count": null,
   "id": "840f08aa-860c-4a58-8122-f9cdbccf5d07",
   "metadata": {},
   "outputs": [],
   "source": []
  },
  {
   "cell_type": "code",
   "execution_count": null,
   "id": "1d907b63-8b12-453d-bd56-294d42aca96e",
   "metadata": {},
   "outputs": [],
   "source": []
  },
  {
   "cell_type": "markdown",
   "id": "20616982-47ab-4d4e-81c4-0fd58154f385",
   "metadata": {},
   "source": [
    "##### Ex 2) Split by one or multiple hyphens"
   ]
  },
  {
   "cell_type": "code",
   "execution_count": null,
   "id": "ba0d4f4d-4d9a-414c-9359-a73741275d04",
   "metadata": {},
   "outputs": [],
   "source": [
    "string = '1-2--3---4----5------6'"
   ]
  },
  {
   "cell_type": "code",
   "execution_count": null,
   "id": "aa57eba5-4fd5-4a2a-b6ee-747f6bf81ab1",
   "metadata": {},
   "outputs": [],
   "source": []
  },
  {
   "cell_type": "code",
   "execution_count": null,
   "id": "f0f29af9-23ed-484b-abdc-8638c66e602a",
   "metadata": {},
   "outputs": [],
   "source": []
  },
  {
   "cell_type": "markdown",
   "id": "c0661450-dc37-4e33-8e69-f2337ad1fb10",
   "metadata": {},
   "source": [
    "<br/>\n",
    "\n",
    "Note the difference with the `split` of `string`."
   ]
  },
  {
   "cell_type": "code",
   "execution_count": null,
   "id": "4562a238-b248-4126-8716-5a8e7be43721",
   "metadata": {},
   "outputs": [],
   "source": []
  },
  {
   "cell_type": "markdown",
   "id": "dfbf91e0-7d0d-4807-a881-f1ee23c793ce",
   "metadata": {},
   "source": [
    "### `sub()`\n",
    "Replaces one or many matches with a string. <br/>\n",
    "The difference with the `replace()` method of `strings` is that we can replace a _regex_ instead of a _fixed substring_."
   ]
  },
  {
   "cell_type": "markdown",
   "id": "432e5d96-9b1c-4244-b2a8-95f755c8408f",
   "metadata": {},
   "source": [
    "##### Ex 1) Replace one or multiple hyphens with a space"
   ]
  },
  {
   "cell_type": "code",
   "execution_count": null,
   "id": "28165a2f-ea02-4ded-96a4-2e6f6077470e",
   "metadata": {},
   "outputs": [],
   "source": [
    "string = '1-2--3---4----5------6'"
   ]
  },
  {
   "cell_type": "code",
   "execution_count": null,
   "id": "4295d924-0aed-453e-8ae1-4df2f6ca6532",
   "metadata": {},
   "outputs": [],
   "source": []
  },
  {
   "cell_type": "code",
   "execution_count": null,
   "id": "cc826d39-1441-4e3c-85fa-5dd27fa3274e",
   "metadata": {},
   "outputs": [],
   "source": []
  },
  {
   "cell_type": "code",
   "execution_count": null,
   "id": "ca3ba79a-f1f5-4c58-80f7-e4e3e560e988",
   "metadata": {},
   "outputs": [],
   "source": []
  },
  {
   "cell_type": "markdown",
   "id": "30c621e6-7d0c-4d6b-90d9-b521c96a8639",
   "metadata": {},
   "source": [
    "##### Ex 2) Replace only the first occurrences of the regex for the previous string"
   ]
  },
  {
   "cell_type": "code",
   "execution_count": null,
   "id": "5cd5f19d-0151-4715-b4a3-0848b9b05713",
   "metadata": {},
   "outputs": [],
   "source": []
  },
  {
   "cell_type": "markdown",
   "id": "aabbf988-cd45-4f77-a43f-370c0ac42182",
   "metadata": {},
   "source": [
    "# Keep studying\n",
    "https://docs.python.org/3/howto/regex.html"
   ]
  },
  {
   "cell_type": "markdown",
   "id": "2772b377-05e0-4ced-848a-92adc348323d",
   "metadata": {},
   "source": [
    "# Exercises\n",
    "https://www.w3resource.com/python-exercises/re/"
   ]
  },
  {
   "cell_type": "code",
   "execution_count": null,
   "id": "18f86910-2f70-43f5-bb03-57a6342c07ab",
   "metadata": {},
   "outputs": [],
   "source": []
  }
 ],
 "metadata": {
  "kernelspec": {
   "display_name": "Python 3",
   "language": "python",
   "name": "python3"
  },
  "language_info": {
   "codemirror_mode": {
    "name": "ipython",
    "version": 3
   },
   "file_extension": ".py",
   "mimetype": "text/x-python",
   "name": "python",
   "nbconvert_exporter": "python",
   "pygments_lexer": "ipython3",
   "version": "3.9.5"
  }
 },
 "nbformat": 4,
 "nbformat_minor": 5
}
