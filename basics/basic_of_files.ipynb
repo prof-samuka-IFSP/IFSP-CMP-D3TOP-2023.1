{
 "cells": [
  {
   "cell_type": "markdown",
   "id": "b30c78a6-53b3-4770-8c15-bb0ca19338be",
   "metadata": {},
   "source": [
    "## **D3TOP - Tópicos em Ciência de Dados (IFSP Campinas)**\n",
    "**Prof. Dr. Samuel Martins (@iamsamucoding @samucoding @xavecoding)** <br/>\n",
    "xavecoding: https://youtube.com/c/xavecoding <br/><br/>\n",
    "\n",
    "<a rel=\"license\" href=\"http://creativecommons.org/licenses/by-nc-sa/4.0/\"><img alt=\"Creative Commons License\" style=\"border-width:0\" src=\"https://i.creativecommons.org/l/by-nc-sa/4.0/88x31.png\" /></a><br />This work is licensed under a <a rel=\"license\" href=\"http://creativecommons.org/licenses/by-nc-sa/4.0/\">Creative Commons Attribution-NonCommercial-ShareAlike 4.0 International License</a>.\n",
    "\n",
    "<hr/>"
   ]
  },
  {
   "cell_type": "markdown",
   "id": "53a50725-8c91-4a2d-8609-cc7d325c0b55",
   "metadata": {},
   "source": [
    "# Files\n",
    "\n",
    "Python uses file objects to interact with external files on your computer. These file objects can be any sort of file you have on your computer, whether it be an audio file, a text file, emails, Excel documents, etc. Note: You will probably need to install certain libraries or modules to interact with those various file types, but they are easily available. (We will cover downloading modules later on in the course).\n",
    "\n",
    "Python has a built-in open function that allows us to open and play with basic file types."
   ]
  },
  {
   "cell_type": "markdown",
   "id": "f399dc5e-a4f0-4cb9-b5d2-34f6f75967cf",
   "metadata": {},
   "source": [
    "## Python Opening a File"
   ]
  },
  {
   "cell_type": "markdown",
   "id": "499fd348-8137-4a3c-9716-6cc5d07d438b",
   "metadata": {},
   "source": [
    "### Know Your File's Location"
   ]
  },
  {
   "cell_type": "code",
   "execution_count": 3,
   "id": "078a71fe-07b0-4140-bf3e-488265a84496",
   "metadata": {
    "tags": []
   },
   "outputs": [],
   "source": [
    "# show the absolute pathname from the folder that contains\n",
    "# this current jupyter-notebook file"
   ]
  },
  {
   "cell_type": "code",
   "execution_count": 4,
   "id": "eafffcb6-ba0e-487c-bd4c-2f2b1197336b",
   "metadata": {
    "tags": []
   },
   "outputs": [
    {
     "data": {
      "text/plain": [
       "'/Users/hisamuka/Library/CloudStorage/OneDrive-ifsp.edu.br/IFSP/Cursos/ECD/D3TOP_2023.1/github/basics'"
      ]
     },
     "execution_count": 4,
     "metadata": {},
     "output_type": "execute_result"
    }
   ],
   "source": [
    "pwd"
   ]
  },
  {
   "cell_type": "markdown",
   "id": "ea9cc174-ca7a-4058-871b-9666017798e6",
   "metadata": {},
   "source": [
    "### Opening a file"
   ]
  },
  {
   "cell_type": "markdown",
   "id": "b9c241e0-284d-48bc-9bb2-f3a8459fc699",
   "metadata": {},
   "source": [
    "Be sure your are passing the **correct pathname** for the file, which can be:\n",
    "- the _relative pathname_ from the current folder of this jupyter-notebook file\n",
    "- the _absolute_ pathname of the file"
   ]
  },
  {
   "cell_type": "code",
   "execution_count": 5,
   "id": "7824784d-9dbc-4e31-8286-fe753b2c51c0",
   "metadata": {
    "tags": []
   },
   "outputs": [
    {
     "ename": "FileNotFoundError",
     "evalue": "[Errno 2] No such file or directory: 'star-wars-wikipedia.txt'",
     "output_type": "error",
     "traceback": [
      "\u001b[0;31m---------------------------------------------------------------------------\u001b[0m",
      "\u001b[0;31mFileNotFoundError\u001b[0m                         Traceback (most recent call last)",
      "Cell \u001b[0;32mIn[5], line 2\u001b[0m\n\u001b[1;32m      1\u001b[0m \u001b[38;5;66;03m# incomplete pathname\u001b[39;00m\n\u001b[0;32m----> 2\u001b[0m myfile \u001b[38;5;241m=\u001b[39m \u001b[38;5;28;43mopen\u001b[39;49m\u001b[43m(\u001b[49m\u001b[38;5;124;43m'\u001b[39;49m\u001b[38;5;124;43mstar-wars-wikipedia.txt\u001b[39;49m\u001b[38;5;124;43m'\u001b[39;49m\u001b[43m)\u001b[49m\n",
      "File \u001b[0;32m~/yeah/lib/python3.9/site-packages/IPython/core/interactiveshell.py:282\u001b[0m, in \u001b[0;36m_modified_open\u001b[0;34m(file, *args, **kwargs)\u001b[0m\n\u001b[1;32m    275\u001b[0m \u001b[38;5;28;01mif\u001b[39;00m file \u001b[38;5;129;01min\u001b[39;00m {\u001b[38;5;241m0\u001b[39m, \u001b[38;5;241m1\u001b[39m, \u001b[38;5;241m2\u001b[39m}:\n\u001b[1;32m    276\u001b[0m     \u001b[38;5;28;01mraise\u001b[39;00m \u001b[38;5;167;01mValueError\u001b[39;00m(\n\u001b[1;32m    277\u001b[0m         \u001b[38;5;124mf\u001b[39m\u001b[38;5;124m\"\u001b[39m\u001b[38;5;124mIPython won\u001b[39m\u001b[38;5;124m'\u001b[39m\u001b[38;5;124mt let you open fd=\u001b[39m\u001b[38;5;132;01m{\u001b[39;00mfile\u001b[38;5;132;01m}\u001b[39;00m\u001b[38;5;124m by default \u001b[39m\u001b[38;5;124m\"\u001b[39m\n\u001b[1;32m    278\u001b[0m         \u001b[38;5;124m\"\u001b[39m\u001b[38;5;124mas it is likely to crash IPython. If you know what you are doing, \u001b[39m\u001b[38;5;124m\"\u001b[39m\n\u001b[1;32m    279\u001b[0m         \u001b[38;5;124m\"\u001b[39m\u001b[38;5;124myou can use builtins\u001b[39m\u001b[38;5;124m'\u001b[39m\u001b[38;5;124m open.\u001b[39m\u001b[38;5;124m\"\u001b[39m\n\u001b[1;32m    280\u001b[0m     )\n\u001b[0;32m--> 282\u001b[0m \u001b[38;5;28;01mreturn\u001b[39;00m \u001b[43mio_open\u001b[49m\u001b[43m(\u001b[49m\u001b[43mfile\u001b[49m\u001b[43m,\u001b[49m\u001b[43m \u001b[49m\u001b[38;5;241;43m*\u001b[39;49m\u001b[43margs\u001b[49m\u001b[43m,\u001b[49m\u001b[43m \u001b[49m\u001b[38;5;241;43m*\u001b[39;49m\u001b[38;5;241;43m*\u001b[39;49m\u001b[43mkwargs\u001b[49m\u001b[43m)\u001b[49m\n",
      "\u001b[0;31mFileNotFoundError\u001b[0m: [Errno 2] No such file or directory: 'star-wars-wikipedia.txt'"
     ]
    }
   ],
   "source": [
    "# incomplete pathname\n",
    "myfile = open('star-wars-wikipedia.txt')"
   ]
  },
  {
   "cell_type": "code",
   "execution_count": 6,
   "id": "ffedb830-510a-4d01-93d4-7411dcc71630",
   "metadata": {
    "tags": []
   },
   "outputs": [],
   "source": [
    "# correct relative pathname\n",
    "myfile = open('demos/star-wars-wikipedia.txt')"
   ]
  },
  {
   "cell_type": "code",
   "execution_count": 7,
   "id": "a058b263-f2bb-41ea-b6f0-822284903f9a",
   "metadata": {
    "tags": []
   },
   "outputs": [
    {
     "data": {
      "text/plain": [
       "<_io.TextIOWrapper name='demos/star-wars-wikipedia.txt' mode='r' encoding='UTF-8'>"
      ]
     },
     "execution_count": 7,
     "metadata": {},
     "output_type": "execute_result"
    }
   ],
   "source": [
    "myfile"
   ]
  },
  {
   "cell_type": "code",
   "execution_count": null,
   "id": "68b7210d-d280-4f31-9b79-0170f0fc25cd",
   "metadata": {},
   "outputs": [],
   "source": [
    "# or correct absolute pathname"
   ]
  },
  {
   "cell_type": "code",
   "execution_count": 9,
   "id": "1bb0def7-5d31-48f9-8b2f-f9dca9dc04cd",
   "metadata": {
    "tags": []
   },
   "outputs": [],
   "source": [
    "myfile = open('/Users/hisamuka/Library/CloudStorage/OneDrive-ifsp.edu.br/IFSP/Cursos/ECD/D3TOP_2023.1/github/basics/demos/star-wars-wikipedia.txt')"
   ]
  },
  {
   "cell_type": "code",
   "execution_count": 10,
   "id": "a34d6bd1-3731-4e07-a70d-f19badeece6a",
   "metadata": {
    "tags": []
   },
   "outputs": [
    {
     "data": {
      "text/plain": [
       "<_io.TextIOWrapper name='/Users/hisamuka/Library/CloudStorage/OneDrive-ifsp.edu.br/IFSP/Cursos/ECD/D3TOP_2023.1/github/basics/demos/star-wars-wikipedia.txt' mode='r' encoding='UTF-8'>"
      ]
     },
     "execution_count": 10,
     "metadata": {},
     "output_type": "execute_result"
    }
   ],
   "source": [
    "myfile"
   ]
  },
  {
   "cell_type": "markdown",
   "id": "0272f2f7-6d3d-48e4-9217-4524e6d3ad56",
   "metadata": {},
   "source": [
    "The `open` function receives two parameters: `file pathname` and `access mode`. The availabe `access modes` are:"
   ]
  },
  {
   "cell_type": "markdown",
   "id": "22b50840-a7b1-4114-99f7-85b2feb59f66",
   "metadata": {},
   "source": [
    "- `\"r\"`: **Read** - Default value. Opens a file for reading, error if the file does not exist\n",
    "- `\"a\"`: **Append** - Opens a file for appending, creates the file if it does not exist\n",
    "- `\"w\"`: **Write** - Opens a file for writing, creates the file if it does not exist\n",
    "- `\"x\"`: **Create** - Creates the specified file, returns an error if the file exists"
   ]
  },
  {
   "cell_type": "markdown",
   "id": "e55041a4-7b64-4425-b4e9-5dbe53bd81a6",
   "metadata": {},
   "source": [
    "In addition you can specify if the file should be handled as **binary** or **text mode**:"
   ]
  },
  {
   "cell_type": "markdown",
   "id": "706b931f-2e41-46f7-a527-cd723c532af2",
   "metadata": {},
   "source": [
    "- `\"t\"`: **Text** - Default value. Text mode\n",
    "- `\"b\"`: **Binary** - Binary mode (e.g. images)"
   ]
  },
  {
   "cell_type": "markdown",
   "id": "61edf7e4-62e0-44e0-b7c3-af8eac35b644",
   "metadata": {},
   "source": [
    "By default, files are opened in **text reading mode** - `rt`."
   ]
  },
  {
   "cell_type": "code",
   "execution_count": 11,
   "id": "ae61341e-078c-47f3-956c-a6cc0eb1f880",
   "metadata": {
    "tags": []
   },
   "outputs": [
    {
     "data": {
      "text/plain": [
       "<_io.TextIOWrapper name='demos/star-wars-wikipedia.txt' mode='r' encoding='UTF-8'>"
      ]
     },
     "execution_count": 11,
     "metadata": {},
     "output_type": "execute_result"
    }
   ],
   "source": [
    "# alternative one\n",
    "myfile = open('demos/star-wars-wikipedia.txt')\n",
    "myfile"
   ]
  },
  {
   "cell_type": "code",
   "execution_count": 12,
   "id": "232985bf-e6c7-48c2-ba73-fc720b86b808",
   "metadata": {
    "tags": []
   },
   "outputs": [
    {
     "data": {
      "text/plain": [
       "<_io.TextIOWrapper name='demos/star-wars-wikipedia.txt' mode='r' encoding='UTF-8'>"
      ]
     },
     "execution_count": 12,
     "metadata": {},
     "output_type": "execute_result"
    }
   ],
   "source": [
    "# alternative two\n",
    "myfile = open('demos/star-wars-wikipedia.txt', 'r')\n",
    "myfile"
   ]
  },
  {
   "cell_type": "code",
   "execution_count": 13,
   "id": "d004dfd8-94a1-4c7d-bfa7-20f1ef056583",
   "metadata": {
    "tags": []
   },
   "outputs": [
    {
     "data": {
      "text/plain": [
       "<_io.TextIOWrapper name='demos/star-wars-wikipedia.txt' mode='rt' encoding='UTF-8'>"
      ]
     },
     "execution_count": 13,
     "metadata": {},
     "output_type": "execute_result"
    }
   ],
   "source": [
    "# alternative three\n",
    "myfile = open('demos/star-wars-wikipedia.txt', 'rt')\n",
    "myfile"
   ]
  },
  {
   "cell_type": "markdown",
   "id": "0cc5db01-cd21-4319-b298-1e7a5321d9c5",
   "metadata": {
    "tags": []
   },
   "source": [
    "## Closing a file\n",
    "Once there is no further interaction with the file, it must be **closed**."
   ]
  },
  {
   "cell_type": "code",
   "execution_count": 16,
   "id": "a302747d-1279-4f59-9457-8a775302b383",
   "metadata": {
    "tags": []
   },
   "outputs": [],
   "source": [
    "myfile.close()"
   ]
  },
  {
   "cell_type": "markdown",
   "id": "0c249321-5025-4e1a-bcf7-10277a0ff99c",
   "metadata": {},
   "source": [
    "## Reading the content of a file: `.read()`"
   ]
  },
  {
   "cell_type": "code",
   "execution_count": 17,
   "id": "708c4d0c-31f3-4124-92ec-66ba417cc0f4",
   "metadata": {
    "tags": []
   },
   "outputs": [
    {
     "data": {
      "text/plain": [
       "<_io.TextIOWrapper name='demos/star-wars-wikipedia.txt' mode='r' encoding='UTF-8'>"
      ]
     },
     "execution_count": 17,
     "metadata": {},
     "output_type": "execute_result"
    }
   ],
   "source": [
    "myfile = open('demos/star-wars-wikipedia.txt')\n",
    "myfile"
   ]
  },
  {
   "cell_type": "markdown",
   "id": "fb7f1450-5e40-4c92-95a2-4558697f28cc",
   "metadata": {},
   "source": [
    "The `.read()` command reads the *entire content* of the file."
   ]
  },
  {
   "cell_type": "code",
   "execution_count": 18,
   "id": "e0b8dad5-2aae-4e0d-a764-0331120b1623",
   "metadata": {
    "tags": []
   },
   "outputs": [],
   "source": [
    "content = myfile.read()"
   ]
  },
  {
   "cell_type": "code",
   "execution_count": 19,
   "id": "c1efd151-c1b4-4466-b8ec-1c49b81b00dd",
   "metadata": {
    "tags": []
   },
   "outputs": [
    {
     "data": {
      "text/plain": [
       "'Star Wars is an American epic space opera[1] multimedia franchise created by George Lucas, which began with the eponymous 1977 film[b] and quickly became a worldwide pop culture phenomenon. The franchise has been expanded into various films and other media, including television series, video games, novels, comic books, theme park attractions, and themed areas, comprising an all-encompassing fictional universe.[c] Star Wars is one of the highest-grossing media franchises of all time.\\n\\nThe original film (Star Wars), retroactively subtitled Episode IV: A New Hope (1977), was followed by the sequels Episode V: The Empire Strikes Back (1980) and Episode VI: Return of the Jedi (1983), forming the original Star Wars trilogy. Lucas later returned to the series to direct a prequel trilogy, consisting of Episode I: The Phantom Menace (1999), Episode II: Attack of the Clones (2002), and Episode III: Revenge of the Sith (2005). In 2012, Lucas sold his production company to Disney, relinquishing his ownership of the franchise. This led to a sequel trilogy, consisting of Episode VII: The Force Awakens (2015), Episode VIII: The Last Jedi (2017), and Episode IX: The Rise of Skywalker (2019).\\n\\nAll nine films of the \"Skywalker Saga\" were nominated for Academy Awards, with wins going to the first two releases. Together with the theatrical live action \"anthology\" films Rogue One (2016) and Solo (2018), the combined box office revenue of the films equated to over US$10 billion, which makes it the second-highest-grossing film franchise of all time.[3][4] Additional upcoming films are in the works, including an untitled movie from Taika Waititi and Rogue Squadron directed by Patty Jenkins, both currently without release dates.[5]'"
      ]
     },
     "execution_count": 19,
     "metadata": {},
     "output_type": "execute_result"
    }
   ],
   "source": [
    "content"
   ]
  },
  {
   "cell_type": "markdown",
   "id": "19938e0e-e0f1-40eb-9c3c-b3c87178e4e6",
   "metadata": {},
   "source": [
    "Note that the file has three paragraphs separated by an empty line each. The content stores `\\n` for each line break. "
   ]
  },
  {
   "cell_type": "markdown",
   "id": "79e8b60a-2846-4249-8c40-22ac5ecc02be",
   "metadata": {},
   "source": [
    "<br/>\n",
    "\n",
    "If you try to read the same file again:"
   ]
  },
  {
   "cell_type": "code",
   "execution_count": 20,
   "id": "95478a7d-a553-4034-8ef8-3c1b88af211e",
   "metadata": {
    "tags": []
   },
   "outputs": [
    {
     "data": {
      "text/plain": [
       "''"
      ]
     },
     "execution_count": 20,
     "metadata": {},
     "output_type": "execute_result"
    }
   ],
   "source": [
    "content_again = myfile.read()\n",
    "content_again"
   ]
  },
  {
   "cell_type": "markdown",
   "id": "c6622ea4-1c93-49c4-a5e1-ed971c0252e1",
   "metadata": {},
   "source": [
    "**There is no content!**\n",
    "\n",
    "This happens because you can imagine the **reading \"cursor\"** is _at the end of the file_ after having read it. **So there is nothing left to read.**"
   ]
  },
  {
   "cell_type": "markdown",
   "id": "d3896ca8-9a62-46c0-8a7c-b5d721a8bba9",
   "metadata": {},
   "source": [
    "When opening a file, the reading \"cursor\" is at the _beginning of it_."
   ]
  },
  {
   "cell_type": "markdown",
   "id": "25cd72c2-07d9-4e77-9eee-e4ce4e1469ca",
   "metadata": {},
   "source": [
    "<br/>\n",
    "\n",
    "We can reset the reading \"cursor\" by using the command `.seek()`:"
   ]
  },
  {
   "cell_type": "code",
   "execution_count": 22,
   "id": "e1e275e6-fc02-4b96-9897-2c860532ba22",
   "metadata": {
    "tags": []
   },
   "outputs": [
    {
     "data": {
      "text/plain": [
       "0"
      ]
     },
     "execution_count": 22,
     "metadata": {},
     "output_type": "execute_result"
    }
   ],
   "source": [
    "# Seek to the start of file (index 0)\n",
    "myfile.seek(0)"
   ]
  },
  {
   "cell_type": "markdown",
   "id": "8315269f-e474-40ee-9e25-ee34e1f151f6",
   "metadata": {},
   "source": [
    "This command **moves** the _reading \"cursor\"_ for the position of the **byte 0**, that is, the beginning of the file."
   ]
  },
  {
   "cell_type": "code",
   "execution_count": 23,
   "id": "a3addb60-43ed-4f9f-b624-ffd6a8256894",
   "metadata": {
    "tags": []
   },
   "outputs": [
    {
     "data": {
      "text/plain": [
       "'Star Wars is an American epic space opera[1] multimedia franchise created by George Lucas, which began with the eponymous 1977 film[b] and quickly became a worldwide pop culture phenomenon. The franchise has been expanded into various films and other media, including television series, video games, novels, comic books, theme park attractions, and themed areas, comprising an all-encompassing fictional universe.[c] Star Wars is one of the highest-grossing media franchises of all time.\\n\\nThe original film (Star Wars), retroactively subtitled Episode IV: A New Hope (1977), was followed by the sequels Episode V: The Empire Strikes Back (1980) and Episode VI: Return of the Jedi (1983), forming the original Star Wars trilogy. Lucas later returned to the series to direct a prequel trilogy, consisting of Episode I: The Phantom Menace (1999), Episode II: Attack of the Clones (2002), and Episode III: Revenge of the Sith (2005). In 2012, Lucas sold his production company to Disney, relinquishing his ownership of the franchise. This led to a sequel trilogy, consisting of Episode VII: The Force Awakens (2015), Episode VIII: The Last Jedi (2017), and Episode IX: The Rise of Skywalker (2019).\\n\\nAll nine films of the \"Skywalker Saga\" were nominated for Academy Awards, with wins going to the first two releases. Together with the theatrical live action \"anthology\" films Rogue One (2016) and Solo (2018), the combined box office revenue of the films equated to over US$10 billion, which makes it the second-highest-grossing film franchise of all time.[3][4] Additional upcoming films are in the works, including an untitled movie from Taika Waititi and Rogue Squadron directed by Patty Jenkins, both currently without release dates.[5]'"
      ]
     },
     "execution_count": 23,
     "metadata": {},
     "output_type": "execute_result"
    }
   ],
   "source": [
    "content_again = myfile.read()\n",
    "content_again"
   ]
  },
  {
   "cell_type": "markdown",
   "id": "60458231-8493-4013-bbbe-9c51633142ef",
   "metadata": {},
   "source": [
    "<br/>\n",
    "\n",
    "Now we can read the entire file again!"
   ]
  },
  {
   "cell_type": "markdown",
   "id": "c74547a5-7550-40ac-a93f-444b780398ad",
   "metadata": {},
   "source": [
    "We can choose any (valid) position to move the reading cursor. In text files, each character requires one byte of space.\n",
    "\n",
    "Thus, if you pass 16 for the `seek()` command, we are moving the _reading cursor_ in 16 bytes/characters from the beginning of the file."
   ]
  },
  {
   "cell_type": "code",
   "execution_count": 24,
   "id": "890eb91e-bdf0-459e-a287-bd4cf3198e75",
   "metadata": {
    "tags": []
   },
   "outputs": [
    {
     "data": {
      "text/plain": [
       "16"
      ]
     },
     "execution_count": 24,
     "metadata": {},
     "output_type": "execute_result"
    }
   ],
   "source": [
    "myfile.seek(16)"
   ]
  },
  {
   "cell_type": "code",
   "execution_count": 25,
   "id": "39f84552-bc17-4e36-bb5b-154914f5857c",
   "metadata": {
    "tags": []
   },
   "outputs": [
    {
     "data": {
      "text/plain": [
       "'American epic space opera[1] multimedia franchise created by George Lucas, which began with the eponymous 1977 film[b] and quickly became a worldwide pop culture phenomenon. The franchise has been expanded into various films and other media, including television series, video games, novels, comic books, theme park attractions, and themed areas, comprising an all-encompassing fictional universe.[c] Star Wars is one of the highest-grossing media franchises of all time.\\n\\nThe original film (Star Wars), retroactively subtitled Episode IV: A New Hope (1977), was followed by the sequels Episode V: The Empire Strikes Back (1980) and Episode VI: Return of the Jedi (1983), forming the original Star Wars trilogy. Lucas later returned to the series to direct a prequel trilogy, consisting of Episode I: The Phantom Menace (1999), Episode II: Attack of the Clones (2002), and Episode III: Revenge of the Sith (2005). In 2012, Lucas sold his production company to Disney, relinquishing his ownership of the franchise. This led to a sequel trilogy, consisting of Episode VII: The Force Awakens (2015), Episode VIII: The Last Jedi (2017), and Episode IX: The Rise of Skywalker (2019).\\n\\nAll nine films of the \"Skywalker Saga\" were nominated for Academy Awards, with wins going to the first two releases. Together with the theatrical live action \"anthology\" films Rogue One (2016) and Solo (2018), the combined box office revenue of the films equated to over US$10 billion, which makes it the second-highest-grossing film franchise of all time.[3][4] Additional upcoming films are in the works, including an untitled movie from Taika Waititi and Rogue Squadron directed by Patty Jenkins, both currently without release dates.[5]'"
      ]
     },
     "execution_count": 25,
     "metadata": {},
     "output_type": "execute_result"
    }
   ],
   "source": [
    "content_again = myfile.read()\n",
    "content_again"
   ]
  },
  {
   "cell_type": "markdown",
   "id": "d7e0c344-a64a-4f77-9094-adc44b5ebacc",
   "metadata": {},
   "source": [
    "<br/>\n",
    "\n",
    "Note that the first 16 characters including the spaces were ignored: `'Star Wars is an '`"
   ]
  },
  {
   "cell_type": "markdown",
   "id": "39f4a1c4-c9bf-419c-88b9-58ddd21a0dff",
   "metadata": {},
   "source": [
    "<br/>\n",
    "\n",
    "To find out the current position of the reading cursor, we use the `.tell()` command:"
   ]
  },
  {
   "cell_type": "code",
   "execution_count": 26,
   "id": "986a9207-f31a-4e37-96e6-b5df3a674034",
   "metadata": {
    "tags": []
   },
   "outputs": [
    {
     "data": {
      "text/plain": [
       "16"
      ]
     },
     "execution_count": 26,
     "metadata": {},
     "output_type": "execute_result"
    }
   ],
   "source": [
    "# move the cursor for the 16th byte/character\n",
    "myfile.seek(16)"
   ]
  },
  {
   "cell_type": "code",
   "execution_count": 27,
   "id": "237c19d2-e149-4bc8-9693-ee01577c3d61",
   "metadata": {
    "tags": []
   },
   "outputs": [
    {
     "data": {
      "text/plain": [
       "16"
      ]
     },
     "execution_count": 27,
     "metadata": {},
     "output_type": "execute_result"
    }
   ],
   "source": [
    "# show the current position of the file\n",
    "myfile.tell()"
   ]
  },
  {
   "cell_type": "markdown",
   "id": "dab02412-6841-4973-9176-8aa24e3ab8bd",
   "metadata": {},
   "source": [
    "### `.readlines()`\n",
    "You can read a file **line by line** using the `readlines()` method, returning a list where each element is a line of the file.\n",
    "\n",
    "**Use caution with *large files***, since everything will be held in memory."
   ]
  },
  {
   "cell_type": "code",
   "execution_count": 28,
   "id": "7b18d327-0f2e-4de8-b10e-80ef4840a0e3",
   "metadata": {
    "tags": []
   },
   "outputs": [],
   "source": [
    "animals_file = open('demos/animals.txt')"
   ]
  },
  {
   "cell_type": "code",
   "execution_count": 29,
   "id": "b7528ce4-e9d8-4ad6-9397-369f853bbcf0",
   "metadata": {
    "tags": []
   },
   "outputs": [
    {
     "data": {
      "text/plain": [
       "<_io.TextIOWrapper name='demos/animals.txt' mode='r' encoding='UTF-8'>"
      ]
     },
     "execution_count": 29,
     "metadata": {},
     "output_type": "execute_result"
    }
   ],
   "source": [
    "animals_file"
   ]
  },
  {
   "cell_type": "code",
   "execution_count": 30,
   "id": "8d6a1a77-4492-4c05-801e-b00536e6179d",
   "metadata": {
    "tags": []
   },
   "outputs": [],
   "source": [
    "animals_list = animals_file.readlines()"
   ]
  },
  {
   "cell_type": "code",
   "execution_count": 31,
   "id": "5014bc07-9c9a-4463-9051-412a08dd1332",
   "metadata": {
    "tags": []
   },
   "outputs": [
    {
     "data": {
      "text/plain": [
       "['Canidae\\n',\n",
       " 'Felidae\\n',\n",
       " 'Cat\\n',\n",
       " 'Cattle\\n',\n",
       " 'Dog\\n',\n",
       " 'Donkey\\n',\n",
       " 'Goat\\n',\n",
       " 'Guinea pig\\n',\n",
       " 'Horse\\n',\n",
       " 'Pig\\n',\n",
       " 'Rabbit\\n',\n",
       " 'Fancy rat varieties\\n',\n",
       " 'laboratory rat strains\\n',\n",
       " 'Sheep breeds\\n',\n",
       " 'Water buffalo breeds\\n',\n",
       " 'Chicken breeds\\n',\n",
       " 'Duck breeds\\n',\n",
       " 'Goose breeds\\n',\n",
       " 'Pigeon breeds\\n',\n",
       " 'Turkey breeds\\n',\n",
       " 'Aardvark\\n',\n",
       " 'Aardwolf\\n',\n",
       " 'African buffalo\\n',\n",
       " 'African elephant\\n',\n",
       " 'African leopard\\n',\n",
       " 'Albatross\\n',\n",
       " 'Alligator\\n',\n",
       " 'Alpaca\\n',\n",
       " 'American buffalo (bison)\\n',\n",
       " 'American robin\\n',\n",
       " 'Amphibian\\n',\n",
       " 'list\\n',\n",
       " 'Anaconda\\n',\n",
       " 'Angelfish\\n',\n",
       " 'Anglerfish\\n',\n",
       " 'Ant\\n',\n",
       " 'Anteater\\n',\n",
       " 'Antelope\\n',\n",
       " 'Antlion\\n',\n",
       " 'Ape\\n',\n",
       " 'Aphid\\n',\n",
       " 'Arabian leopard\\n',\n",
       " 'Arctic Fox\\n',\n",
       " 'Arctic Wolf\\n',\n",
       " 'Armadillo\\n',\n",
       " 'Arrow crab\\n',\n",
       " 'Asp\\n',\n",
       " 'Ass (donkey)\\n',\n",
       " 'Baboon\\n',\n",
       " 'Badger\\n',\n",
       " 'Bald eagle\\n',\n",
       " 'Bandicoot\\n',\n",
       " 'Barnacle\\n',\n",
       " 'Barracuda\\n',\n",
       " 'Basilisk\\n',\n",
       " 'Bass\\n',\n",
       " 'Bat\\n',\n",
       " 'Beaked whale\\n',\n",
       " 'Bear\\n',\n",
       " 'list\\n',\n",
       " 'Beaver\\n',\n",
       " 'Bedbug\\n',\n",
       " 'Bee\\n',\n",
       " 'Beetle\\n',\n",
       " 'Bird\\n',\n",
       " 'list\\n',\n",
       " 'Bison\\n',\n",
       " 'Blackbird\\n',\n",
       " 'Black panther\\n',\n",
       " 'Black widow spider\\n',\n",
       " 'Blue bird\\n',\n",
       " 'Blue jay\\n',\n",
       " 'Blue whale\\n',\n",
       " 'Boa\\n',\n",
       " 'Boar\\n',\n",
       " 'Bobcat\\n',\n",
       " 'Bobolink\\n',\n",
       " 'Bonobo\\n',\n",
       " 'Booby\\n',\n",
       " 'Box jellyfish\\n',\n",
       " 'Bovid\\n',\n",
       " 'Buffalo, African\\n',\n",
       " 'Buffalo, American (bison)\\n',\n",
       " 'Bug\\n',\n",
       " 'Butterfly\\n',\n",
       " 'Buzzard\\n',\n",
       " 'Camel\\n',\n",
       " 'Canid\\n',\n",
       " 'Cape buffalo\\n',\n",
       " 'Capybara\\n',\n",
       " 'Cardinal\\n',\n",
       " 'Caribou\\n',\n",
       " 'Carp\\n',\n",
       " 'Cat\\n',\n",
       " 'list\\n',\n",
       " 'Catshark\\n',\n",
       " 'Caterpillar\\n',\n",
       " 'Catfish\\n',\n",
       " 'Cattle\\n',\n",
       " 'list\\n',\n",
       " 'Centipede\\n',\n",
       " 'Cephalopod\\n',\n",
       " 'Chameleon\\n',\n",
       " 'Cheetah\\n',\n",
       " 'Chickadee\\n',\n",
       " 'Chicken\\n',\n",
       " 'list\\n',\n",
       " 'Chimpanzee\\n',\n",
       " 'Chinchilla\\n',\n",
       " 'Chipmunk\\n',\n",
       " 'Clam\\n',\n",
       " 'Clownfish\\n',\n",
       " 'Cobra\\n',\n",
       " 'Cockroach\\n',\n",
       " 'Cod\\n',\n",
       " 'Condor\\n',\n",
       " 'Constrictor\\n',\n",
       " 'Coral\\n',\n",
       " 'Cougar\\n',\n",
       " 'Cow\\n',\n",
       " 'Coyote\\n',\n",
       " 'Crab\\n',\n",
       " 'Crane\\n',\n",
       " 'Crane fly\\n',\n",
       " 'Crawdad\\n',\n",
       " 'Crayfish\\n',\n",
       " 'Cricket\\n',\n",
       " 'Crocodile\\n',\n",
       " 'Crow\\n',\n",
       " 'Cuckoo\\n',\n",
       " 'Cicada\\n',\n",
       " 'Damselfly\\n',\n",
       " 'Deer\\n',\n",
       " 'Dingo\\n',\n",
       " 'Dinosaur\\n',\n",
       " 'list\\n',\n",
       " 'Dog\\n',\n",
       " 'list\\n',\n",
       " 'Dolphin\\n',\n",
       " 'Donkey\\n',\n",
       " 'list\\n',\n",
       " 'Dormouse\\n',\n",
       " 'Dove\\n',\n",
       " 'Dragonfly\\n',\n",
       " 'Dragon\\n',\n",
       " 'Duck\\n',\n",
       " 'list\\n',\n",
       " 'Dung beetle\\n',\n",
       " 'Eagle\\n',\n",
       " 'Earthworm\\n',\n",
       " 'Earwig\\n',\n",
       " 'Echidna\\n',\n",
       " 'Eel\\n',\n",
       " 'Egret\\n',\n",
       " 'Elephant\\n',\n",
       " 'Elephant seal\\n',\n",
       " 'Elk\\n',\n",
       " 'Emu\\n',\n",
       " 'English pointer\\n',\n",
       " 'Ermine\\n',\n",
       " 'Falcon\\n',\n",
       " 'Ferret\\n',\n",
       " 'Finch\\n',\n",
       " 'Firefly\\n',\n",
       " 'Fish\\n',\n",
       " 'Flamingo\\n',\n",
       " 'Flea\\n',\n",
       " 'Fly\\n',\n",
       " 'Flyingfish\\n',\n",
       " 'Fowl\\n',\n",
       " 'Fox\\n',\n",
       " 'Frog\\n',\n",
       " 'Fruit bat\\n',\n",
       " 'Gamefowl\\n',\n",
       " 'list\\n',\n",
       " 'Galliform\\n',\n",
       " 'list\\n',\n",
       " 'Gazelle\\n',\n",
       " 'Gecko\\n',\n",
       " 'Gerbil\\n',\n",
       " 'Giant panda\\n',\n",
       " 'Giant squid\\n',\n",
       " 'Gibbon\\n',\n",
       " 'Gila monster\\n',\n",
       " 'Giraffe\\n',\n",
       " 'Goat\\n',\n",
       " 'list\\n',\n",
       " 'Goldfish\\n',\n",
       " 'Goose\\n',\n",
       " 'list\\n',\n",
       " 'Gopher\\n',\n",
       " 'Gorilla\\n',\n",
       " 'Grasshopper\\n',\n",
       " 'Great blue heron\\n',\n",
       " 'Great white shark\\n',\n",
       " 'Grizzly bear\\n',\n",
       " 'Ground shark\\n',\n",
       " 'Ground sloth\\n',\n",
       " 'Grouse\\n',\n",
       " 'Guan\\n',\n",
       " 'list\\n',\n",
       " 'Guanaco\\n',\n",
       " 'Guineafowl\\n',\n",
       " 'list\\n',\n",
       " 'Guinea pig\\n',\n",
       " 'list\\n',\n",
       " 'Gull\\n',\n",
       " 'Guppy\\n',\n",
       " 'Haddock\\n',\n",
       " 'Halibut\\n',\n",
       " 'Hammerhead shark\\n',\n",
       " 'Hamster\\n',\n",
       " 'Hare\\n',\n",
       " 'Harrier\\n',\n",
       " 'Hawk\\n',\n",
       " 'Hedgehog\\n',\n",
       " 'Hermit crab\\n',\n",
       " 'Heron\\n',\n",
       " 'Herring\\n',\n",
       " 'Hippopotamus\\n',\n",
       " 'Hookworm\\n',\n",
       " 'Hornet\\n',\n",
       " 'Horse\\n',\n",
       " 'list\\n',\n",
       " 'Hoverfly\\n',\n",
       " 'Hummingbird\\n',\n",
       " 'Humpback whale\\n',\n",
       " 'Hyena\\n',\n",
       " 'Iguana\\n',\n",
       " 'Impala\\n',\n",
       " 'Irukandji jellyfish\\n',\n",
       " 'Jackal\\n',\n",
       " 'Jaguar\\n',\n",
       " 'Jay\\n',\n",
       " 'Jellyfish\\n',\n",
       " 'Junglefowl\\n',\n",
       " 'Kangaroo\\n',\n",
       " 'Kangaroo mouse\\n',\n",
       " 'Kangaroo rat\\n',\n",
       " 'Kingfisher\\n',\n",
       " 'Kite\\n',\n",
       " 'Kiwi\\n',\n",
       " 'Koala\\n',\n",
       " 'Koi\\n',\n",
       " 'Komodo dragon\\n',\n",
       " 'Krill\\n',\n",
       " 'Ladybug\\n',\n",
       " 'Lamprey\\n',\n",
       " 'Landfowl\\n',\n",
       " 'Land snail\\n',\n",
       " 'Lark\\n',\n",
       " 'Leech\\n',\n",
       " 'Lemming\\n',\n",
       " 'Lemur\\n',\n",
       " 'Leopard\\n',\n",
       " 'Leopon\\n',\n",
       " 'Limpet\\n',\n",
       " 'Lion\\n',\n",
       " 'Lizard\\n',\n",
       " 'Llama\\n',\n",
       " 'Lobster\\n',\n",
       " 'Locust\\n',\n",
       " 'Loon\\n',\n",
       " 'Louse\\n',\n",
       " 'Lungfish\\n',\n",
       " 'Lynx\\n',\n",
       " 'Macaw\\n',\n",
       " 'Mackerel\\n',\n",
       " 'Magpie\\n',\n",
       " 'Mammal\\n',\n",
       " 'Manatee\\n',\n",
       " 'Mandrill\\n',\n",
       " 'Manta ray\\n',\n",
       " 'Marlin\\n',\n",
       " 'Marmoset\\n',\n",
       " 'Marmot\\n',\n",
       " 'Marsupial\\n',\n",
       " 'Marten\\n',\n",
       " 'Mastodon\\n',\n",
       " 'Meadowlark\\n',\n",
       " 'Meerkat\\n',\n",
       " 'Mink\\n',\n",
       " 'Minnow\\n',\n",
       " 'Mite\\n',\n",
       " 'Mockingbird\\n',\n",
       " 'Mole\\n',\n",
       " 'Mollusk\\n',\n",
       " 'Mongoose\\n',\n",
       " 'Monitor lizard\\n',\n",
       " 'Monkey\\n',\n",
       " 'Moose\\n',\n",
       " 'Mosquito\\n',\n",
       " 'Moth\\n',\n",
       " 'Mountain goat\\n',\n",
       " 'Mouse\\n',\n",
       " 'Mule\\n',\n",
       " 'Muskox\\n',\n",
       " 'Narwhal\\n',\n",
       " 'Newt\\n',\n",
       " 'New World quail\\n',\n",
       " 'Nightingale\\n',\n",
       " 'Ocelot\\n',\n",
       " 'Octopus\\n',\n",
       " 'Old World quail\\n',\n",
       " 'Opossum\\n',\n",
       " 'Orangutan\\n',\n",
       " 'Orca\\n',\n",
       " 'Ostrich\\n',\n",
       " 'Otter\\n',\n",
       " 'Owl\\n',\n",
       " 'Ox\\n',\n",
       " 'Panda\\n',\n",
       " 'Panther\\n',\n",
       " 'Panthera hybrid\\n',\n",
       " 'Parakeet\\n',\n",
       " 'Parrot\\n',\n",
       " 'Parrotfish\\n',\n",
       " 'Partridge\\n',\n",
       " 'Peacock\\n',\n",
       " 'Peafowl\\n',\n",
       " 'Pelican\\n',\n",
       " 'Penguin\\n',\n",
       " 'Perch\\n',\n",
       " 'Peregrine falcon\\n',\n",
       " 'Pheasant\\n',\n",
       " 'Pig\\n',\n",
       " 'Pigeon\\n',\n",
       " 'list\\n',\n",
       " 'Pike\\n',\n",
       " 'Pilot whale\\n',\n",
       " 'Pinniped\\n',\n",
       " 'Piranha\\n',\n",
       " 'Planarian\\n',\n",
       " 'Platypus\\n',\n",
       " 'Polar bear\\n',\n",
       " 'Pony\\n',\n",
       " 'Porcupine\\n',\n",
       " 'Porpoise\\n',\n",
       " \"Portuguese man o' war\\n\",\n",
       " 'Possum\\n',\n",
       " 'Prairie dog\\n',\n",
       " 'Prawn\\n',\n",
       " 'Praying mantis\\n',\n",
       " 'Primate\\n',\n",
       " 'Ptarmigan\\n',\n",
       " 'Puffin\\n',\n",
       " 'Puma\\n',\n",
       " 'Python\\n',\n",
       " 'Quail\\n',\n",
       " 'Quelea\\n',\n",
       " 'Quokka\\n',\n",
       " 'Rabbit\\n',\n",
       " 'list\\n',\n",
       " 'Raccoon\\n',\n",
       " 'Rainbow trout\\n',\n",
       " 'Rat\\n',\n",
       " 'Rattlesnake\\n',\n",
       " 'Raven\\n',\n",
       " 'Ray (Batoidea)\\n',\n",
       " 'Ray (Rajiformes)\\n',\n",
       " 'Red panda\\n',\n",
       " 'Reindeer\\n',\n",
       " 'Reptile\\n',\n",
       " 'Rhinoceros\\n',\n",
       " 'Right whale\\n',\n",
       " 'Roadrunner\\n',\n",
       " 'Rodent\\n',\n",
       " 'Rook\\n',\n",
       " 'Rooster\\n',\n",
       " 'Roundworm\\n',\n",
       " 'Saber-toothed cat\\n',\n",
       " 'Sailfish\\n',\n",
       " 'Salamander\\n',\n",
       " 'Salmon\\n',\n",
       " 'Sawfish\\n',\n",
       " 'Scale insect\\n',\n",
       " 'Scallop\\n',\n",
       " 'Scorpion\\n',\n",
       " 'Seahorse\\n',\n",
       " 'Sea lion\\n',\n",
       " 'Sea slug\\n',\n",
       " 'Sea snail\\n',\n",
       " 'Shark\\n',\n",
       " 'list\\n',\n",
       " 'Sheep\\n',\n",
       " 'list\\n',\n",
       " 'Shrew\\n',\n",
       " 'Shrimp\\n',\n",
       " 'Silkworm\\n',\n",
       " 'Silverfish\\n',\n",
       " 'Skink\\n',\n",
       " 'Skunk\\n',\n",
       " 'Sloth\\n',\n",
       " 'Slug\\n',\n",
       " 'Smelt\\n',\n",
       " 'Snail\\n',\n",
       " 'Snake\\n',\n",
       " 'list\\n',\n",
       " 'Snipe\\n',\n",
       " 'Snow leopard\\n',\n",
       " 'Sockeye salmon\\n',\n",
       " 'Sole\\n',\n",
       " 'Sparrow\\n',\n",
       " 'Sperm whale\\n',\n",
       " 'Spider\\n',\n",
       " 'Spider monkey\\n',\n",
       " 'Spoonbill\\n',\n",
       " 'Squid\\n',\n",
       " 'Squirrel\\n',\n",
       " 'Starfish\\n',\n",
       " 'Star-nosed mole\\n',\n",
       " 'Steelhead trout\\n',\n",
       " 'Stingray\\n',\n",
       " 'Stoat\\n',\n",
       " 'Stork\\n',\n",
       " 'Sturgeon\\n',\n",
       " 'Sugar glider\\n',\n",
       " 'Swallow\\n',\n",
       " 'Swan\\n',\n",
       " 'Swift\\n',\n",
       " 'Swordfish\\n',\n",
       " 'Swordtail\\n',\n",
       " 'Tahr\\n',\n",
       " 'Takin\\n',\n",
       " 'Tapir\\n',\n",
       " 'Tarantula\\n',\n",
       " 'Tarsier\\n',\n",
       " 'Tasmanian devil\\n',\n",
       " 'Termite\\n',\n",
       " 'Tern\\n',\n",
       " 'Thrush\\n',\n",
       " 'Tick\\n',\n",
       " 'Tiger\\n',\n",
       " 'Tiger shark\\n',\n",
       " 'Tiglon\\n',\n",
       " 'Toad\\n',\n",
       " 'Tortoise\\n',\n",
       " 'Toucan\\n',\n",
       " 'Trapdoor spider\\n',\n",
       " 'Tree frog\\n',\n",
       " 'Trout\\n',\n",
       " 'Tuna\\n',\n",
       " 'Turkey\\n',\n",
       " 'list\\n',\n",
       " 'Turtle\\n',\n",
       " 'Tyrannosaurus\\n',\n",
       " 'Urial\\n',\n",
       " 'Vampire bat\\n',\n",
       " 'Vampire squid\\n',\n",
       " 'Vicuna\\n',\n",
       " 'Viper\\n',\n",
       " 'Vole\\n',\n",
       " 'Vulture\\n',\n",
       " 'Wallaby\\n',\n",
       " 'Walrus\\n',\n",
       " 'Wasp\\n',\n",
       " 'Warbler\\n',\n",
       " 'Water Boa\\n',\n",
       " 'Water buffalo\\n',\n",
       " 'Weasel\\n',\n",
       " 'Whale\\n',\n",
       " 'Whippet\\n',\n",
       " 'Whitefish\\n',\n",
       " 'Whooping crane\\n',\n",
       " 'Wildcat\\n',\n",
       " 'Wildebeest\\n',\n",
       " 'Wildfowl\\n',\n",
       " 'Wolf\\n',\n",
       " 'Wolverine\\n',\n",
       " 'Wombat\\n',\n",
       " 'Woodpecker\\n',\n",
       " 'Worm\\n',\n",
       " 'Wren\\n',\n",
       " 'Xerinae\\n',\n",
       " 'X-ray fish\\n',\n",
       " 'Yak\\n',\n",
       " 'Yellow perch\\n',\n",
       " 'Zebra\\n',\n",
       " 'Zebra finch\\n',\n",
       " 'Animals by number of neurons\\n',\n",
       " 'Animals by size\\n',\n",
       " 'Common household pests\\n',\n",
       " 'Common names of poisonous animals\\n',\n",
       " 'Alpaca\\n',\n",
       " 'Bali cattle\\n',\n",
       " 'Cat\\n',\n",
       " 'Cattle\\n',\n",
       " 'Chicken\\n',\n",
       " 'Dog\\n',\n",
       " 'Domestic Bactrian camel\\n',\n",
       " 'Domestic canary\\n',\n",
       " 'Domestic dromedary camel\\n',\n",
       " 'Domestic duck\\n',\n",
       " 'Domestic goat\\n',\n",
       " 'Domestic goose\\n',\n",
       " 'Domestic guineafowl\\n',\n",
       " 'Domestic hedgehog\\n',\n",
       " 'Domestic pig\\n',\n",
       " 'Domestic pigeon\\n',\n",
       " 'Domestic rabbit\\n',\n",
       " 'Domestic silkmoth\\n',\n",
       " 'Domestic silver fox\\n',\n",
       " 'Domestic turkey\\n',\n",
       " 'Donkey\\n',\n",
       " 'Fancy mouse\\n',\n",
       " 'Fancy rat\\n',\n",
       " 'Lab rat\\n',\n",
       " 'Ferret\\n',\n",
       " 'Gayal\\n',\n",
       " 'Goldfish\\n',\n",
       " 'Guinea pig\\n',\n",
       " 'Guppy\\n',\n",
       " 'Horse\\n',\n",
       " 'Koi\\n',\n",
       " 'Llama\\n',\n",
       " 'Ringneck dove\\n',\n",
       " 'Sheep\\n',\n",
       " 'Siamese fighting fish\\n',\n",
       " 'Society finch\\n',\n",
       " 'Yak\\n',\n",
       " 'Water buffalo']"
      ]
     },
     "execution_count": 31,
     "metadata": {},
     "output_type": "execute_result"
    }
   ],
   "source": [
    "animals_list"
   ]
  },
  {
   "cell_type": "code",
   "execution_count": 32,
   "id": "6c3b9043-e7da-4388-bed4-22e69ae85c34",
   "metadata": {
    "tags": []
   },
   "outputs": [
    {
     "data": {
      "text/plain": [
       "521"
      ]
     },
     "execution_count": 32,
     "metadata": {},
     "output_type": "execute_result"
    }
   ],
   "source": [
    "len(animals_list)"
   ]
  },
  {
   "cell_type": "markdown",
   "id": "18ad4450-41b5-4d5e-b778-15a4ae688947",
   "metadata": {},
   "source": [
    "## Writing to a File"
   ]
  },
  {
   "cell_type": "markdown",
   "id": "ed847807-88d9-4bc9-b254-c6de49b85987",
   "metadata": {},
   "source": [
    "By default, the `open()` function will only allow us to read the file.\n",
    "\n",
    "We need to pass the argument `'w'` to write over the file. It will create an ***empty text file*** to be written.\n",
    "\n",
    "PS: you can choose the extension you wish."
   ]
  },
  {
   "cell_type": "code",
   "execution_count": 36,
   "id": "141e78f6-0a2d-4f66-a82a-80a635ef4618",
   "metadata": {
    "tags": []
   },
   "outputs": [],
   "source": [
    "love_letter = open('out/love_letter.md', 'w')"
   ]
  },
  {
   "cell_type": "markdown",
   "id": "f7db2f84-a1f8-49ed-b231-bcd70eaea9c4",
   "metadata": {},
   "source": [
    "<br/>\n",
    "\n",
    "Now, use the `.write()` commands **to write** a string to the file.\n",
    "\n",
    "PS: This method also accepts the _f-string_ convention."
   ]
  },
  {
   "cell_type": "code",
   "execution_count": 37,
   "id": "45a2697e-3919-4511-b3d6-ad5a90bb9a20",
   "metadata": {
    "tags": []
   },
   "outputs": [
    {
     "data": {
      "text/plain": [
       "35"
      ]
     },
     "execution_count": 37,
     "metadata": {},
     "output_type": "execute_result"
    }
   ],
   "source": [
    "love_letter.write('I walked alone on the street.\\n')\n",
    "love_letter.write('I spoke to the stars and the moon.\\n')"
   ]
  },
  {
   "cell_type": "markdown",
   "id": "8ff1f347-e13f-4edc-9e16-787dd0e8a84b",
   "metadata": {},
   "source": [
    "We've just written 35 bytes/characters. <br/>\n",
    "Now, open the file in a text editor and check it. See that the file is empty. This happen because we still **don't close** the file. The written content is just trully written to the file after closing it. "
   ]
  },
  {
   "cell_type": "code",
   "execution_count": 38,
   "id": "ec1fe881-1290-407c-a4a0-61da4820a0a3",
   "metadata": {
    "tags": []
   },
   "outputs": [],
   "source": [
    "love_letter.close()"
   ]
  },
  {
   "cell_type": "markdown",
   "id": "67dfa45e-9d12-4f7e-bb03-b325ed8a682f",
   "metadata": {},
   "source": [
    "Now, open the file in a text editor again and check its content. The content is now there!"
   ]
  },
  {
   "cell_type": "markdown",
   "id": "b96f8d13-46b2-49e3-90a2-8cb3a0e56faa",
   "metadata": {},
   "source": [
    "<br/>\n",
    "\n",
    "If you open the file again in the **writing mode**, its **content will be overwritten** since the file already exists, that is, all previous content will be lost."
   ]
  },
  {
   "cell_type": "code",
   "execution_count": 39,
   "id": "0b81c67d-f93a-4636-b6d5-247cd4cb5e1f",
   "metadata": {
    "tags": []
   },
   "outputs": [],
   "source": [
    "love_letter = open('out/love_letter.md', 'w')"
   ]
  },
  {
   "cell_type": "markdown",
   "id": "199591ce-2359-48b7-8d7b-a249c2abf6b6",
   "metadata": {},
   "source": [
    "Open the file in the file editor again and check it."
   ]
  },
  {
   "cell_type": "markdown",
   "id": "444c0c91-a4db-47d6-b6f3-ff3b75c5496b",
   "metadata": {},
   "source": [
    "### Using `f-string`\n",
    "The `.write()` command also accepts the `f-string` pattern:"
   ]
  },
  {
   "cell_type": "code",
   "execution_count": 40,
   "id": "ce3f4144-6585-43ab-8671-36853b7633c6",
   "metadata": {
    "tags": []
   },
   "outputs": [],
   "source": [
    "song = 'I slept in the square'"
   ]
  },
  {
   "cell_type": "code",
   "execution_count": 41,
   "id": "05ddc4be-74d1-427f-84d8-e19b8fb7cbf4",
   "metadata": {
    "tags": []
   },
   "outputs": [
    {
     "data": {
      "text/plain": [
       "35"
      ]
     },
     "execution_count": 41,
     "metadata": {},
     "output_type": "execute_result"
    }
   ],
   "source": [
    "love_letter.write(f'** Song: {song} **\\n\\n')"
   ]
  },
  {
   "cell_type": "code",
   "execution_count": 42,
   "id": "3b8fc428-2881-400c-b5e4-80072a01d4a4",
   "metadata": {
    "tags": []
   },
   "outputs": [
    {
     "data": {
      "text/plain": [
       "35"
      ]
     },
     "execution_count": 42,
     "metadata": {},
     "output_type": "execute_result"
    }
   ],
   "source": [
    "love_letter.write('I walked alone on the street.\\n')\n",
    "love_letter.write('I spoke to the stars and the moon.\\n')"
   ]
  },
  {
   "cell_type": "code",
   "execution_count": 43,
   "id": "382caad7-29db-4632-b6c9-920200bac9c4",
   "metadata": {
    "tags": []
   },
   "outputs": [],
   "source": [
    "love_letter.close()"
   ]
  },
  {
   "cell_type": "markdown",
   "id": "abee0087-d10b-402a-b07c-79d9eb5198bd",
   "metadata": {},
   "source": [
    "### Appending to a File\n",
    "Passing the read mode `'a'` opens the file and puts the cursor **at the end**, so anything written is **appended**. If the file does not exist, one will be created."
   ]
  },
  {
   "cell_type": "code",
   "execution_count": 44,
   "id": "d6ed49dc-6e7e-4f09-8d3b-0464ed2bb2a1",
   "metadata": {
    "tags": []
   },
   "outputs": [
    {
     "data": {
      "text/plain": [
       "<_io.TextIOWrapper name='out/love_letter.md' mode='a' encoding='UTF-8'>"
      ]
     },
     "execution_count": 44,
     "metadata": {},
     "output_type": "execute_result"
    }
   ],
   "source": [
    "love_letter = open('out/love_letter.md', 'a')\n",
    "love_letter"
   ]
  },
  {
   "cell_type": "code",
   "execution_count": 45,
   "id": "34a156d4-65bd-4d39-a7b4-8c73ef0726e0",
   "metadata": {
    "tags": []
   },
   "outputs": [
    {
     "data": {
      "text/plain": [
       "34"
      ]
     },
     "execution_count": 45,
     "metadata": {},
     "output_type": "execute_result"
    }
   ],
   "source": [
    "love_letter.write('I lay down on the bench in the square, trying to forget you.\\n')\n",
    "love_letter.write('I fell asleep and dreamed of you.\\n')"
   ]
  },
  {
   "cell_type": "code",
   "execution_count": 46,
   "id": "e21da0c3-ff30-4959-a741-d766181433b9",
   "metadata": {
    "tags": []
   },
   "outputs": [],
   "source": [
    "love_letter.close()"
   ]
  },
  {
   "cell_type": "markdown",
   "id": "88da7ce6-e923-4cda-8173-4d5641b5c1bd",
   "metadata": {},
   "source": [
    "### `.writelines()`\n",
    "We can write a list of elements to a file."
   ]
  },
  {
   "cell_type": "code",
   "execution_count": 47,
   "id": "09d5b4a6-10b9-4b3f-9d53-830503491a8f",
   "metadata": {
    "tags": []
   },
   "outputs": [],
   "source": [
    "products = ['iPhone', 'Xbox', 'Playstation', 'Nintendo Switch', 'Fusca']"
   ]
  },
  {
   "cell_type": "code",
   "execution_count": 48,
   "id": "b5a75f8d-15f9-4ad8-b29d-b3d4d5755d09",
   "metadata": {
    "tags": []
   },
   "outputs": [
    {
     "data": {
      "text/plain": [
       "['iPhone', 'Xbox', 'Playstation', 'Nintendo Switch', 'Fusca']"
      ]
     },
     "execution_count": 48,
     "metadata": {},
     "output_type": "execute_result"
    }
   ],
   "source": [
    "products"
   ]
  },
  {
   "cell_type": "code",
   "execution_count": 49,
   "id": "749d23ab-82e4-4cf2-8bf4-4f179b27b55b",
   "metadata": {
    "tags": []
   },
   "outputs": [],
   "source": [
    "products_file = open('out/products.txt', 'w')"
   ]
  },
  {
   "cell_type": "code",
   "execution_count": 50,
   "id": "d716e839-d0d5-4977-8d96-17b28f9714c6",
   "metadata": {
    "tags": []
   },
   "outputs": [],
   "source": [
    "products_file.writelines(products)"
   ]
  },
  {
   "cell_type": "code",
   "execution_count": 51,
   "id": "4e340ec0-1513-4aa0-8da1-52d7088752c0",
   "metadata": {
    "tags": []
   },
   "outputs": [],
   "source": [
    "products_file.close()"
   ]
  },
  {
   "cell_type": "markdown",
   "id": "4a76ca53-9615-4b51-87e8-ecf49967793f",
   "metadata": {},
   "source": [
    "Note that no line separator (e.g., `\\n`) was added to each element."
   ]
  },
  {
   "cell_type": "markdown",
   "id": "2a1e7268-df03-4409-8d7f-ef22925faf69",
   "metadata": {},
   "source": [
    "## Aliases and Context Managers\n",
    "You can assign _temporary variable_ names as **aliases**, and manage the opening and closing of files **automatically** using a **context manager** (`with`):"
   ]
  },
  {
   "cell_type": "code",
   "execution_count": 52,
   "id": "2fc6ef03-4150-495e-be2e-916989ec63da",
   "metadata": {
    "tags": []
   },
   "outputs": [],
   "source": [
    "with open('demos/animals.txt', 'r') as txt:\n",
    "    first_animal = txt.readlines()[0]"
   ]
  },
  {
   "cell_type": "code",
   "execution_count": 53,
   "id": "38cbde2e-f269-43c4-a809-c9bbbe599543",
   "metadata": {
    "tags": []
   },
   "outputs": [
    {
     "data": {
      "text/plain": [
       "'Canidae\\n'"
      ]
     },
     "execution_count": 53,
     "metadata": {},
     "output_type": "execute_result"
    }
   ],
   "source": [
    "first_animal"
   ]
  },
  {
   "cell_type": "markdown",
   "id": "af25358d-70c4-490d-957c-bcd0a2a0c036",
   "metadata": {},
   "source": [
    "Note that the `with ... as ...:` *context manager* **automatically closed** `animals.txt` after assigning the first line of text to `first_animal`:"
   ]
  },
  {
   "cell_type": "code",
   "execution_count": 54,
   "id": "ec2b77bb-a638-4759-87a2-11d71b379ac6",
   "metadata": {
    "tags": []
   },
   "outputs": [
    {
     "ename": "ValueError",
     "evalue": "I/O operation on closed file.",
     "output_type": "error",
     "traceback": [
      "\u001b[0;31m---------------------------------------------------------------------------\u001b[0m",
      "\u001b[0;31mValueError\u001b[0m                                Traceback (most recent call last)",
      "Cell \u001b[0;32mIn[54], line 1\u001b[0m\n\u001b[0;32m----> 1\u001b[0m \u001b[43mtxt\u001b[49m\u001b[38;5;241;43m.\u001b[39;49m\u001b[43mread\u001b[49m\u001b[43m(\u001b[49m\u001b[43m)\u001b[49m\n",
      "\u001b[0;31mValueError\u001b[0m: I/O operation on closed file."
     ]
    }
   ],
   "source": [
    "txt.read()"
   ]
  },
  {
   "cell_type": "markdown",
   "id": "41fc6eb4-d68c-40c0-819b-0e5095bf1953",
   "metadata": {},
   "source": [
    "## Iterating through a File"
   ]
  },
  {
   "cell_type": "code",
   "execution_count": 59,
   "id": "c65e4400-e6af-4543-a86d-ab65508a0c74",
   "metadata": {
    "tags": []
   },
   "outputs": [
    {
     "name": "stdout",
     "output_type": "stream",
     "text": [
      "0 App,Category,Rating,Reviews\n",
      "1 Photo Editor & Candy Camera & Grid & ScrapBook,ART_AND_DESIGN,4.1,159\n",
      "2 Coloring book moana,ART_AND_DESIGN,3.9,967\n",
      "3 Gas Prices (Germany only),AUTO_AND_VEHICLES,4.4,805\n",
      "4 Sketch - Draw & Paint,ART_AND_DESIGN,4.5,215644\n",
      "5 Pixel Draw - Number Art Coloring Book,ART_AND_DESIGN,4.3,967\n",
      "6 Paper flowers instructions,ART_AND_DESIGN,4.4,167\n",
      "7 Smoke Effect Photo Maker - Smoke Editor,ART_AND_DESIGN,3.8,178\n",
      "8 Infinite Painter,ART_AND_DESIGN,4.1,36815\n",
      "9 Garden Coloring Book,ART_AND_DESIGN,4.4,13791\n",
      "10 Kids Paint Free - Drawing Fun,ART_AND_DESIGN,4.7,121\n",
      "11 Text on Photo - Fonteee,ART_AND_DESIGN,4.4,13880\n",
      "12 Name Art Photo Editor - Focus n Filters,ART_AND_DESIGN,4.4,8788\n",
      "13 Tattoo Name On My Photo Editor,ART_AND_DESIGN,4.2,44829\n",
      "14 Mandala Coloring Book,ART_AND_DESIGN,4.6,4326\n",
      "15 3D Color Pixel by Number - Sandbox Art Coloring,ART_AND_DESIGN,4.4,1518\n",
      "16 Learn To Draw Kawaii Characters,ART_AND_DESIGN,3.2,55\n",
      "17 Photo Designer - Write your name with shapes,ART_AND_DESIGN,4.7,3632\n",
      "18 350 Diy Room Decor Ideas,ART_AND_DESIGN,4.5,27\n",
      "19 FlipaClip - Cartoon animation,ART_AND_DESIGN,4.3,194216\n",
      "20 ibis Paint X,ART_AND_DESIGN,4.6,224399\n",
      "21 Logo Maker - Small Business,ART_AND_DESIGN,4,450\n",
      "22 Boys Photo Editor - Six Pack & Men's Suit,ART_AND_DESIGN,4.1,654\n",
      "23 Superheroes Wallpapers | 4K Backgrounds,ART_AND_DESIGN,4.7,7699\n",
      "24 HD Mickey Minnie Wallpapers,ART_AND_DESIGN,4.7,118\n",
      "25 Harley Quinn wallpapers HD,ART_AND_DESIGN,4.8,192\n",
      "26 Colorfit - Drawing & Coloring,ART_AND_DESIGN,4.7,20260\n",
      "27 Animated Photo Editor,ART_AND_DESIGN,4.1,203\n",
      "28 Pencil Sketch Drawing,ART_AND_DESIGN,3.9,136\n",
      "29 Easy Realistic Drawing Tutorial,ART_AND_DESIGN,4.1,223\n",
      "30 Pink Silver Bow Keyboard Theme,ART_AND_DESIGN,4.2,1120\n"
     ]
    }
   ],
   "source": [
    "with open('demos/googleplaystore.csv', 'r') as playstore_file:\n",
    "    for i, line in enumerate(playstore_file):\n",
    "        print(i, line, end='')"
   ]
  },
  {
   "cell_type": "markdown",
   "id": "3557f6a5-ea85-4718-9d54-9a0b1bdcf49e",
   "metadata": {},
   "source": [
    "### Reading a CSV by scratch"
   ]
  },
  {
   "cell_type": "code",
   "execution_count": 60,
   "id": "a240247e-7a9d-4b77-909d-086bf1902b22",
   "metadata": {
    "tags": []
   },
   "outputs": [],
   "source": [
    "# package for debugging\n",
    "import pdb"
   ]
  },
  {
   "cell_type": "code",
   "execution_count": 67,
   "id": "22adc5b2-2058-4bbb-acdc-bfa556f0220c",
   "metadata": {
    "tags": []
   },
   "outputs": [],
   "source": [
    "playstore_dict = {\n",
    "    'apps': [],\n",
    "    'categories': [],\n",
    "    'ratings': [],\n",
    "    'reviews': []\n",
    "}\n",
    "\n",
    "with open('demos/googleplaystore.csv', 'r') as playstore_file:\n",
    "    for line in playstore_file:\n",
    "        # delete \\n\n",
    "        line = line.replace('\\n', '')\n",
    "        \n",
    "        # split the columns on ','\n",
    "        app, category, rating, review = line.split(',')\n",
    "        \n",
    "        playstore_dict['apps'].append(app)\n",
    "        playstore_dict['categories'].append(category)\n",
    "        playstore_dict['ratings'].append(rating)\n",
    "        playstore_dict['reviews'].append(review)\n",
    "        \n",
    "        # pdb.set_trace() = set a debugging breakpoint\n",
    "        # type c to continue the execution\n",
    "        # type q to quit\n",
    "        # pdb.set_trace()"
   ]
  },
  {
   "cell_type": "code",
   "execution_count": 68,
   "id": "2c5a2ba3-0884-4fb8-b114-e4738830b57d",
   "metadata": {
    "tags": []
   },
   "outputs": [
    {
     "name": "stdout",
     "output_type": "stream",
     "text": [
      "{'apps': ['App',\n",
      "          'Photo Editor & Candy Camera & Grid & ScrapBook',\n",
      "          'Coloring book moana',\n",
      "          'Gas Prices (Germany only)',\n",
      "          'Sketch - Draw & Paint',\n",
      "          'Pixel Draw - Number Art Coloring Book',\n",
      "          'Paper flowers instructions',\n",
      "          'Smoke Effect Photo Maker - Smoke Editor',\n",
      "          'Infinite Painter',\n",
      "          'Garden Coloring Book',\n",
      "          'Kids Paint Free - Drawing Fun',\n",
      "          'Text on Photo - Fonteee',\n",
      "          'Name Art Photo Editor - Focus n Filters',\n",
      "          'Tattoo Name On My Photo Editor',\n",
      "          'Mandala Coloring Book',\n",
      "          '3D Color Pixel by Number - Sandbox Art Coloring',\n",
      "          'Learn To Draw Kawaii Characters',\n",
      "          'Photo Designer - Write your name with shapes',\n",
      "          '350 Diy Room Decor Ideas',\n",
      "          'FlipaClip - Cartoon animation',\n",
      "          'ibis Paint X',\n",
      "          'Logo Maker - Small Business',\n",
      "          \"Boys Photo Editor - Six Pack & Men's Suit\",\n",
      "          'Superheroes Wallpapers | 4K Backgrounds',\n",
      "          'HD Mickey Minnie Wallpapers',\n",
      "          'Harley Quinn wallpapers HD',\n",
      "          'Colorfit - Drawing & Coloring',\n",
      "          'Animated Photo Editor',\n",
      "          'Pencil Sketch Drawing',\n",
      "          'Easy Realistic Drawing Tutorial',\n",
      "          'Pink Silver Bow Keyboard Theme'],\n",
      " 'categories': ['Category',\n",
      "                'ART_AND_DESIGN',\n",
      "                'ART_AND_DESIGN',\n",
      "                'AUTO_AND_VEHICLES',\n",
      "                'ART_AND_DESIGN',\n",
      "                'ART_AND_DESIGN',\n",
      "                'ART_AND_DESIGN',\n",
      "                'ART_AND_DESIGN',\n",
      "                'ART_AND_DESIGN',\n",
      "                'ART_AND_DESIGN',\n",
      "                'ART_AND_DESIGN',\n",
      "                'ART_AND_DESIGN',\n",
      "                'ART_AND_DESIGN',\n",
      "                'ART_AND_DESIGN',\n",
      "                'ART_AND_DESIGN',\n",
      "                'ART_AND_DESIGN',\n",
      "                'ART_AND_DESIGN',\n",
      "                'ART_AND_DESIGN',\n",
      "                'ART_AND_DESIGN',\n",
      "                'ART_AND_DESIGN',\n",
      "                'ART_AND_DESIGN',\n",
      "                'ART_AND_DESIGN',\n",
      "                'ART_AND_DESIGN',\n",
      "                'ART_AND_DESIGN',\n",
      "                'ART_AND_DESIGN',\n",
      "                'ART_AND_DESIGN',\n",
      "                'ART_AND_DESIGN',\n",
      "                'ART_AND_DESIGN',\n",
      "                'ART_AND_DESIGN',\n",
      "                'ART_AND_DESIGN',\n",
      "                'ART_AND_DESIGN'],\n",
      " 'ratings': ['Rating',\n",
      "             '4.1',\n",
      "             '3.9',\n",
      "             '4.4',\n",
      "             '4.5',\n",
      "             '4.3',\n",
      "             '4.4',\n",
      "             '3.8',\n",
      "             '4.1',\n",
      "             '4.4',\n",
      "             '4.7',\n",
      "             '4.4',\n",
      "             '4.4',\n",
      "             '4.2',\n",
      "             '4.6',\n",
      "             '4.4',\n",
      "             '3.2',\n",
      "             '4.7',\n",
      "             '4.5',\n",
      "             '4.3',\n",
      "             '4.6',\n",
      "             '4',\n",
      "             '4.1',\n",
      "             '4.7',\n",
      "             '4.7',\n",
      "             '4.8',\n",
      "             '4.7',\n",
      "             '4.1',\n",
      "             '3.9',\n",
      "             '4.1',\n",
      "             '4.2'],\n",
      " 'reviews': ['Reviews',\n",
      "             '159',\n",
      "             '967',\n",
      "             '805',\n",
      "             '215644',\n",
      "             '967',\n",
      "             '167',\n",
      "             '178',\n",
      "             '36815',\n",
      "             '13791',\n",
      "             '121',\n",
      "             '13880',\n",
      "             '8788',\n",
      "             '44829',\n",
      "             '4326',\n",
      "             '1518',\n",
      "             '55',\n",
      "             '3632',\n",
      "             '27',\n",
      "             '194216',\n",
      "             '224399',\n",
      "             '450',\n",
      "             '654',\n",
      "             '7699',\n",
      "             '118',\n",
      "             '192',\n",
      "             '20260',\n",
      "             '203',\n",
      "             '136',\n",
      "             '223',\n",
      "             '1120']}\n"
     ]
    }
   ],
   "source": [
    "from pprint import pprint\n",
    "\n",
    "pprint(playstore_dict)"
   ]
  },
  {
   "cell_type": "code",
   "execution_count": 70,
   "id": "b3392cc3-3a76-4b13-a8e9-066fa6d59303",
   "metadata": {
    "tags": []
   },
   "outputs": [
    {
     "data": {
      "text/plain": [
       "31"
      ]
     },
     "execution_count": 70,
     "metadata": {},
     "output_type": "execute_result"
    }
   ],
   "source": [
    "# number of elements including the header\n",
    "len(playstore_dict['apps'])"
   ]
  },
  {
   "cell_type": "markdown",
   "id": "4efb1d19-7f28-4e37-a4ea-7d466baada61",
   "metadata": {},
   "source": [
    "Let's remove the _header_ (first element of each list):"
   ]
  },
  {
   "cell_type": "code",
   "execution_count": 71,
   "id": "9415829f-dbd2-4305-b9e8-757e5300d224",
   "metadata": {
    "tags": []
   },
   "outputs": [
    {
     "data": {
      "text/plain": [
       "'Reviews'"
      ]
     },
     "execution_count": 71,
     "metadata": {},
     "output_type": "execute_result"
    }
   ],
   "source": [
    "playstore_dict['apps'].pop(0)\n",
    "playstore_dict['categories'].pop(0)\n",
    "playstore_dict['ratings'].pop(0)\n",
    "playstore_dict['reviews'].pop(0)"
   ]
  },
  {
   "cell_type": "code",
   "execution_count": 72,
   "id": "66688e36-7c46-47f1-b1a1-ca02c0b3ac15",
   "metadata": {
    "tags": []
   },
   "outputs": [
    {
     "name": "stdout",
     "output_type": "stream",
     "text": [
      "{'apps': ['Photo Editor & Candy Camera & Grid & ScrapBook',\n",
      "          'Coloring book moana',\n",
      "          'Gas Prices (Germany only)',\n",
      "          'Sketch - Draw & Paint',\n",
      "          'Pixel Draw - Number Art Coloring Book',\n",
      "          'Paper flowers instructions',\n",
      "          'Smoke Effect Photo Maker - Smoke Editor',\n",
      "          'Infinite Painter',\n",
      "          'Garden Coloring Book',\n",
      "          'Kids Paint Free - Drawing Fun',\n",
      "          'Text on Photo - Fonteee',\n",
      "          'Name Art Photo Editor - Focus n Filters',\n",
      "          'Tattoo Name On My Photo Editor',\n",
      "          'Mandala Coloring Book',\n",
      "          '3D Color Pixel by Number - Sandbox Art Coloring',\n",
      "          'Learn To Draw Kawaii Characters',\n",
      "          'Photo Designer - Write your name with shapes',\n",
      "          '350 Diy Room Decor Ideas',\n",
      "          'FlipaClip - Cartoon animation',\n",
      "          'ibis Paint X',\n",
      "          'Logo Maker - Small Business',\n",
      "          \"Boys Photo Editor - Six Pack & Men's Suit\",\n",
      "          'Superheroes Wallpapers | 4K Backgrounds',\n",
      "          'HD Mickey Minnie Wallpapers',\n",
      "          'Harley Quinn wallpapers HD',\n",
      "          'Colorfit - Drawing & Coloring',\n",
      "          'Animated Photo Editor',\n",
      "          'Pencil Sketch Drawing',\n",
      "          'Easy Realistic Drawing Tutorial',\n",
      "          'Pink Silver Bow Keyboard Theme'],\n",
      " 'categories': ['ART_AND_DESIGN',\n",
      "                'ART_AND_DESIGN',\n",
      "                'AUTO_AND_VEHICLES',\n",
      "                'ART_AND_DESIGN',\n",
      "                'ART_AND_DESIGN',\n",
      "                'ART_AND_DESIGN',\n",
      "                'ART_AND_DESIGN',\n",
      "                'ART_AND_DESIGN',\n",
      "                'ART_AND_DESIGN',\n",
      "                'ART_AND_DESIGN',\n",
      "                'ART_AND_DESIGN',\n",
      "                'ART_AND_DESIGN',\n",
      "                'ART_AND_DESIGN',\n",
      "                'ART_AND_DESIGN',\n",
      "                'ART_AND_DESIGN',\n",
      "                'ART_AND_DESIGN',\n",
      "                'ART_AND_DESIGN',\n",
      "                'ART_AND_DESIGN',\n",
      "                'ART_AND_DESIGN',\n",
      "                'ART_AND_DESIGN',\n",
      "                'ART_AND_DESIGN',\n",
      "                'ART_AND_DESIGN',\n",
      "                'ART_AND_DESIGN',\n",
      "                'ART_AND_DESIGN',\n",
      "                'ART_AND_DESIGN',\n",
      "                'ART_AND_DESIGN',\n",
      "                'ART_AND_DESIGN',\n",
      "                'ART_AND_DESIGN',\n",
      "                'ART_AND_DESIGN',\n",
      "                'ART_AND_DESIGN'],\n",
      " 'ratings': ['4.1',\n",
      "             '3.9',\n",
      "             '4.4',\n",
      "             '4.5',\n",
      "             '4.3',\n",
      "             '4.4',\n",
      "             '3.8',\n",
      "             '4.1',\n",
      "             '4.4',\n",
      "             '4.7',\n",
      "             '4.4',\n",
      "             '4.4',\n",
      "             '4.2',\n",
      "             '4.6',\n",
      "             '4.4',\n",
      "             '3.2',\n",
      "             '4.7',\n",
      "             '4.5',\n",
      "             '4.3',\n",
      "             '4.6',\n",
      "             '4',\n",
      "             '4.1',\n",
      "             '4.7',\n",
      "             '4.7',\n",
      "             '4.8',\n",
      "             '4.7',\n",
      "             '4.1',\n",
      "             '3.9',\n",
      "             '4.1',\n",
      "             '4.2'],\n",
      " 'reviews': ['159',\n",
      "             '967',\n",
      "             '805',\n",
      "             '215644',\n",
      "             '967',\n",
      "             '167',\n",
      "             '178',\n",
      "             '36815',\n",
      "             '13791',\n",
      "             '121',\n",
      "             '13880',\n",
      "             '8788',\n",
      "             '44829',\n",
      "             '4326',\n",
      "             '1518',\n",
      "             '55',\n",
      "             '3632',\n",
      "             '27',\n",
      "             '194216',\n",
      "             '224399',\n",
      "             '450',\n",
      "             '654',\n",
      "             '7699',\n",
      "             '118',\n",
      "             '192',\n",
      "             '20260',\n",
      "             '203',\n",
      "             '136',\n",
      "             '223',\n",
      "             '1120']}\n"
     ]
    }
   ],
   "source": [
    "pprint(playstore_dict)"
   ]
  },
  {
   "cell_type": "markdown",
   "id": "7d03c7c1-a454-4553-b2ef-ec977e21e32e",
   "metadata": {},
   "source": [
    "### Writing a CSV by scratch\n",
    "Let's create a CSV file by scratch for our apps read previously. Let's only consider the columns: `'apps'` and `'ratings'`."
   ]
  },
  {
   "cell_type": "code",
   "execution_count": 82,
   "id": "ab88f504-e0c0-4b17-8723-a5d63e005ff5",
   "metadata": {
    "tags": []
   },
   "outputs": [],
   "source": [
    "my_playstore_file = open('out/my_googleplaystore.csv', 'w')"
   ]
  },
  {
   "cell_type": "code",
   "execution_count": 83,
   "id": "e6029fc5-9d2b-49f4-a869-2a8dd580d2ca",
   "metadata": {
    "tags": []
   },
   "outputs": [
    {
     "data": {
      "text/plain": [
       "11"
      ]
     },
     "execution_count": 83,
     "metadata": {},
     "output_type": "execute_result"
    }
   ],
   "source": [
    "# writing the header\n",
    "my_playstore_file.write('app,rating\\n')"
   ]
  },
  {
   "cell_type": "code",
   "execution_count": 84,
   "id": "1c306f96-0eb1-49c9-a16f-8c775f6bfa9d",
   "metadata": {
    "tags": []
   },
   "outputs": [],
   "source": [
    "for app, rating in zip(playstore_dict['apps'], playstore_dict['ratings']):\n",
    "    my_playstore_file.write(f'{app},{rating}\\n')"
   ]
  },
  {
   "cell_type": "code",
   "execution_count": 85,
   "id": "1e00a105-b9c2-4659-99c6-32db7025a374",
   "metadata": {
    "tags": []
   },
   "outputs": [],
   "source": [
    "my_playstore_file.close()"
   ]
  },
  {
   "cell_type": "code",
   "execution_count": 86,
   "id": "5e5779dd-3c8c-4c37-8576-f70825beac1e",
   "metadata": {
    "tags": []
   },
   "outputs": [
    {
     "data": {
      "text/html": [
       "<div>\n",
       "<style scoped>\n",
       "    .dataframe tbody tr th:only-of-type {\n",
       "        vertical-align: middle;\n",
       "    }\n",
       "\n",
       "    .dataframe tbody tr th {\n",
       "        vertical-align: top;\n",
       "    }\n",
       "\n",
       "    .dataframe thead th {\n",
       "        text-align: right;\n",
       "    }\n",
       "</style>\n",
       "<table border=\"1\" class=\"dataframe\">\n",
       "  <thead>\n",
       "    <tr style=\"text-align: right;\">\n",
       "      <th></th>\n",
       "      <th>app</th>\n",
       "      <th>rating</th>\n",
       "    </tr>\n",
       "  </thead>\n",
       "  <tbody>\n",
       "    <tr>\n",
       "      <th>0</th>\n",
       "      <td>Photo Editor &amp; Candy Camera &amp; Grid &amp; ScrapBook</td>\n",
       "      <td>4.1</td>\n",
       "    </tr>\n",
       "    <tr>\n",
       "      <th>1</th>\n",
       "      <td>Coloring book moana</td>\n",
       "      <td>3.9</td>\n",
       "    </tr>\n",
       "    <tr>\n",
       "      <th>2</th>\n",
       "      <td>Gas Prices (Germany only)</td>\n",
       "      <td>4.4</td>\n",
       "    </tr>\n",
       "    <tr>\n",
       "      <th>3</th>\n",
       "      <td>Sketch - Draw &amp; Paint</td>\n",
       "      <td>4.5</td>\n",
       "    </tr>\n",
       "    <tr>\n",
       "      <th>4</th>\n",
       "      <td>Pixel Draw - Number Art Coloring Book</td>\n",
       "      <td>4.3</td>\n",
       "    </tr>\n",
       "    <tr>\n",
       "      <th>5</th>\n",
       "      <td>Paper flowers instructions</td>\n",
       "      <td>4.4</td>\n",
       "    </tr>\n",
       "    <tr>\n",
       "      <th>6</th>\n",
       "      <td>Smoke Effect Photo Maker - Smoke Editor</td>\n",
       "      <td>3.8</td>\n",
       "    </tr>\n",
       "    <tr>\n",
       "      <th>7</th>\n",
       "      <td>Infinite Painter</td>\n",
       "      <td>4.1</td>\n",
       "    </tr>\n",
       "    <tr>\n",
       "      <th>8</th>\n",
       "      <td>Garden Coloring Book</td>\n",
       "      <td>4.4</td>\n",
       "    </tr>\n",
       "    <tr>\n",
       "      <th>9</th>\n",
       "      <td>Kids Paint Free - Drawing Fun</td>\n",
       "      <td>4.7</td>\n",
       "    </tr>\n",
       "    <tr>\n",
       "      <th>10</th>\n",
       "      <td>Text on Photo - Fonteee</td>\n",
       "      <td>4.4</td>\n",
       "    </tr>\n",
       "    <tr>\n",
       "      <th>11</th>\n",
       "      <td>Name Art Photo Editor - Focus n Filters</td>\n",
       "      <td>4.4</td>\n",
       "    </tr>\n",
       "    <tr>\n",
       "      <th>12</th>\n",
       "      <td>Tattoo Name On My Photo Editor</td>\n",
       "      <td>4.2</td>\n",
       "    </tr>\n",
       "    <tr>\n",
       "      <th>13</th>\n",
       "      <td>Mandala Coloring Book</td>\n",
       "      <td>4.6</td>\n",
       "    </tr>\n",
       "    <tr>\n",
       "      <th>14</th>\n",
       "      <td>3D Color Pixel by Number - Sandbox Art Coloring</td>\n",
       "      <td>4.4</td>\n",
       "    </tr>\n",
       "    <tr>\n",
       "      <th>15</th>\n",
       "      <td>Learn To Draw Kawaii Characters</td>\n",
       "      <td>3.2</td>\n",
       "    </tr>\n",
       "    <tr>\n",
       "      <th>16</th>\n",
       "      <td>Photo Designer - Write your name with shapes</td>\n",
       "      <td>4.7</td>\n",
       "    </tr>\n",
       "    <tr>\n",
       "      <th>17</th>\n",
       "      <td>350 Diy Room Decor Ideas</td>\n",
       "      <td>4.5</td>\n",
       "    </tr>\n",
       "    <tr>\n",
       "      <th>18</th>\n",
       "      <td>FlipaClip - Cartoon animation</td>\n",
       "      <td>4.3</td>\n",
       "    </tr>\n",
       "    <tr>\n",
       "      <th>19</th>\n",
       "      <td>ibis Paint X</td>\n",
       "      <td>4.6</td>\n",
       "    </tr>\n",
       "    <tr>\n",
       "      <th>20</th>\n",
       "      <td>Logo Maker - Small Business</td>\n",
       "      <td>4.0</td>\n",
       "    </tr>\n",
       "    <tr>\n",
       "      <th>21</th>\n",
       "      <td>Boys Photo Editor - Six Pack &amp; Men's Suit</td>\n",
       "      <td>4.1</td>\n",
       "    </tr>\n",
       "    <tr>\n",
       "      <th>22</th>\n",
       "      <td>Superheroes Wallpapers | 4K Backgrounds</td>\n",
       "      <td>4.7</td>\n",
       "    </tr>\n",
       "    <tr>\n",
       "      <th>23</th>\n",
       "      <td>HD Mickey Minnie Wallpapers</td>\n",
       "      <td>4.7</td>\n",
       "    </tr>\n",
       "    <tr>\n",
       "      <th>24</th>\n",
       "      <td>Harley Quinn wallpapers HD</td>\n",
       "      <td>4.8</td>\n",
       "    </tr>\n",
       "    <tr>\n",
       "      <th>25</th>\n",
       "      <td>Colorfit - Drawing &amp; Coloring</td>\n",
       "      <td>4.7</td>\n",
       "    </tr>\n",
       "    <tr>\n",
       "      <th>26</th>\n",
       "      <td>Animated Photo Editor</td>\n",
       "      <td>4.1</td>\n",
       "    </tr>\n",
       "    <tr>\n",
       "      <th>27</th>\n",
       "      <td>Pencil Sketch Drawing</td>\n",
       "      <td>3.9</td>\n",
       "    </tr>\n",
       "    <tr>\n",
       "      <th>28</th>\n",
       "      <td>Easy Realistic Drawing Tutorial</td>\n",
       "      <td>4.1</td>\n",
       "    </tr>\n",
       "    <tr>\n",
       "      <th>29</th>\n",
       "      <td>Pink Silver Bow Keyboard Theme</td>\n",
       "      <td>4.2</td>\n",
       "    </tr>\n",
       "  </tbody>\n",
       "</table>\n",
       "</div>"
      ],
      "text/plain": [
       "                                                app  rating\n",
       "0    Photo Editor & Candy Camera & Grid & ScrapBook     4.1\n",
       "1                               Coloring book moana     3.9\n",
       "2                         Gas Prices (Germany only)     4.4\n",
       "3                             Sketch - Draw & Paint     4.5\n",
       "4             Pixel Draw - Number Art Coloring Book     4.3\n",
       "5                        Paper flowers instructions     4.4\n",
       "6           Smoke Effect Photo Maker - Smoke Editor     3.8\n",
       "7                                  Infinite Painter     4.1\n",
       "8                              Garden Coloring Book     4.4\n",
       "9                     Kids Paint Free - Drawing Fun     4.7\n",
       "10                          Text on Photo - Fonteee     4.4\n",
       "11          Name Art Photo Editor - Focus n Filters     4.4\n",
       "12                   Tattoo Name On My Photo Editor     4.2\n",
       "13                            Mandala Coloring Book     4.6\n",
       "14  3D Color Pixel by Number - Sandbox Art Coloring     4.4\n",
       "15                  Learn To Draw Kawaii Characters     3.2\n",
       "16     Photo Designer - Write your name with shapes     4.7\n",
       "17                         350 Diy Room Decor Ideas     4.5\n",
       "18                    FlipaClip - Cartoon animation     4.3\n",
       "19                                     ibis Paint X     4.6\n",
       "20                      Logo Maker - Small Business     4.0\n",
       "21        Boys Photo Editor - Six Pack & Men's Suit     4.1\n",
       "22          Superheroes Wallpapers | 4K Backgrounds     4.7\n",
       "23                      HD Mickey Minnie Wallpapers     4.7\n",
       "24                       Harley Quinn wallpapers HD     4.8\n",
       "25                    Colorfit - Drawing & Coloring     4.7\n",
       "26                            Animated Photo Editor     4.1\n",
       "27                            Pencil Sketch Drawing     3.9\n",
       "28                  Easy Realistic Drawing Tutorial     4.1\n",
       "29                   Pink Silver Bow Keyboard Theme     4.2"
      ]
     },
     "execution_count": 86,
     "metadata": {},
     "output_type": "execute_result"
    }
   ],
   "source": [
    "import pandas as pd\n",
    "\n",
    "pd.read_csv('out/my_googleplaystore.csv')"
   ]
  },
  {
   "cell_type": "code",
   "execution_count": null,
   "id": "41928c9a-f192-4c3b-b1e4-18777f990400",
   "metadata": {},
   "outputs": [],
   "source": []
  }
 ],
 "metadata": {
  "kernelspec": {
   "display_name": "Python 3",
   "language": "python",
   "name": "python3"
  },
  "language_info": {
   "codemirror_mode": {
    "name": "ipython",
    "version": 3
   },
   "file_extension": ".py",
   "mimetype": "text/x-python",
   "name": "python",
   "nbconvert_exporter": "python",
   "pygments_lexer": "ipython3",
   "version": "3.8.5"
  }
 },
 "nbformat": 4,
 "nbformat_minor": 5
}
