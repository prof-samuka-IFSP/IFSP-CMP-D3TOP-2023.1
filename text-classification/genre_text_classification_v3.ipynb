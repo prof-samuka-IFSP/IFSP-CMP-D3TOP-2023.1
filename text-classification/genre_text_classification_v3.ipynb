{
 "cells": [
  {
   "cell_type": "markdown",
   "id": "adc93106-f5f6-44df-91b3-edd19125d0c8",
   "metadata": {},
   "source": [
    "## **D3TOP - Tópicos em Ciência de Dados (IFSP Campinas)**\n",
    "**Prof. Dr. Samuel Martins (@iamsamucoding @samucoding @xavecoding)** <br/>\n",
    "xavecoding: https://youtube.com/c/xavecoding <br/><br/>\n",
    "\n",
    "<a rel=\"license\" href=\"http://creativecommons.org/licenses/by-nc-sa/4.0/\"><img alt=\"Creative Commons License\" style=\"border-width:0\" src=\"https://i.creativecommons.org/l/by-nc-sa/4.0/88x31.png\" /></a><br />This work is licensed under a <a rel=\"license\" href=\"http://creativecommons.org/licenses/by-nc-sa/4.0/\">Creative Commons Attribution-NonCommercial-ShareAlike 4.0 International License</a>.\n",
    "\n",
    "<hr/>"
   ]
  },
  {
   "cell_type": "markdown",
   "id": "76248815-fdae-4066-a572-e866cafa765b",
   "metadata": {},
   "source": [
    "# Genre Identification by Text Classification"
   ]
  },
  {
   "cell_type": "markdown",
   "id": "23bf6444-68f6-4077-8ab4-692a66f69eb4",
   "metadata": {},
   "source": [
    "## Sprint 3"
   ]
  },
  {
   "cell_type": "markdown",
   "id": "663226c5-d3f6-4a40-ade7-25832e0b49a0",
   "metadata": {},
   "source": [
    "We will start solving a **Text Classification** problem. We will train a model to predict movies' genres throught their descriptions <br/>\n",
    "\n",
    "In this notebook, we will:\n",
    "- Perform some _text preprocessing_\n",
    "- Extract text features by gensim Word2Vec\n",
    "- Run the previous experiments again"
   ]
  },
  {
   "cell_type": "markdown",
   "id": "0ed14b52-271a-456b-8071-f0d9a71ec8d7",
   "metadata": {},
   "source": [
    "## 1. Get the Dataset\n",
    "https://www.kaggle.com/datasets/hijest/genre-classification-dataset-imdb"
   ]
  },
  {
   "cell_type": "code",
   "execution_count": 1,
   "id": "a3aeeccc-6b6a-4b7e-a632-6c7260e05f3c",
   "metadata": {
    "tags": []
   },
   "outputs": [],
   "source": [
    "import pandas as pd"
   ]
  },
  {
   "cell_type": "code",
   "execution_count": 4,
   "id": "6cea4479-27b0-4020-9a41-942d6b28b887",
   "metadata": {
    "tags": []
   },
   "outputs": [],
   "source": [
    "df_train = pd.read_csv('./datasets/genre_classification_train.csv', sep=';')\n",
    "df_test = pd.read_csv('./datasets/genre_classification_test.csv', sep=';')"
   ]
  },
  {
   "cell_type": "code",
   "execution_count": 5,
   "id": "10932172-0432-40b6-a0b0-d2d371a1df7d",
   "metadata": {
    "tags": []
   },
   "outputs": [
    {
     "data": {
      "text/html": [
       "<div>\n",
       "<style scoped>\n",
       "    .dataframe tbody tr th:only-of-type {\n",
       "        vertical-align: middle;\n",
       "    }\n",
       "\n",
       "    .dataframe tbody tr th {\n",
       "        vertical-align: top;\n",
       "    }\n",
       "\n",
       "    .dataframe thead th {\n",
       "        text-align: right;\n",
       "    }\n",
       "</style>\n",
       "<table border=\"1\" class=\"dataframe\">\n",
       "  <thead>\n",
       "    <tr style=\"text-align: right;\">\n",
       "      <th></th>\n",
       "      <th>id</th>\n",
       "      <th>title</th>\n",
       "      <th>genre</th>\n",
       "      <th>description</th>\n",
       "      <th>label</th>\n",
       "    </tr>\n",
       "  </thead>\n",
       "  <tbody>\n",
       "    <tr>\n",
       "      <th>0</th>\n",
       "      <td>27180</td>\n",
       "      <td>Rivals (1972)</td>\n",
       "      <td>drama</td>\n",
       "      <td>Scott Jacoby, as a boy with an unhealthy and p...</td>\n",
       "      <td>8</td>\n",
       "    </tr>\n",
       "    <tr>\n",
       "      <th>1</th>\n",
       "      <td>19975</td>\n",
       "      <td>Kosava (1974)</td>\n",
       "      <td>drama</td>\n",
       "      <td>The story of two workers who returned from abr...</td>\n",
       "      <td>8</td>\n",
       "    </tr>\n",
       "    <tr>\n",
       "      <th>2</th>\n",
       "      <td>48284</td>\n",
       "      <td>In Winter (2017)</td>\n",
       "      <td>drama</td>\n",
       "      <td>In Winter is an independent feature emerging f...</td>\n",
       "      <td>8</td>\n",
       "    </tr>\n",
       "    <tr>\n",
       "      <th>3</th>\n",
       "      <td>37540</td>\n",
       "      <td>Maria Chapdelaine (1950)</td>\n",
       "      <td>drama</td>\n",
       "      <td>At the beginning of the 20th century, in the N...</td>\n",
       "      <td>8</td>\n",
       "    </tr>\n",
       "    <tr>\n",
       "      <th>4</th>\n",
       "      <td>43389</td>\n",
       "      <td>The Gift Of (2018)</td>\n",
       "      <td>comedy</td>\n",
       "      <td>A delicious combo of romantic-comedy and socia...</td>\n",
       "      <td>5</td>\n",
       "    </tr>\n",
       "    <tr>\n",
       "      <th>...</th>\n",
       "      <td>...</td>\n",
       "      <td>...</td>\n",
       "      <td>...</td>\n",
       "      <td>...</td>\n",
       "      <td>...</td>\n",
       "    </tr>\n",
       "    <tr>\n",
       "      <th>43366</th>\n",
       "      <td>40649</td>\n",
       "      <td>Mesto nic neví (1976)</td>\n",
       "      <td>crime</td>\n",
       "      <td>A summer's day. Sixteen-year-old Hedvika arriv...</td>\n",
       "      <td>6</td>\n",
       "    </tr>\n",
       "    <tr>\n",
       "      <th>43367</th>\n",
       "      <td>50892</td>\n",
       "      <td>Join the Cult (2015)</td>\n",
       "      <td>documentary</td>\n",
       "      <td>Join The Cult follows Cult Of Tomorrows End, a...</td>\n",
       "      <td>7</td>\n",
       "    </tr>\n",
       "    <tr>\n",
       "      <th>43368</th>\n",
       "      <td>28767</td>\n",
       "      <td>Hancock's Half Hour: The New Neighbour (2016)</td>\n",
       "      <td>comedy</td>\n",
       "      <td>Whilst claiming all his neighbours are voyeurs...</td>\n",
       "      <td>5</td>\n",
       "    </tr>\n",
       "    <tr>\n",
       "      <th>43369</th>\n",
       "      <td>37822</td>\n",
       "      <td>New Project 'Zengin Sinifin Dizi Dibinde' (2013)</td>\n",
       "      <td>drama</td>\n",
       "      <td>Spring of 2013, Istanbul in the midst of youth...</td>\n",
       "      <td>8</td>\n",
       "    </tr>\n",
       "    <tr>\n",
       "      <th>43370</th>\n",
       "      <td>22745</td>\n",
       "      <td>Global Operation (????)</td>\n",
       "      <td>documentary</td>\n",
       "      <td>The series takes its audience around the globe...</td>\n",
       "      <td>7</td>\n",
       "    </tr>\n",
       "  </tbody>\n",
       "</table>\n",
       "<p>43371 rows × 5 columns</p>\n",
       "</div>"
      ],
      "text/plain": [
       "          id                                             title        genre   \n",
       "0      27180                                     Rivals (1972)        drama  \\\n",
       "1      19975                                     Kosava (1974)        drama   \n",
       "2      48284                                  In Winter (2017)        drama   \n",
       "3      37540                          Maria Chapdelaine (1950)        drama   \n",
       "4      43389                                The Gift Of (2018)       comedy   \n",
       "...      ...                                               ...          ...   \n",
       "43366  40649                             Mesto nic neví (1976)        crime   \n",
       "43367  50892                              Join the Cult (2015)  documentary   \n",
       "43368  28767     Hancock's Half Hour: The New Neighbour (2016)       comedy   \n",
       "43369  37822  New Project 'Zengin Sinifin Dizi Dibinde' (2013)        drama   \n",
       "43370  22745                           Global Operation (????)  documentary   \n",
       "\n",
       "                                             description  label  \n",
       "0      Scott Jacoby, as a boy with an unhealthy and p...      8  \n",
       "1      The story of two workers who returned from abr...      8  \n",
       "2      In Winter is an independent feature emerging f...      8  \n",
       "3      At the beginning of the 20th century, in the N...      8  \n",
       "4      A delicious combo of romantic-comedy and socia...      5  \n",
       "...                                                  ...    ...  \n",
       "43366  A summer's day. Sixteen-year-old Hedvika arriv...      6  \n",
       "43367  Join The Cult follows Cult Of Tomorrows End, a...      7  \n",
       "43368  Whilst claiming all his neighbours are voyeurs...      5  \n",
       "43369  Spring of 2013, Istanbul in the midst of youth...      8  \n",
       "43370  The series takes its audience around the globe...      7  \n",
       "\n",
       "[43371 rows x 5 columns]"
      ]
     },
     "execution_count": 5,
     "metadata": {},
     "output_type": "execute_result"
    }
   ],
   "source": [
    "df_train"
   ]
  },
  {
   "cell_type": "code",
   "execution_count": 6,
   "id": "f9cdf7c5-148e-48d2-a09f-ccb5a5182944",
   "metadata": {
    "tags": []
   },
   "outputs": [
    {
     "data": {
      "text/html": [
       "<div>\n",
       "<style scoped>\n",
       "    .dataframe tbody tr th:only-of-type {\n",
       "        vertical-align: middle;\n",
       "    }\n",
       "\n",
       "    .dataframe tbody tr th {\n",
       "        vertical-align: top;\n",
       "    }\n",
       "\n",
       "    .dataframe thead th {\n",
       "        text-align: right;\n",
       "    }\n",
       "</style>\n",
       "<table border=\"1\" class=\"dataframe\">\n",
       "  <thead>\n",
       "    <tr style=\"text-align: right;\">\n",
       "      <th></th>\n",
       "      <th>id</th>\n",
       "      <th>title</th>\n",
       "      <th>genre</th>\n",
       "      <th>description</th>\n",
       "      <th>label</th>\n",
       "    </tr>\n",
       "  </thead>\n",
       "  <tbody>\n",
       "    <tr>\n",
       "      <th>0</th>\n",
       "      <td>14679</td>\n",
       "      <td>Undesignated Driver (1996)</td>\n",
       "      <td>short</td>\n",
       "      <td>This video series, in national distribution wi...</td>\n",
       "      <td>21</td>\n",
       "    </tr>\n",
       "    <tr>\n",
       "      <th>1</th>\n",
       "      <td>8348</td>\n",
       "      <td>Proteolysis (????)</td>\n",
       "      <td>action</td>\n",
       "      <td>\"Proteolysis\" is a gritty, action-adventure, s...</td>\n",
       "      <td>0</td>\n",
       "    </tr>\n",
       "    <tr>\n",
       "      <th>2</th>\n",
       "      <td>34987</td>\n",
       "      <td>Intimately Yours (1998)</td>\n",
       "      <td>adventure</td>\n",
       "      <td>Love bondager Chelsea Pfeiffer ties and gags o...</td>\n",
       "      <td>2</td>\n",
       "    </tr>\n",
       "    <tr>\n",
       "      <th>3</th>\n",
       "      <td>15885</td>\n",
       "      <td>49 Days (????)</td>\n",
       "      <td>horror</td>\n",
       "      <td>Jason and Camille, sweethearts since childhood...</td>\n",
       "      <td>13</td>\n",
       "    </tr>\n",
       "    <tr>\n",
       "      <th>4</th>\n",
       "      <td>42009</td>\n",
       "      <td>The Torturer (2005)</td>\n",
       "      <td>horror</td>\n",
       "      <td>The twenty-four year-old aspirant actress Gine...</td>\n",
       "      <td>13</td>\n",
       "    </tr>\n",
       "    <tr>\n",
       "      <th>...</th>\n",
       "      <td>...</td>\n",
       "      <td>...</td>\n",
       "      <td>...</td>\n",
       "      <td>...</td>\n",
       "      <td>...</td>\n",
       "    </tr>\n",
       "    <tr>\n",
       "      <th>10838</th>\n",
       "      <td>47207</td>\n",
       "      <td>Uso Justo (2005)</td>\n",
       "      <td>short</td>\n",
       "      <td>When an experimental filmmaker decides to shoo...</td>\n",
       "      <td>21</td>\n",
       "    </tr>\n",
       "    <tr>\n",
       "      <th>10839</th>\n",
       "      <td>53454</td>\n",
       "      <td>The Perfect Girl (2015)</td>\n",
       "      <td>romance</td>\n",
       "      <td>A young boy (Jay) and a girl (Vedika) happen t...</td>\n",
       "      <td>19</td>\n",
       "    </tr>\n",
       "    <tr>\n",
       "      <th>10840</th>\n",
       "      <td>21050</td>\n",
       "      <td>\"Trapped Minds\" (2016)</td>\n",
       "      <td>drama</td>\n",
       "      <td>Trapped Minds is a 4-episode psychological thr...</td>\n",
       "      <td>8</td>\n",
       "    </tr>\n",
       "    <tr>\n",
       "      <th>10841</th>\n",
       "      <td>44343</td>\n",
       "      <td>Chronicles of a Silver Revolver (????)</td>\n",
       "      <td>short</td>\n",
       "      <td>With today's issue with gun violence and contr...</td>\n",
       "      <td>21</td>\n",
       "    </tr>\n",
       "    <tr>\n",
       "      <th>10842</th>\n",
       "      <td>24378</td>\n",
       "      <td>ESA Topical Team Arts &amp; Science Space Related ...</td>\n",
       "      <td>documentary</td>\n",
       "      <td>Original artworks and interviews with internat...</td>\n",
       "      <td>7</td>\n",
       "    </tr>\n",
       "  </tbody>\n",
       "</table>\n",
       "<p>10843 rows × 5 columns</p>\n",
       "</div>"
      ],
      "text/plain": [
       "          id                                              title        genre   \n",
       "0      14679                         Undesignated Driver (1996)        short  \\\n",
       "1       8348                                 Proteolysis (????)       action   \n",
       "2      34987                            Intimately Yours (1998)    adventure   \n",
       "3      15885                                     49 Days (????)       horror   \n",
       "4      42009                                The Torturer (2005)       horror   \n",
       "...      ...                                                ...          ...   \n",
       "10838  47207                                   Uso Justo (2005)        short   \n",
       "10839  53454                            The Perfect Girl (2015)      romance   \n",
       "10840  21050                             \"Trapped Minds\" (2016)        drama   \n",
       "10841  44343             Chronicles of a Silver Revolver (????)        short   \n",
       "10842  24378  ESA Topical Team Arts & Science Space Related ...  documentary   \n",
       "\n",
       "                                             description  label  \n",
       "0      This video series, in national distribution wi...     21  \n",
       "1      \"Proteolysis\" is a gritty, action-adventure, s...      0  \n",
       "2      Love bondager Chelsea Pfeiffer ties and gags o...      2  \n",
       "3      Jason and Camille, sweethearts since childhood...     13  \n",
       "4      The twenty-four year-old aspirant actress Gine...     13  \n",
       "...                                                  ...    ...  \n",
       "10838  When an experimental filmmaker decides to shoo...     21  \n",
       "10839  A young boy (Jay) and a girl (Vedika) happen t...     19  \n",
       "10840  Trapped Minds is a 4-episode psychological thr...      8  \n",
       "10841  With today's issue with gun violence and contr...     21  \n",
       "10842  Original artworks and interviews with internat...      7  \n",
       "\n",
       "[10843 rows x 5 columns]"
      ]
     },
     "execution_count": 6,
     "metadata": {},
     "output_type": "execute_result"
    }
   ],
   "source": [
    "df_test"
   ]
  },
  {
   "cell_type": "markdown",
   "id": "2e702da0-554b-472a-a349-b38fc72886c2",
   "metadata": {},
   "source": [
    "## 2. Text Preprocessing"
   ]
  },
  {
   "cell_type": "code",
   "execution_count": 7,
   "id": "e5893ed8-eff5-4dea-a7f9-39200998fc79",
   "metadata": {
    "tags": []
   },
   "outputs": [],
   "source": [
    "import neattext.functions as ntx\n",
    "\n",
    "def text_preprocessing(text_in: str) -> str:\n",
    "    text = text_in.lower()\n",
    "    \n",
    "    text = ntx.fix_contractions(text)\n",
    "    text = ntx.remove_punctuations(text)\n",
    "    text = ntx.remove_stopwords(text)\n",
    "    text = ntx.remove_numbers(text)\n",
    "    text = ntx.remove_emojis(text)\n",
    "    text = ntx.remove_multiple_spaces(text)\n",
    "    text = ntx.remove_special_characters(text)\n",
    "    \n",
    "    return text"
   ]
  },
  {
   "cell_type": "code",
   "execution_count": null,
   "id": "b31df326-dacc-4867-ba22-5783e30af2bd",
   "metadata": {},
   "outputs": [],
   "source": [
    "# progress bar in pandas\n",
    "!pip install tqdm"
   ]
  },
  {
   "cell_type": "code",
   "execution_count": 8,
   "id": "1f003d03-8e70-4791-b67c-c049db369653",
   "metadata": {
    "tags": []
   },
   "outputs": [],
   "source": [
    "from tqdm import tqdm\n",
    "tqdm.pandas()  # it enables some new progress bar functions/methods for pandas"
   ]
  },
  {
   "cell_type": "code",
   "execution_count": 9,
   "id": "1d2834ad-ab56-4e1d-a4de-cfe8201eea2c",
   "metadata": {
    "tags": []
   },
   "outputs": [
    {
     "name": "stderr",
     "output_type": "stream",
     "text": [
      "100%|████████████████████████████████████████████████████████████████████████████| 43371/43371 [00:07<00:00, 5634.39it/s]\n"
     ]
    }
   ],
   "source": [
    "# pre-process the training set\n",
    "df_train['description-pre'] = df_train['description'].progress_apply(lambda text: text_preprocessing(text))"
   ]
  },
  {
   "cell_type": "code",
   "execution_count": 10,
   "id": "530bc134-8ca7-4a06-b240-9603b8428f62",
   "metadata": {
    "tags": []
   },
   "outputs": [
    {
     "data": {
      "text/html": [
       "<div>\n",
       "<style scoped>\n",
       "    .dataframe tbody tr th:only-of-type {\n",
       "        vertical-align: middle;\n",
       "    }\n",
       "\n",
       "    .dataframe tbody tr th {\n",
       "        vertical-align: top;\n",
       "    }\n",
       "\n",
       "    .dataframe thead th {\n",
       "        text-align: right;\n",
       "    }\n",
       "</style>\n",
       "<table border=\"1\" class=\"dataframe\">\n",
       "  <thead>\n",
       "    <tr style=\"text-align: right;\">\n",
       "      <th></th>\n",
       "      <th>id</th>\n",
       "      <th>title</th>\n",
       "      <th>genre</th>\n",
       "      <th>description</th>\n",
       "      <th>label</th>\n",
       "      <th>description-pre</th>\n",
       "    </tr>\n",
       "  </thead>\n",
       "  <tbody>\n",
       "    <tr>\n",
       "      <th>0</th>\n",
       "      <td>27180</td>\n",
       "      <td>Rivals (1972)</td>\n",
       "      <td>drama</td>\n",
       "      <td>Scott Jacoby, as a boy with an unhealthy and p...</td>\n",
       "      <td>8</td>\n",
       "      <td>scott jacoby boy unhealthy pathological attach...</td>\n",
       "    </tr>\n",
       "    <tr>\n",
       "      <th>1</th>\n",
       "      <td>19975</td>\n",
       "      <td>Kosava (1974)</td>\n",
       "      <td>drama</td>\n",
       "      <td>The story of two workers who returned from abr...</td>\n",
       "      <td>8</td>\n",
       "      <td>story workers returned abroad wants find good ...</td>\n",
       "    </tr>\n",
       "    <tr>\n",
       "      <th>2</th>\n",
       "      <td>48284</td>\n",
       "      <td>In Winter (2017)</td>\n",
       "      <td>drama</td>\n",
       "      <td>In Winter is an independent feature emerging f...</td>\n",
       "      <td>8</td>\n",
       "      <td>winter independent feature emerging classical ...</td>\n",
       "    </tr>\n",
       "    <tr>\n",
       "      <th>3</th>\n",
       "      <td>37540</td>\n",
       "      <td>Maria Chapdelaine (1950)</td>\n",
       "      <td>drama</td>\n",
       "      <td>At the beginning of the 20th century, in the N...</td>\n",
       "      <td>8</td>\n",
       "      <td>beginning th century north province quebec yea...</td>\n",
       "    </tr>\n",
       "    <tr>\n",
       "      <th>4</th>\n",
       "      <td>43389</td>\n",
       "      <td>The Gift Of (2018)</td>\n",
       "      <td>comedy</td>\n",
       "      <td>A delicious combo of romantic-comedy and socia...</td>\n",
       "      <td>5</td>\n",
       "      <td>delicious combo romanticcomedy social satire f...</td>\n",
       "    </tr>\n",
       "  </tbody>\n",
       "</table>\n",
       "</div>"
      ],
      "text/plain": [
       "      id                     title   genre   \n",
       "0  27180             Rivals (1972)   drama  \\\n",
       "1  19975             Kosava (1974)   drama   \n",
       "2  48284          In Winter (2017)   drama   \n",
       "3  37540  Maria Chapdelaine (1950)   drama   \n",
       "4  43389        The Gift Of (2018)  comedy   \n",
       "\n",
       "                                         description  label   \n",
       "0  Scott Jacoby, as a boy with an unhealthy and p...      8  \\\n",
       "1  The story of two workers who returned from abr...      8   \n",
       "2  In Winter is an independent feature emerging f...      8   \n",
       "3  At the beginning of the 20th century, in the N...      8   \n",
       "4  A delicious combo of romantic-comedy and socia...      5   \n",
       "\n",
       "                                     description-pre  \n",
       "0  scott jacoby boy unhealthy pathological attach...  \n",
       "1  story workers returned abroad wants find good ...  \n",
       "2  winter independent feature emerging classical ...  \n",
       "3  beginning th century north province quebec yea...  \n",
       "4  delicious combo romanticcomedy social satire f...  "
      ]
     },
     "execution_count": 10,
     "metadata": {},
     "output_type": "execute_result"
    }
   ],
   "source": [
    "df_train.head()"
   ]
  },
  {
   "cell_type": "code",
   "execution_count": 11,
   "id": "ab789a1b-2aa2-4625-8907-7e73f32088aa",
   "metadata": {
    "tags": []
   },
   "outputs": [
    {
     "name": "stderr",
     "output_type": "stream",
     "text": [
      "100%|████████████████████████████████████████████████████████████████████████████| 10843/10843 [00:01<00:00, 5562.31it/s]\n"
     ]
    }
   ],
   "source": [
    "# pre-process the training set\n",
    "df_test['description-pre'] = df_test['description'].progress_apply(lambda text: text_preprocessing(text))"
   ]
  },
  {
   "cell_type": "code",
   "execution_count": 12,
   "id": "d443de0f-a006-484a-8fc8-1bb9075262f5",
   "metadata": {
    "tags": []
   },
   "outputs": [
    {
     "data": {
      "text/html": [
       "<div>\n",
       "<style scoped>\n",
       "    .dataframe tbody tr th:only-of-type {\n",
       "        vertical-align: middle;\n",
       "    }\n",
       "\n",
       "    .dataframe tbody tr th {\n",
       "        vertical-align: top;\n",
       "    }\n",
       "\n",
       "    .dataframe thead th {\n",
       "        text-align: right;\n",
       "    }\n",
       "</style>\n",
       "<table border=\"1\" class=\"dataframe\">\n",
       "  <thead>\n",
       "    <tr style=\"text-align: right;\">\n",
       "      <th></th>\n",
       "      <th>id</th>\n",
       "      <th>title</th>\n",
       "      <th>genre</th>\n",
       "      <th>description</th>\n",
       "      <th>label</th>\n",
       "      <th>description-pre</th>\n",
       "    </tr>\n",
       "  </thead>\n",
       "  <tbody>\n",
       "    <tr>\n",
       "      <th>0</th>\n",
       "      <td>14679</td>\n",
       "      <td>Undesignated Driver (1996)</td>\n",
       "      <td>short</td>\n",
       "      <td>This video series, in national distribution wi...</td>\n",
       "      <td>21</td>\n",
       "      <td>video series national distribution film ideas ...</td>\n",
       "    </tr>\n",
       "    <tr>\n",
       "      <th>1</th>\n",
       "      <td>8348</td>\n",
       "      <td>Proteolysis (????)</td>\n",
       "      <td>action</td>\n",
       "      <td>\"Proteolysis\" is a gritty, action-adventure, s...</td>\n",
       "      <td>0</td>\n",
       "      <td>proteolysis gritty actionadventure set rural m...</td>\n",
       "    </tr>\n",
       "    <tr>\n",
       "      <th>2</th>\n",
       "      <td>34987</td>\n",
       "      <td>Intimately Yours (1998)</td>\n",
       "      <td>adventure</td>\n",
       "      <td>Love bondager Chelsea Pfeiffer ties and gags o...</td>\n",
       "      <td>2</td>\n",
       "      <td>love bondager chelsea pfeiffer ties gags harmo...</td>\n",
       "    </tr>\n",
       "    <tr>\n",
       "      <th>3</th>\n",
       "      <td>15885</td>\n",
       "      <td>49 Days (????)</td>\n",
       "      <td>horror</td>\n",
       "      <td>Jason and Camille, sweethearts since childhood...</td>\n",
       "      <td>13</td>\n",
       "      <td>jason camille sweethearts childhood swimming n...</td>\n",
       "    </tr>\n",
       "    <tr>\n",
       "      <th>4</th>\n",
       "      <td>42009</td>\n",
       "      <td>The Torturer (2005)</td>\n",
       "      <td>horror</td>\n",
       "      <td>The twenty-four year-old aspirant actress Gine...</td>\n",
       "      <td>13</td>\n",
       "      <td>twentyfour yearold aspirant actress ginette ca...</td>\n",
       "    </tr>\n",
       "  </tbody>\n",
       "</table>\n",
       "</div>"
      ],
      "text/plain": [
       "      id                       title      genre   \n",
       "0  14679  Undesignated Driver (1996)      short  \\\n",
       "1   8348          Proteolysis (????)     action   \n",
       "2  34987     Intimately Yours (1998)  adventure   \n",
       "3  15885              49 Days (????)     horror   \n",
       "4  42009         The Torturer (2005)     horror   \n",
       "\n",
       "                                         description  label   \n",
       "0  This video series, in national distribution wi...     21  \\\n",
       "1  \"Proteolysis\" is a gritty, action-adventure, s...      0   \n",
       "2  Love bondager Chelsea Pfeiffer ties and gags o...      2   \n",
       "3  Jason and Camille, sweethearts since childhood...     13   \n",
       "4  The twenty-four year-old aspirant actress Gine...     13   \n",
       "\n",
       "                                     description-pre  \n",
       "0  video series national distribution film ideas ...  \n",
       "1  proteolysis gritty actionadventure set rural m...  \n",
       "2  love bondager chelsea pfeiffer ties gags harmo...  \n",
       "3  jason camille sweethearts childhood swimming n...  \n",
       "4  twentyfour yearold aspirant actress ginette ca...  "
      ]
     },
     "execution_count": 12,
     "metadata": {},
     "output_type": "execute_result"
    }
   ],
   "source": [
    "df_test.head()"
   ]
  },
  {
   "cell_type": "code",
   "execution_count": 13,
   "id": "a3cd0987-cab8-4909-ab42-956eb914105b",
   "metadata": {
    "tags": []
   },
   "outputs": [],
   "source": [
    "# save the preprocessed datasets\n",
    "df_train.to_csv('./datasets/genre_classification_train_preprocessed_sprint3.csv', sep=';', index=False)\n",
    "df_test.to_csv('./datasets/genre_classification_test_preprocessed_sprint3.csv', sep=';', index=False)"
   ]
  },
  {
   "cell_type": "markdown",
   "id": "d89bfbbb-741b-46e7-a4db-9e265070e980",
   "metadata": {
    "tags": []
   },
   "source": [
    "## 3. Feature Extraction by gensim Word2Vec"
   ]
  },
  {
   "cell_type": "code",
   "execution_count": null,
   "id": "67483253-e5f0-4b35-95c2-841044075e80",
   "metadata": {},
   "outputs": [],
   "source": [
    "!pip install gensim"
   ]
  },
  {
   "cell_type": "code",
   "execution_count": 14,
   "id": "ca6481c8-f833-427d-b293-87096cb14b06",
   "metadata": {
    "tags": []
   },
   "outputs": [],
   "source": [
    "import gensim.downloader as api\n",
    "\n",
    "w2v_model = api.load('word2vec-google-news-300')"
   ]
  },
  {
   "cell_type": "code",
   "execution_count": 19,
   "id": "03fcb595-da3a-416b-801a-4e77f5f98bff",
   "metadata": {
    "tags": []
   },
   "outputs": [],
   "source": [
    "import numpy as np\n",
    "\n",
    "def text_feat_extraction_by_word2vec(text: str, w2v_model) -> np.array:\n",
    "    words = text.split()\n",
    "    \n",
    "    words_embedding_list = []\n",
    "    for word in words:\n",
    "        # check if the word belongs to the (pre-travocabulary\n",
    "        if word in w2v_model:\n",
    "            word_embedding = w2v_model[word]\n",
    "            \n",
    "            words_embedding_list.append(word_embedding)\n",
    "\n",
    "    # do the same but in a pythonic way\n",
    "    # words_embedding_list = [w2v_model[word] for word in words if word in w2v_model]\n",
    "\n",
    "    if len(words_embedding_list) == 0:\n",
    "        return np.zeros(300)\n",
    "\n",
    "    words_embedding_np = np.array(words_embedding_list)\n",
    "    \n",
    "    # compute the average of each feature in the list of embeddings\n",
    "    # return an averaged vector with 300 averages\n",
    "    return words_embedding_np.mean(axis=0)"
   ]
  },
  {
   "cell_type": "code",
   "execution_count": 20,
   "id": "54dc27cc-4b9c-4e56-a557-2d187a249d36",
   "metadata": {
    "tags": []
   },
   "outputs": [
    {
     "name": "stderr",
     "output_type": "stream",
     "text": [
      "100%|███████████████████████████████████████████████████████████████████████████| 43371/43371 [00:04<00:00, 10340.68it/s]\n",
      "100%|████████████████████████████████████████████████████████████████████████████| 10843/10843 [00:01<00:00, 9807.35it/s]\n"
     ]
    }
   ],
   "source": [
    "# returns a series with the result\n",
    "X_train = df_train['description-pre'].progress_apply(lambda text: text_feat_extraction_by_word2vec(text, w2v_model))\n",
    "X_test = df_test['description-pre'].progress_apply(lambda text: text_feat_extraction_by_word2vec(text, w2v_model))"
   ]
  },
  {
   "cell_type": "code",
   "execution_count": 22,
   "id": "a1afc582-13b4-4204-b2d8-055b75954b05",
   "metadata": {
    "tags": []
   },
   "outputs": [
    {
     "name": "stdout",
     "output_type": "stream",
     "text": [
      "<class 'pandas.core.series.Series'>\n",
      "<class 'pandas.core.series.Series'>\n"
     ]
    }
   ],
   "source": [
    "print(type(X_train))\n",
    "print(type(X_test))"
   ]
  },
  {
   "cell_type": "code",
   "execution_count": 25,
   "id": "7cd4ad8b-5797-4616-9e76-07bf08ca3c08",
   "metadata": {
    "tags": []
   },
   "outputs": [
    {
     "data": {
      "text/plain": [
       "0        [0.07034633, 0.00084653107, -0.04805855, 0.077...\n",
       "1        [0.10695253, 0.06018698, -0.012417497, 0.04755...\n",
       "2        [0.060095984, 0.07227541, -0.034637567, 0.0578...\n",
       "3        [0.026325287, 0.035334755, -0.0068383594, 0.03...\n",
       "4        [0.08964, 0.028149772, -0.050548777, 0.1478370...\n",
       "                               ...                        \n",
       "43366    [0.05042376, 0.09617179, 0.047974724, 0.031843...\n",
       "43367    [0.047248177, 0.058825534, 0.0027866364, 0.106...\n",
       "43368    [0.03060913, 0.086205535, -0.0017564562, 0.033...\n",
       "43369    [0.088308, 0.071201324, -0.008885701, 0.054457...\n",
       "43370    [-0.01994053, 0.05230319, 0.013930782, 0.05590...\n",
       "Name: description-pre, Length: 43371, dtype: object"
      ]
     },
     "execution_count": 25,
     "metadata": {},
     "output_type": "execute_result"
    }
   ],
   "source": [
    "# it is a Series of numpy arrays\n",
    "X_train"
   ]
  },
  {
   "cell_type": "code",
   "execution_count": 26,
   "id": "16839a6e-5ce6-4cfe-a828-678814e7ad7f",
   "metadata": {
    "tags": []
   },
   "outputs": [],
   "source": [
    "# \"gambiarra\" to convert the Series of np.arrays into a 2D np.array\n",
    "X_train = np.stack(X_train)\n",
    "X_test = np.stack(X_test)"
   ]
  },
  {
   "cell_type": "code",
   "execution_count": 27,
   "id": "84537f8b-a699-4e57-ac52-6b5daa8f3b4f",
   "metadata": {
    "tags": []
   },
   "outputs": [
    {
     "name": "stdout",
     "output_type": "stream",
     "text": [
      "X_train.shape = (43371, 300)\n",
      "X_test.shape = (10843, 300)\n"
     ]
    }
   ],
   "source": [
    "print(f'X_train.shape = {X_train.shape}')\n",
    "print(f'X_test.shape = {X_test.shape}')"
   ]
  },
  {
   "cell_type": "code",
   "execution_count": 28,
   "id": "0136da79-0f78-4e13-80ee-723aff1a22d1",
   "metadata": {
    "tags": []
   },
   "outputs": [],
   "source": [
    "# labels\n",
    "y_train = df_train['label']\n",
    "y_test = df_test['label']"
   ]
  },
  {
   "cell_type": "markdown",
   "id": "73b770da-b6f3-43d2-aebe-9a3b4e37632c",
   "metadata": {},
   "source": [
    "## 4. Train the models"
   ]
  },
  {
   "cell_type": "code",
   "execution_count": 29,
   "id": "14bc1a9f-1df6-444b-b720-59bb816c627f",
   "metadata": {
    "tags": []
   },
   "outputs": [
    {
     "name": "stderr",
     "output_type": "stream",
     "text": [
      "/home/hisamuka/miniconda3/envs/tf/lib/python3.9/site-packages/sklearn/linear_model/_logistic.py:458: ConvergenceWarning: lbfgs failed to converge (status=1):\n",
      "STOP: TOTAL NO. of ITERATIONS REACHED LIMIT.\n",
      "\n",
      "Increase the number of iterations (max_iter) or scale the data as shown in:\n",
      "    https://scikit-learn.org/stable/modules/preprocessing.html\n",
      "Please also refer to the documentation for alternative solver options:\n",
      "    https://scikit-learn.org/stable/modules/linear_model.html#logistic-regression\n",
      "  n_iter_i = _check_optimize_result(\n"
     ]
    },
    {
     "data": {
      "text/html": [
       "<style>#sk-container-id-1 {color: black;background-color: white;}#sk-container-id-1 pre{padding: 0;}#sk-container-id-1 div.sk-toggleable {background-color: white;}#sk-container-id-1 label.sk-toggleable__label {cursor: pointer;display: block;width: 100%;margin-bottom: 0;padding: 0.3em;box-sizing: border-box;text-align: center;}#sk-container-id-1 label.sk-toggleable__label-arrow:before {content: \"▸\";float: left;margin-right: 0.25em;color: #696969;}#sk-container-id-1 label.sk-toggleable__label-arrow:hover:before {color: black;}#sk-container-id-1 div.sk-estimator:hover label.sk-toggleable__label-arrow:before {color: black;}#sk-container-id-1 div.sk-toggleable__content {max-height: 0;max-width: 0;overflow: hidden;text-align: left;background-color: #f0f8ff;}#sk-container-id-1 div.sk-toggleable__content pre {margin: 0.2em;color: black;border-radius: 0.25em;background-color: #f0f8ff;}#sk-container-id-1 input.sk-toggleable__control:checked~div.sk-toggleable__content {max-height: 200px;max-width: 100%;overflow: auto;}#sk-container-id-1 input.sk-toggleable__control:checked~label.sk-toggleable__label-arrow:before {content: \"▾\";}#sk-container-id-1 div.sk-estimator input.sk-toggleable__control:checked~label.sk-toggleable__label {background-color: #d4ebff;}#sk-container-id-1 div.sk-label input.sk-toggleable__control:checked~label.sk-toggleable__label {background-color: #d4ebff;}#sk-container-id-1 input.sk-hidden--visually {border: 0;clip: rect(1px 1px 1px 1px);clip: rect(1px, 1px, 1px, 1px);height: 1px;margin: -1px;overflow: hidden;padding: 0;position: absolute;width: 1px;}#sk-container-id-1 div.sk-estimator {font-family: monospace;background-color: #f0f8ff;border: 1px dotted black;border-radius: 0.25em;box-sizing: border-box;margin-bottom: 0.5em;}#sk-container-id-1 div.sk-estimator:hover {background-color: #d4ebff;}#sk-container-id-1 div.sk-parallel-item::after {content: \"\";width: 100%;border-bottom: 1px solid gray;flex-grow: 1;}#sk-container-id-1 div.sk-label:hover label.sk-toggleable__label {background-color: #d4ebff;}#sk-container-id-1 div.sk-serial::before {content: \"\";position: absolute;border-left: 1px solid gray;box-sizing: border-box;top: 0;bottom: 0;left: 50%;z-index: 0;}#sk-container-id-1 div.sk-serial {display: flex;flex-direction: column;align-items: center;background-color: white;padding-right: 0.2em;padding-left: 0.2em;position: relative;}#sk-container-id-1 div.sk-item {position: relative;z-index: 1;}#sk-container-id-1 div.sk-parallel {display: flex;align-items: stretch;justify-content: center;background-color: white;position: relative;}#sk-container-id-1 div.sk-item::before, #sk-container-id-1 div.sk-parallel-item::before {content: \"\";position: absolute;border-left: 1px solid gray;box-sizing: border-box;top: 0;bottom: 0;left: 50%;z-index: -1;}#sk-container-id-1 div.sk-parallel-item {display: flex;flex-direction: column;z-index: 1;position: relative;background-color: white;}#sk-container-id-1 div.sk-parallel-item:first-child::after {align-self: flex-end;width: 50%;}#sk-container-id-1 div.sk-parallel-item:last-child::after {align-self: flex-start;width: 50%;}#sk-container-id-1 div.sk-parallel-item:only-child::after {width: 0;}#sk-container-id-1 div.sk-dashed-wrapped {border: 1px dashed gray;margin: 0 0.4em 0.5em 0.4em;box-sizing: border-box;padding-bottom: 0.4em;background-color: white;}#sk-container-id-1 div.sk-label label {font-family: monospace;font-weight: bold;display: inline-block;line-height: 1.2em;}#sk-container-id-1 div.sk-label-container {text-align: center;}#sk-container-id-1 div.sk-container {/* jupyter's `normalize.less` sets `[hidden] { display: none; }` but bootstrap.min.css set `[hidden] { display: none !important; }` so we also need the `!important` here to be able to override the default hidden behavior on the sphinx rendered scikit-learn.org. See: https://github.com/scikit-learn/scikit-learn/issues/21755 */display: inline-block !important;position: relative;}#sk-container-id-1 div.sk-text-repr-fallback {display: none;}</style><div id=\"sk-container-id-1\" class=\"sk-top-container\"><div class=\"sk-text-repr-fallback\"><pre>LogisticRegression(class_weight=&#x27;balanced&#x27;, n_jobs=-1)</pre><b>In a Jupyter environment, please rerun this cell to show the HTML representation or trust the notebook. <br />On GitHub, the HTML representation is unable to render, please try loading this page with nbviewer.org.</b></div><div class=\"sk-container\" hidden><div class=\"sk-item\"><div class=\"sk-estimator sk-toggleable\"><input class=\"sk-toggleable__control sk-hidden--visually\" id=\"sk-estimator-id-1\" type=\"checkbox\" checked><label for=\"sk-estimator-id-1\" class=\"sk-toggleable__label sk-toggleable__label-arrow\">LogisticRegression</label><div class=\"sk-toggleable__content\"><pre>LogisticRegression(class_weight=&#x27;balanced&#x27;, n_jobs=-1)</pre></div></div></div></div></div>"
      ],
      "text/plain": [
       "LogisticRegression(class_weight='balanced', n_jobs=-1)"
      ]
     },
     "execution_count": 29,
     "metadata": {},
     "output_type": "execute_result"
    }
   ],
   "source": [
    "from sklearn.linear_model import LogisticRegression\n",
    "\n",
    "model = LogisticRegression(class_weight='balanced', n_jobs=-1)\n",
    "\n",
    "model.fit(X_train, y_train)"
   ]
  },
  {
   "cell_type": "code",
   "execution_count": 30,
   "id": "a4642296-3db2-49b4-a598-dc29924e803a",
   "metadata": {
    "tags": []
   },
   "outputs": [],
   "source": [
    "# prediction on training set\n",
    "y_train_pred = model.predict(X_train)"
   ]
  },
  {
   "cell_type": "code",
   "execution_count": 31,
   "id": "856b021b-6544-43a9-86bb-4b2524cc1d81",
   "metadata": {
    "tags": []
   },
   "outputs": [
    {
     "data": {
      "text/plain": [
       "array(['action', 'adult', 'adventure', 'animation', 'biography', 'comedy',\n",
       "       'crime', 'documentary', 'drama', 'family', 'fantasy', 'game-show',\n",
       "       'history', 'horror', 'music', 'musical', 'mystery', 'news',\n",
       "       'reality-tv', 'romance', 'sci-fi', 'short', 'sport', 'talk-show',\n",
       "       'thriller', 'war', 'western'], dtype=object)"
      ]
     },
     "execution_count": 31,
     "metadata": {},
     "output_type": "execute_result"
    }
   ],
   "source": [
    "target_names = df_train[['genre', 'label']].sort_values(by='label')['genre'].unique()\n",
    "target_names"
   ]
  },
  {
   "cell_type": "code",
   "execution_count": 32,
   "id": "a12b857b-af0e-4458-9cf3-f18b90b9006f",
   "metadata": {
    "tags": []
   },
   "outputs": [
    {
     "name": "stdout",
     "output_type": "stream",
     "text": [
      "              precision    recall  f1-score   support\n",
      "\n",
      "      action       0.37      0.44      0.40      1052\n",
      "       adult       0.29      0.77      0.42       472\n",
      "   adventure       0.22      0.32      0.26       620\n",
      "   animation       0.23      0.48      0.31       398\n",
      "   biography       0.05      0.51      0.09       212\n",
      "      comedy       0.65      0.39      0.49      5957\n",
      "       crime       0.15      0.50      0.23       404\n",
      " documentary       0.82      0.32      0.46     10477\n",
      "       drama       0.75      0.29      0.42     10890\n",
      "      family       0.17      0.38      0.24       627\n",
      "     fantasy       0.14      0.50      0.22       258\n",
      "   game-show       0.49      0.90      0.63       155\n",
      "     history       0.06      0.54      0.11       194\n",
      "      horror       0.59      0.63      0.61      1763\n",
      "       music       0.38      0.73      0.50       585\n",
      "     musical       0.12      0.55      0.19       222\n",
      "     mystery       0.13      0.52      0.20       255\n",
      "        news       0.12      0.79      0.20       145\n",
      "  reality-tv       0.29      0.52      0.37       707\n",
      "     romance       0.12      0.62      0.20       538\n",
      "      sci-fi       0.30      0.64      0.41       518\n",
      "       short       0.42      0.30      0.35      4058\n",
      "       sport       0.33      0.87      0.48       346\n",
      "   talk-show       0.21      0.64      0.32       313\n",
      "    thriller       0.28      0.30      0.29      1273\n",
      "         war       0.11      0.92      0.20       106\n",
      "     western       0.61      0.89      0.73       826\n",
      "\n",
      "    accuracy                           0.39     43371\n",
      "   macro avg       0.31      0.57      0.35     43371\n",
      "weighted avg       0.60      0.39      0.42     43371\n",
      "\n"
     ]
    }
   ],
   "source": [
    "from sklearn.metrics import classification_report\n",
    "\n",
    "print(classification_report(y_train, y_train_pred, target_names=target_names))"
   ]
  },
  {
   "cell_type": "code",
   "execution_count": 33,
   "id": "ac79d2f9-7604-4e54-a1f3-3aaf7abe6cae",
   "metadata": {
    "tags": []
   },
   "outputs": [
    {
     "name": "stdout",
     "output_type": "stream",
     "text": [
      "F1 Train: 0.3454694024096135\n"
     ]
    }
   ],
   "source": [
    "from sklearn.metrics import f1_score\n",
    "\n",
    "f1_train = f1_score(y_train, y_train_pred, average='macro')\n",
    "\n",
    "print(f'F1 Train: {f1_train}')"
   ]
  },
  {
   "cell_type": "code",
   "execution_count": 34,
   "id": "c0f7d9c9-d9b7-4238-a0ea-ddc64b093381",
   "metadata": {
    "tags": []
   },
   "outputs": [
    {
     "name": "stdout",
     "output_type": "stream",
     "text": [
      "Balanced Acc Train: 0.5651363259974491\n"
     ]
    }
   ],
   "source": [
    "from sklearn.metrics import balanced_accuracy_score\n",
    "\n",
    "balacc_train = balanced_accuracy_score(y_train, y_train_pred)\n",
    "\n",
    "print(f'Balanced Acc Train: {balacc_train}')"
   ]
  },
  {
   "cell_type": "markdown",
   "id": "c9d99482-3487-4df2-bdf7-7a3ad3dad7a4",
   "metadata": {},
   "source": [
    "## 6. Evaluate the model on the Test Set"
   ]
  },
  {
   "cell_type": "code",
   "execution_count": 35,
   "id": "da3b5eb3-2ed9-4b27-89af-41c87f1a8b9e",
   "metadata": {
    "tags": []
   },
   "outputs": [],
   "source": [
    "# prediction on testing set\n",
    "y_test_pred = model.predict(X_test)"
   ]
  },
  {
   "cell_type": "code",
   "execution_count": 36,
   "id": "62383680-d01b-4924-b638-0d335dc736c3",
   "metadata": {
    "tags": []
   },
   "outputs": [
    {
     "name": "stdout",
     "output_type": "stream",
     "text": [
      "              precision    recall  f1-score   support\n",
      "\n",
      "      action       0.34      0.40      0.36       263\n",
      "       adult       0.27      0.72      0.40       118\n",
      "   adventure       0.16      0.28      0.21       155\n",
      "   animation       0.11      0.23      0.15       100\n",
      "   biography       0.04      0.38      0.07        53\n",
      "      comedy       0.64      0.38      0.48      1490\n",
      "       crime       0.14      0.45      0.21       101\n",
      " documentary       0.81      0.32      0.46      2619\n",
      "       drama       0.73      0.28      0.41      2723\n",
      "      family       0.13      0.32      0.19       157\n",
      "     fantasy       0.10      0.38      0.16        65\n",
      "   game-show       0.39      0.67      0.50        39\n",
      "     history       0.04      0.39      0.08        49\n",
      "      horror       0.56      0.61      0.58       441\n",
      "       music       0.39      0.74      0.51       146\n",
      "     musical       0.06      0.31      0.10        55\n",
      "     mystery       0.08      0.30      0.13        64\n",
      "        news       0.07      0.53      0.12        36\n",
      "  reality-tv       0.27      0.44      0.34       177\n",
      "     romance       0.12      0.59      0.20       134\n",
      "      sci-fi       0.26      0.56      0.36       129\n",
      "       short       0.39      0.27      0.32      1015\n",
      "       sport       0.31      0.85      0.45        86\n",
      "   talk-show       0.17      0.54      0.26        78\n",
      "    thriller       0.26      0.26      0.26       318\n",
      "         war       0.10      0.77      0.18        26\n",
      "     western       0.58      0.84      0.69       206\n",
      "\n",
      "    accuracy                           0.37     10843\n",
      "   macro avg       0.28      0.47      0.30     10843\n",
      "weighted avg       0.59      0.37      0.41     10843\n",
      "\n"
     ]
    }
   ],
   "source": [
    "from sklearn.metrics import classification_report\n",
    "\n",
    "print(classification_report(y_test, y_test_pred, target_names=target_names))"
   ]
  },
  {
   "cell_type": "code",
   "execution_count": 37,
   "id": "e835224a-544a-45e7-9761-edf04d24bf68",
   "metadata": {
    "tags": []
   },
   "outputs": [
    {
     "name": "stdout",
     "output_type": "stream",
     "text": [
      "F1 Test: 0.30239037241574485\n"
     ]
    }
   ],
   "source": [
    "from sklearn.metrics import f1_score\n",
    "\n",
    "f1_test = f1_score(y_test, y_test_pred, average='macro')\n",
    "\n",
    "print(f'F1 Test: {f1_test}')"
   ]
  },
  {
   "cell_type": "markdown",
   "id": "479e9310-0023-4113-b90d-f8d643eb8764",
   "metadata": {},
   "source": [
    "<br/>\n",
    "\n",
    "The resulting **F1 score** has not improved after considering _Word2Vec_, at least for _Logistic Regression_."
   ]
  },
  {
   "cell_type": "markdown",
   "id": "447f9c95-1f11-402b-ac27-548812d52d45",
   "metadata": {},
   "source": [
    "We could try to improve these results by:\n",
    "- applying other _text preprocessing_\n",
    "    + stemming\n",
    "    + lemmatization\n",
    "    + POS tagging\n",
    "    + ...\n",
    "- training our own Word2Vec based on the corpus of the considered dataset\n",
    "- evaluating other classifiers (e.g., MLP, Random Forest, ...)\n",
    "- performing fine-tuning\n",
    "- evaluating other feature extractors:\n",
    "    + Fast Text\n",
    "    + BERT\n",
    "    + roBERTa\n",
    "    + ..."
   ]
  },
  {
   "cell_type": "code",
   "execution_count": null,
   "id": "5d4420d8-26e9-4628-b3b9-3c3e81eaa3b6",
   "metadata": {},
   "outputs": [],
   "source": []
  }
 ],
 "metadata": {
  "kernelspec": {
   "display_name": "Python 3 (ipykernel)",
   "language": "python",
   "name": "python3"
  },
  "language_info": {
   "codemirror_mode": {
    "name": "ipython",
    "version": 3
   },
   "file_extension": ".py",
   "mimetype": "text/x-python",
   "name": "python",
   "nbconvert_exporter": "python",
   "pygments_lexer": "ipython3",
   "version": "3.9.16"
  }
 },
 "nbformat": 4,
 "nbformat_minor": 5
}
