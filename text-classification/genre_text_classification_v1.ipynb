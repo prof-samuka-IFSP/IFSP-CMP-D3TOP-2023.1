{
 "cells": [
  {
   "cell_type": "markdown",
   "id": "adc93106-f5f6-44df-91b3-edd19125d0c8",
   "metadata": {},
   "source": [
    "## **D3TOP - Tópicos em Ciência de Dados (IFSP Campinas)**\n",
    "**Prof. Dr. Samuel Martins (@iamsamucoding @samucoding @xavecoding)** <br/>\n",
    "xavecoding: https://youtube.com/c/xavecoding <br/><br/>\n",
    "\n",
    "<a rel=\"license\" href=\"http://creativecommons.org/licenses/by-nc-sa/4.0/\"><img alt=\"Creative Commons License\" style=\"border-width:0\" src=\"https://i.creativecommons.org/l/by-nc-sa/4.0/88x31.png\" /></a><br />This work is licensed under a <a rel=\"license\" href=\"http://creativecommons.org/licenses/by-nc-sa/4.0/\">Creative Commons Attribution-NonCommercial-ShareAlike 4.0 International License</a>.\n",
    "\n",
    "<hr/>"
   ]
  },
  {
   "cell_type": "markdown",
   "id": "76248815-fdae-4066-a572-e866cafa765b",
   "metadata": {},
   "source": [
    "# Genre Identification by Text Classification"
   ]
  },
  {
   "cell_type": "markdown",
   "id": "23bf6444-68f6-4077-8ab4-692a66f69eb4",
   "metadata": {},
   "source": [
    "## Sprint 1"
   ]
  },
  {
   "cell_type": "markdown",
   "id": "663226c5-d3f6-4a40-ade7-25832e0b49a0",
   "metadata": {},
   "source": [
    "We will start solving a **Text Classification** problem. We will train a model to predict movies' genres throught their descriptions <br/>\n",
    "\n",
    "In this notebook, we will:\n",
    "- Get the dataset\n",
    "- Perform a simple analysis\n",
    "- Split dataset\n",
    "- Perform feature extraction with TF-IDF (without text preprocessing)\n",
    "- Train a simple model (logistic regression)"
   ]
  },
  {
   "cell_type": "markdown",
   "id": "0ed14b52-271a-456b-8071-f0d9a71ec8d7",
   "metadata": {},
   "source": [
    "## 1. Get the Dataset\n",
    "https://www.kaggle.com/datasets/hijest/genre-classification-dataset-imdb"
   ]
  },
  {
   "cell_type": "code",
   "execution_count": null,
   "id": "a3aeeccc-6b6a-4b7e-a632-6c7260e05f3c",
   "metadata": {},
   "outputs": [],
   "source": [
    "import pandas as pd"
   ]
  },
  {
   "cell_type": "code",
   "execution_count": null,
   "id": "6cea4479-27b0-4020-9a41-942d6b28b887",
   "metadata": {
    "tags": []
   },
   "outputs": [],
   "source": [
    "df = pd.read_csv('./Genre Classification Dataset/train_data.txt', sep='\\s:::\\s', engine='python', header=None, names=['id', 'title', 'genre', 'description'])\n",
    "df"
   ]
  },
  {
   "cell_type": "markdown",
   "id": "d89bfbbb-741b-46e7-a4db-9e265070e980",
   "metadata": {
    "tags": []
   },
   "source": [
    "## 2. Simple EDA"
   ]
  },
  {
   "cell_type": "markdown",
   "id": "5e478a43-170b-4acc-a765-3d119227f3cf",
   "metadata": {},
   "source": [
    "### 2.1. Info"
   ]
  },
  {
   "cell_type": "code",
   "execution_count": null,
   "id": "cae047e3-3a33-4dac-9589-0c26243cf2bc",
   "metadata": {},
   "outputs": [],
   "source": [
    "df.info()"
   ]
  },
  {
   "cell_type": "code",
   "execution_count": null,
   "id": "10c74883-8645-45ba-a7f1-e14f71da87a6",
   "metadata": {},
   "outputs": [],
   "source": [
    "# convert datatype from str to category\n",
    "df['genre'] = df['genre'].astype('category')\n",
    "df.info()"
   ]
  },
  {
   "cell_type": "markdown",
   "id": "5ef823ad-092e-4177-a42d-2d4d4bf13082",
   "metadata": {},
   "source": [
    "### 2.2. Class Proportion"
   ]
  },
  {
   "cell_type": "code",
   "execution_count": null,
   "id": "0eff585c-8fc5-418d-97d1-2a2cb438b7e1",
   "metadata": {},
   "outputs": [],
   "source": [
    "df['genre'].value_counts()"
   ]
  },
  {
   "cell_type": "code",
   "execution_count": null,
   "id": "c0ed9980-8afe-4361-abd2-f10c1ef3eab3",
   "metadata": {},
   "outputs": [],
   "source": [
    "import seaborn as sns\n",
    "import matplotlib.pyplot as plt\n",
    "\n",
    "plt.figure(figsize=(10,6))\n",
    "sns.countplot(data=df, y='genre')"
   ]
  },
  {
   "cell_type": "code",
   "execution_count": null,
   "id": "e84828df-e3ec-4fa7-beae-b1cd22fd4c45",
   "metadata": {},
   "outputs": [],
   "source": [
    "order = df['genre'].value_counts().index\n",
    "\n",
    "plt.figure(figsize=(10,6))\n",
    "sns.countplot(data=df, y='genre', order=order)"
   ]
  },
  {
   "cell_type": "markdown",
   "id": "c977b5c6-531d-496a-a3aa-246dce9e3b91",
   "metadata": {},
   "source": [
    "The dataset is hugely imbalanced!"
   ]
  },
  {
   "cell_type": "markdown",
   "id": "e0315302-d95f-4ad5-8cb9-19738214591a",
   "metadata": {},
   "source": [
    "### 2.3. Label Classes"
   ]
  },
  {
   "cell_type": "code",
   "execution_count": null,
   "id": "5af3bf77-b379-443c-8c20-84d5c1c7b9d9",
   "metadata": {},
   "outputs": [],
   "source": [
    "from sklearn.preprocessing import LabelEncoder\n",
    "\n",
    "label_encoder = LabelEncoder()\n",
    "label_encoder.fit(df['genre'])"
   ]
  },
  {
   "cell_type": "code",
   "execution_count": null,
   "id": "5726c68e-b856-4ef5-8fff-c0a9060cd9f3",
   "metadata": {},
   "outputs": [],
   "source": [
    "print(f'Class labels')\n",
    "\n",
    "for label, class_ in enumerate(label_encoder.classes_):\n",
    "    print(f'{class_} ==> {label}')"
   ]
  },
  {
   "cell_type": "code",
   "execution_count": null,
   "id": "9526d09f-cf4e-40ae-a74f-442b5f216095",
   "metadata": {},
   "outputs": [],
   "source": [
    "df['label'] = label_encoder.transform(df['genre'])"
   ]
  },
  {
   "cell_type": "code",
   "execution_count": null,
   "id": "bc73802a-916c-4ac6-a078-88446928823b",
   "metadata": {},
   "outputs": [],
   "source": [
    "df"
   ]
  },
  {
   "cell_type": "markdown",
   "id": "64fdeba1-08ed-4016-a397-17b8c44b08bf",
   "metadata": {},
   "source": [
    "### 2.4. Check blank description"
   ]
  },
  {
   "cell_type": "code",
   "execution_count": null,
   "id": "237a95da-9d9e-4caa-8228-bae69f42fc1c",
   "metadata": {},
   "outputs": [],
   "source": [
    "df[df['description'] == '']"
   ]
  },
  {
   "cell_type": "markdown",
   "id": "c55b63e9-4c1c-44f4-b184-f3a42056c33a",
   "metadata": {},
   "source": [
    "### 2.5. Word Cloud"
   ]
  },
  {
   "cell_type": "code",
   "execution_count": null,
   "id": "5b3bad40-ab61-4650-9636-8ae037157ba3",
   "metadata": {
    "tags": []
   },
   "outputs": [],
   "source": [
    "from wordcloud import WordCloud\n",
    "\n",
    "# Generate a word cloud image\n",
    "text = ' '.join(df['description'])\n",
    "\n",
    "wordcloud = WordCloud().generate(text)\n",
    "\n",
    "# Display the generated image:\n",
    "# the matplotlib way:\n",
    "import matplotlib.pyplot as plt\n",
    "plt.figure(figsize=(8,8))\n",
    "plt.imshow(wordcloud)\n",
    "plt.axis(\"off\")"
   ]
  },
  {
   "cell_type": "code",
   "execution_count": null,
   "id": "dc9d6a3a-140b-4d57-96c3-7044e19c4925",
   "metadata": {},
   "outputs": [],
   "source": [
    "# classes/genres\n",
    "genres = sorted(df['genre'].unique())\n",
    "genres"
   ]
  },
  {
   "cell_type": "code",
   "execution_count": null,
   "id": "9027f0d4-1e5b-495b-b804-c25011396630",
   "metadata": {},
   "outputs": [],
   "source": [
    "# number of genres/classes\n",
    "len(genres)"
   ]
  },
  {
   "cell_type": "code",
   "execution_count": null,
   "id": "f06ae94c-8e93-42a8-a7b8-af6a138e3376",
   "metadata": {},
   "outputs": [],
   "source": [
    "# plot a word cloud for each genre\n",
    "\n",
    "fig, axes = plt.subplots(9, 3, figsize=(15, 20))\n",
    "\n",
    "idx = 0\n",
    "\n",
    "for row in range(9):\n",
    "    for col in range(3):\n",
    "        genre = genres[idx]\n",
    "        \n",
    "        df_genre = df.query(\"genre == @genre\")\n",
    "\n",
    "        text = ' '.join(df_genre['description'])\n",
    "        wordcloud = WordCloud().generate(text)\n",
    "        axes[row, col].imshow(wordcloud)\n",
    "        axes[row, col].set_title(f'{genre}')\n",
    "        axes[row, col].axis('off')\n",
    "\n",
    "        idx += 1"
   ]
  },
  {
   "cell_type": "markdown",
   "id": "361c5f0f-030d-4b6b-a615-a3c1327232d9",
   "metadata": {},
   "source": [
    "While there are _stop words_ (which we should remove), we can clearly see that there is a **subset of specific words** related to each _genre_.\n",
    "\n",
    "We should repeat this analysis after **_text cleaning/preprocessing_**."
   ]
  },
  {
   "cell_type": "markdown",
   "id": "c27ec5e2-340f-460c-b94e-27a5bdeef8c2",
   "metadata": {},
   "source": [
    "## 3. Split the Dataset"
   ]
  },
  {
   "cell_type": "code",
   "execution_count": null,
   "id": "2857f4ce-b526-41ea-8cc7-ec8c7f36e5f0",
   "metadata": {},
   "outputs": [],
   "source": [
    "from sklearn.model_selection import train_test_split\n",
    "\n",
    "df_train, df_test = train_test_split(df, test_size=0.2, stratify=df['genre'], random_state=42)"
   ]
  },
  {
   "cell_type": "code",
   "execution_count": null,
   "id": "c3785d38-f800-488f-a5f1-605c3ce96f2c",
   "metadata": {},
   "outputs": [],
   "source": [
    "print(f\"===> TRAIN\\n{df_train['genre'].value_counts() / df_train.shape[0]}\\n\")\n",
    "print(f\"===> TEST\\n{df_test['genre'].value_counts() / df_test.shape[0]}\")"
   ]
  },
  {
   "cell_type": "code",
   "execution_count": null,
   "id": "96040ab2-6e89-4065-a577-7fba5ddd5649",
   "metadata": {},
   "outputs": [],
   "source": [
    "# save the datasets\n",
    "df_train.to_csv('./datasets/genre_classification_train.csv', sep=';', index=False)\n",
    "df_test.to_csv('./datasets/genre_classification_test.csv', sep=';', index=False)"
   ]
  },
  {
   "cell_type": "markdown",
   "id": "87a16528-f26f-4d78-bfe5-cb51ebb8d965",
   "metadata": {},
   "source": [
    "## 4. Feature Extraction"
   ]
  },
  {
   "cell_type": "code",
   "execution_count": null,
   "id": "c9d651dd-1f40-4074-b44c-df17e9f9e790",
   "metadata": {},
   "outputs": [],
   "source": [
    "df_train.head()"
   ]
  },
  {
   "cell_type": "code",
   "execution_count": null,
   "id": "a4ad6136-7938-476c-a93f-47073d2428dd",
   "metadata": {},
   "outputs": [],
   "source": [
    "from sklearn.feature_extraction.text import TfidfVectorizer\n",
    "\n",
    "# by default, it performs: lowercasing, remove punctuation, strip accents\n",
    "tfidf = TfidfVectorizer()\n",
    "\n",
    "X_train = tfidf.fit_transform(df_train['description'])\n",
    "y_train = df_train['label']\n",
    "\n",
    "X_test = tfidf.transform(df_test['description'])\n",
    "y_test = df_test['label']"
   ]
  },
  {
   "cell_type": "code",
   "execution_count": null,
   "id": "451355a7-6450-44de-a7f0-90046dbfc330",
   "metadata": {},
   "outputs": [],
   "source": [
    "# all words in the vocabulary.\n",
    "tfidf.vocabulary_"
   ]
  },
  {
   "cell_type": "markdown",
   "id": "87926ae3-9ac6-478e-891c-54a1ebf45bc1",
   "metadata": {},
   "source": [
    "Note that there are a lot of **stop words** and **numbers** that will hinder our classification."
   ]
  },
  {
   "cell_type": "code",
   "execution_count": null,
   "id": "0fe126e6-22fd-4be3-a316-4a2846d15d57",
   "metadata": {},
   "outputs": [],
   "source": [
    "print(f'Vocabulary size: {len(tfidf.vocabulary_)}')"
   ]
  },
  {
   "cell_type": "code",
   "execution_count": null,
   "id": "b96ed5fc-f9a1-44b5-9d50-879ec6e8ac65",
   "metadata": {},
   "outputs": [],
   "source": [
    "print('Number of Feats')\n",
    "print(f'Train.shape: {X_train.shape}')\n",
    "print(f'Test.shape: {X_test.shape}')"
   ]
  },
  {
   "cell_type": "markdown",
   "id": "73b770da-b6f3-43d2-aebe-9a3b4e37632c",
   "metadata": {},
   "source": [
    "## 5. Train the models"
   ]
  },
  {
   "cell_type": "code",
   "execution_count": null,
   "id": "14bc1a9f-1df6-444b-b720-59bb816c627f",
   "metadata": {},
   "outputs": [],
   "source": [
    "from sklearn.linear_model import LogisticRegression\n",
    "\n",
    "logreg = LogisticRegression(class_weight='balanced')\n",
    "\n",
    "logreg.fit(X_train, y_train)"
   ]
  },
  {
   "cell_type": "code",
   "execution_count": null,
   "id": "a4642296-3db2-49b4-a598-dc29924e803a",
   "metadata": {},
   "outputs": [],
   "source": [
    "# prediction on training set\n",
    "y_train_pred = logreg.predict(X_train)"
   ]
  },
  {
   "cell_type": "code",
   "execution_count": null,
   "id": "a12b857b-af0e-4458-9cf3-f18b90b9006f",
   "metadata": {},
   "outputs": [],
   "source": [
    "from sklearn.metrics import classification_report\n",
    "\n",
    "print(classification_report(y_train, y_train_pred, target_names=label_encoder.classes_))"
   ]
  },
  {
   "cell_type": "code",
   "execution_count": null,
   "id": "ac79d2f9-7604-4e54-a1f3-3aaf7abe6cae",
   "metadata": {},
   "outputs": [],
   "source": [
    "from sklearn.metrics import f1_score\n",
    "\n",
    "f1_train = f1_score(y_train, y_train_pred, average='macro')\n",
    "\n",
    "print(f'F1 Train: {f1_train}')"
   ]
  },
  {
   "cell_type": "code",
   "execution_count": null,
   "id": "c0f7d9c9-d9b7-4238-a0ea-ddc64b093381",
   "metadata": {},
   "outputs": [],
   "source": [
    "from sklearn.metrics import balanced_accuracy_score\n",
    "\n",
    "balacc_train = balanced_accuracy_score(y_train, y_train_pred)\n",
    "\n",
    "print(f'Balanced Acc Train: {balacc_train}')"
   ]
  },
  {
   "cell_type": "markdown",
   "id": "c9d99482-3487-4df2-bdf7-7a3ad3dad7a4",
   "metadata": {},
   "source": [
    "## 6. Evaluate the model on the Test Set"
   ]
  },
  {
   "cell_type": "code",
   "execution_count": null,
   "id": "da3b5eb3-2ed9-4b27-89af-41c87f1a8b9e",
   "metadata": {},
   "outputs": [],
   "source": [
    "# prediction on testing set\n",
    "y_test_pred = logreg.predict(X_test)"
   ]
  },
  {
   "cell_type": "code",
   "execution_count": null,
   "id": "62383680-d01b-4924-b638-0d335dc736c3",
   "metadata": {},
   "outputs": [],
   "source": [
    "from sklearn.metrics import classification_report\n",
    "\n",
    "print(classification_report(y_test, y_test_pred, target_names=label_encoder.classes_))"
   ]
  },
  {
   "cell_type": "code",
   "execution_count": null,
   "id": "e835224a-544a-45e7-9761-edf04d24bf68",
   "metadata": {},
   "outputs": [],
   "source": [
    "from sklearn.metrics import f1_score\n",
    "\n",
    "f1_test = f1_score(y_test, y_test_pred, average='macro')\n",
    "\n",
    "print(f'F1 Test: {f1_test}')"
   ]
  },
  {
   "cell_type": "markdown",
   "id": "479e9310-0023-4113-b90d-f8d643eb8764",
   "metadata": {},
   "source": [
    "<br/>\n",
    "\n",
    "The resulting **F1 score** for the testing set is low, so we need to ***improve*** our solution. <br/>\n",
    "Some possibilities:\n",
    "- Perform _text preprocessing_\n",
    "- Try different _feature extractors_\n",
    "- Try different _classifiers_\n",
    "- Fine-tuning"
   ]
  },
  {
   "cell_type": "code",
   "execution_count": null,
   "id": "7a284944-a4b0-43e4-83bc-5d29218bfdb1",
   "metadata": {},
   "outputs": [],
   "source": []
  }
 ],
 "metadata": {
  "kernelspec": {
   "display_name": "Python 3",
   "language": "python",
   "name": "python3"
  },
  "language_info": {
   "codemirror_mode": {
    "name": "ipython",
    "version": 3
   },
   "file_extension": ".py",
   "mimetype": "text/x-python",
   "name": "python",
   "nbconvert_exporter": "python",
   "pygments_lexer": "ipython3",
   "version": "3.8.5"
  }
 },
 "nbformat": 4,
 "nbformat_minor": 5
}
