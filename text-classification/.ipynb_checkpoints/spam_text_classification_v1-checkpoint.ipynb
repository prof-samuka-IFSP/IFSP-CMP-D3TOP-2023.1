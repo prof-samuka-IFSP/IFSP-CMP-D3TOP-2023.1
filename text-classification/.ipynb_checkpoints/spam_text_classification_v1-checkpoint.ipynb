{
 "cells": [
  {
   "cell_type": "markdown",
   "id": "adc93106-f5f6-44df-91b3-edd19125d0c8",
   "metadata": {},
   "source": [
    "## **D3TOP - Tópicos em Ciência de Dados (IFSP Campinas)**\n",
    "**Prof. Dr. Samuel Martins (@iamsamucoding @samucoding @xavecoding)** <br/>\n",
    "xavecoding: https://youtube.com/c/xavecoding <br/><br/>\n",
    "\n",
    "<a rel=\"license\" href=\"http://creativecommons.org/licenses/by-nc-sa/4.0/\"><img alt=\"Creative Commons License\" style=\"border-width:0\" src=\"https://i.creativecommons.org/l/by-nc-sa/4.0/88x31.png\" /></a><br />This work is licensed under a <a rel=\"license\" href=\"http://creativecommons.org/licenses/by-nc-sa/4.0/\">Creative Commons Attribution-NonCommercial-ShareAlike 4.0 International License</a>.\n",
    "\n",
    "<hr/>"
   ]
  },
  {
   "cell_type": "markdown",
   "id": "76248815-fdae-4066-a572-e866cafa765b",
   "metadata": {},
   "source": [
    "# Spam Text Classification - Sprint 1"
   ]
  },
  {
   "cell_type": "markdown",
   "id": "663226c5-d3f6-4a40-ade7-25832e0b49a0",
   "metadata": {},
   "source": [
    "We will start solving a **Spam Text Classification** problem. <br/>\n",
    "In this notebook, we will:\n",
    "- Get the dataset\n",
    "- Perform a simple analysis\n",
    "- Split dataset\n",
    "- Perform feature extraction with TF-IDF (without text preprocessing)\n",
    "- Train a simple model (logistic regression)"
   ]
  },
  {
   "cell_type": "markdown",
   "id": "0ed14b52-271a-456b-8071-f0d9a71ec8d7",
   "metadata": {},
   "source": [
    "## 1. Get the Dataset\n",
    "https://www.kaggle.com/datasets/team-ai/spam-text-message-classification"
   ]
  },
  {
   "cell_type": "code",
   "execution_count": null,
   "id": "a3aeeccc-6b6a-4b7e-a632-6c7260e05f3c",
   "metadata": {},
   "outputs": [],
   "source": [
    "import pandas as pd"
   ]
  },
  {
   "cell_type": "code",
   "execution_count": null,
   "id": "6cea4479-27b0-4020-9a41-942d6b28b887",
   "metadata": {
    "tags": []
   },
   "outputs": [],
   "source": [
    "df = pd.read_csv('./datasets/SPAM text message 20170820 - Data.csv')\n",
    "df"
   ]
  },
  {
   "cell_type": "markdown",
   "id": "d89bfbbb-741b-46e7-a4db-9e265070e980",
   "metadata": {
    "tags": []
   },
   "source": [
    "## 2. Simple EDA"
   ]
  },
  {
   "cell_type": "markdown",
   "id": "5e478a43-170b-4acc-a765-3d119227f3cf",
   "metadata": {},
   "source": [
    "### 2.1. Info"
   ]
  },
  {
   "cell_type": "code",
   "execution_count": null,
   "id": "cae047e3-3a33-4dac-9589-0c26243cf2bc",
   "metadata": {},
   "outputs": [],
   "source": [
    "df.info()"
   ]
  },
  {
   "cell_type": "code",
   "execution_count": null,
   "id": "10c74883-8645-45ba-a7f1-e14f71da87a6",
   "metadata": {},
   "outputs": [],
   "source": [
    "# convert datatype from str to category\n",
    "df['Category'] = df['Category'].astype('category')\n",
    "df.info()"
   ]
  },
  {
   "cell_type": "markdown",
   "id": "5ef823ad-092e-4177-a42d-2d4d4bf13082",
   "metadata": {},
   "source": [
    "### 2.2. Class Proportion"
   ]
  },
  {
   "cell_type": "code",
   "execution_count": null,
   "id": "0eff585c-8fc5-418d-97d1-2a2cb438b7e1",
   "metadata": {},
   "outputs": [],
   "source": [
    "df['Category'].value_counts()"
   ]
  },
  {
   "cell_type": "code",
   "execution_count": null,
   "id": "c0ed9980-8afe-4361-abd2-f10c1ef3eab3",
   "metadata": {},
   "outputs": [],
   "source": [
    "import seaborn as sns\n",
    "\n",
    "sns.countplot(data=df, x='Category')"
   ]
  },
  {
   "cell_type": "markdown",
   "id": "c977b5c6-531d-496a-a3aa-246dce9e3b91",
   "metadata": {},
   "source": [
    "The dataset is very imbalanced!"
   ]
  },
  {
   "cell_type": "markdown",
   "id": "e0315302-d95f-4ad5-8cb9-19738214591a",
   "metadata": {},
   "source": [
    "### 2.3. Label Classes"
   ]
  },
  {
   "cell_type": "code",
   "execution_count": null,
   "id": "5af3bf77-b379-443c-8c20-84d5c1c7b9d9",
   "metadata": {},
   "outputs": [],
   "source": []
  },
  {
   "cell_type": "code",
   "execution_count": null,
   "id": "5726c68e-b856-4ef5-8fff-c0a9060cd9f3",
   "metadata": {},
   "outputs": [],
   "source": [
    "print(f'Class labels')\n",
    "\n",
    "for label, class_ in enumerate(label_encoder.classes_):\n",
    "    print(f'{class_} ==> {label}')"
   ]
  },
  {
   "cell_type": "code",
   "execution_count": null,
   "id": "9526d09f-cf4e-40ae-a74f-442b5f216095",
   "metadata": {},
   "outputs": [],
   "source": []
  },
  {
   "cell_type": "code",
   "execution_count": null,
   "id": "bc73802a-916c-4ac6-a078-88446928823b",
   "metadata": {},
   "outputs": [],
   "source": [
    "df"
   ]
  },
  {
   "cell_type": "markdown",
   "id": "64fdeba1-08ed-4016-a397-17b8c44b08bf",
   "metadata": {},
   "source": [
    "### 2.4. Check blank messages"
   ]
  },
  {
   "cell_type": "code",
   "execution_count": null,
   "id": "237a95da-9d9e-4caa-8228-bae69f42fc1c",
   "metadata": {},
   "outputs": [],
   "source": [
    "pd.isna(df['Category']).sum()"
   ]
  },
  {
   "cell_type": "markdown",
   "id": "c55b63e9-4c1c-44f4-b184-f3a42056c33a",
   "metadata": {},
   "source": [
    "### 2.5. Word Cloud"
   ]
  },
  {
   "cell_type": "code",
   "execution_count": null,
   "id": "5b3bad40-ab61-4650-9636-8ae037157ba3",
   "metadata": {
    "tags": []
   },
   "outputs": [],
   "source": []
  },
  {
   "cell_type": "code",
   "execution_count": null,
   "id": "02711eb3-019d-427c-a5be-d83f5d2bd29f",
   "metadata": {},
   "outputs": [],
   "source": []
  },
  {
   "cell_type": "markdown",
   "id": "c27ec5e2-340f-460c-b94e-27a5bdeef8c2",
   "metadata": {},
   "source": [
    "## 3. Split the Dataset"
   ]
  },
  {
   "cell_type": "code",
   "execution_count": null,
   "id": "2857f4ce-b526-41ea-8cc7-ec8c7f36e5f0",
   "metadata": {},
   "outputs": [],
   "source": [
    "from sklearn.model_selection import train_test_split\n",
    "\n",
    "df_train, df_test = train_test_split(df, test_size=0.2, stratify=df['Category'], random_state=42)"
   ]
  },
  {
   "cell_type": "code",
   "execution_count": null,
   "id": "c3785d38-f800-488f-a5f1-605c3ce96f2c",
   "metadata": {},
   "outputs": [],
   "source": [
    "print(f\"===> TRAIN\\n{df_train['Category'].value_counts() / df_train.shape[0]}\\n\")\n",
    "print(f\"===> TEST\\n{df_test['Category'].value_counts() / df_test.shape[0]}\")"
   ]
  },
  {
   "cell_type": "code",
   "execution_count": null,
   "id": "96040ab2-6e89-4065-a577-7fba5ddd5649",
   "metadata": {},
   "outputs": [],
   "source": [
    "# save the datasets\n",
    "df_train.to_csv('./datasets/spam_test_dataset_train.csv', sep=';')\n",
    "df_test.to_csv('./datasets/spam_test_dataset_test.csv', sep=';')"
   ]
  },
  {
   "cell_type": "markdown",
   "id": "87a16528-f26f-4d78-bfe5-cb51ebb8d965",
   "metadata": {},
   "source": [
    "## 4. Feature Extraction"
   ]
  },
  {
   "cell_type": "code",
   "execution_count": null,
   "id": "a4ad6136-7938-476c-a93f-47073d2428dd",
   "metadata": {},
   "outputs": [],
   "source": []
  },
  {
   "cell_type": "code",
   "execution_count": null,
   "id": "451355a7-6450-44de-a7f0-90046dbfc330",
   "metadata": {},
   "outputs": [],
   "source": [
    "# all words in the vocabulary.\n",
    "tfidf.vocabulary_"
   ]
  },
  {
   "cell_type": "markdown",
   "id": "87926ae3-9ac6-478e-891c-54a1ebf45bc1",
   "metadata": {},
   "source": [
    "Note that there are a lot of **stop words** and **numbers** that will hinder our classification."
   ]
  },
  {
   "cell_type": "code",
   "execution_count": null,
   "id": "0fe126e6-22fd-4be3-a316-4a2846d15d57",
   "metadata": {},
   "outputs": [],
   "source": [
    "print(f'Vocabulary size: {len(tfidf.vocabulary_)}')"
   ]
  },
  {
   "cell_type": "code",
   "execution_count": null,
   "id": "b96ed5fc-f9a1-44b5-9d50-879ec6e8ac65",
   "metadata": {},
   "outputs": [],
   "source": [
    "print('Number of Feats')\n",
    "print(f'Train.shape: {X_train.shape}')\n",
    "print(f'Test.shape: {X_test.shape}')"
   ]
  },
  {
   "cell_type": "markdown",
   "id": "73b770da-b6f3-43d2-aebe-9a3b4e37632c",
   "metadata": {},
   "source": [
    "## 5. Train the models"
   ]
  },
  {
   "cell_type": "code",
   "execution_count": null,
   "id": "14bc1a9f-1df6-444b-b720-59bb816c627f",
   "metadata": {},
   "outputs": [],
   "source": []
  },
  {
   "cell_type": "code",
   "execution_count": null,
   "id": "a4642296-3db2-49b4-a598-dc29924e803a",
   "metadata": {},
   "outputs": [],
   "source": [
    "# prediction on training set\n"
   ]
  },
  {
   "cell_type": "code",
   "execution_count": null,
   "id": "a12b857b-af0e-4458-9cf3-f18b90b9006f",
   "metadata": {},
   "outputs": [],
   "source": []
  },
  {
   "cell_type": "markdown",
   "id": "c9d99482-3487-4df2-bdf7-7a3ad3dad7a4",
   "metadata": {},
   "source": [
    "## 6. Evaluate the model on the Test Set"
   ]
  },
  {
   "cell_type": "code",
   "execution_count": null,
   "id": "da3b5eb3-2ed9-4b27-89af-41c87f1a8b9e",
   "metadata": {},
   "outputs": [],
   "source": [
    "# prediction on testing set\n"
   ]
  },
  {
   "cell_type": "code",
   "execution_count": null,
   "id": "62383680-d01b-4924-b638-0d335dc736c3",
   "metadata": {},
   "outputs": [],
   "source": []
  },
  {
   "cell_type": "code",
   "execution_count": null,
   "id": "72e7f5c8-0744-4dc7-a34c-f225a794a0e7",
   "metadata": {},
   "outputs": [],
   "source": []
  }
 ],
 "metadata": {
  "kernelspec": {
   "display_name": "Python 3",
   "language": "python",
   "name": "python3"
  },
  "language_info": {
   "codemirror_mode": {
    "name": "ipython",
    "version": 3
   },
   "file_extension": ".py",
   "mimetype": "text/x-python",
   "name": "python",
   "nbconvert_exporter": "python",
   "pygments_lexer": "ipython3",
   "version": "3.8.5"
  }
 },
 "nbformat": 4,
 "nbformat_minor": 5
}
