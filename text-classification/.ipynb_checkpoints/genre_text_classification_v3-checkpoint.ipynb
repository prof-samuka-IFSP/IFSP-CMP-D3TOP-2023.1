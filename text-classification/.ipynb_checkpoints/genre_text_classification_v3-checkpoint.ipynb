{
 "cells": [
  {
   "cell_type": "markdown",
   "id": "adc93106-f5f6-44df-91b3-edd19125d0c8",
   "metadata": {},
   "source": [
    "## **D3TOP - Tópicos em Ciência de Dados (IFSP Campinas)**\n",
    "**Prof. Dr. Samuel Martins (@iamsamucoding @samucoding @xavecoding)** <br/>\n",
    "xavecoding: https://youtube.com/c/xavecoding <br/><br/>\n",
    "\n",
    "<a rel=\"license\" href=\"http://creativecommons.org/licenses/by-nc-sa/4.0/\"><img alt=\"Creative Commons License\" style=\"border-width:0\" src=\"https://i.creativecommons.org/l/by-nc-sa/4.0/88x31.png\" /></a><br />This work is licensed under a <a rel=\"license\" href=\"http://creativecommons.org/licenses/by-nc-sa/4.0/\">Creative Commons Attribution-NonCommercial-ShareAlike 4.0 International License</a>.\n",
    "\n",
    "<hr/>"
   ]
  },
  {
   "cell_type": "markdown",
   "id": "76248815-fdae-4066-a572-e866cafa765b",
   "metadata": {},
   "source": [
    "# Genre Identification by Text Classification"
   ]
  },
  {
   "cell_type": "markdown",
   "id": "23bf6444-68f6-4077-8ab4-692a66f69eb4",
   "metadata": {},
   "source": [
    "## Sprint 3"
   ]
  },
  {
   "cell_type": "markdown",
   "id": "663226c5-d3f6-4a40-ade7-25832e0b49a0",
   "metadata": {},
   "source": [
    "We will start solving a **Text Classification** problem. We will train a model to predict movies' genres throught their descriptions <br/>\n",
    "\n",
    "In this notebook, we will:\n",
    "- Evaluate several classifiers by `PyCaret`\n",
    "- Keep the TF-IDF as feature extraction"
   ]
  },
  {
   "cell_type": "markdown",
   "id": "0ed14b52-271a-456b-8071-f0d9a71ec8d7",
   "metadata": {},
   "source": [
    "## 1. Get the Dataset\n",
    "https://www.kaggle.com/datasets/hijest/genre-classification-dataset-imdb"
   ]
  },
  {
   "cell_type": "code",
   "execution_count": 1,
   "id": "a3aeeccc-6b6a-4b7e-a632-6c7260e05f3c",
   "metadata": {
    "tags": []
   },
   "outputs": [],
   "source": [
    "import pandas as pd"
   ]
  },
  {
   "cell_type": "code",
   "execution_count": 2,
   "id": "6cea4479-27b0-4020-9a41-942d6b28b887",
   "metadata": {
    "tags": []
   },
   "outputs": [],
   "source": [
    "df_train = pd.read_csv('./datasets/genre_classification_train_preprocessed.csv', sep=';')\n",
    "df_test = pd.read_csv('./datasets/genre_classification_test_preprocessed.csv', sep=';')"
   ]
  },
  {
   "cell_type": "code",
   "execution_count": 3,
   "id": "10932172-0432-40b6-a0b0-d2d371a1df7d",
   "metadata": {
    "tags": []
   },
   "outputs": [
    {
     "data": {
      "text/html": [
       "<div>\n",
       "<style scoped>\n",
       "    .dataframe tbody tr th:only-of-type {\n",
       "        vertical-align: middle;\n",
       "    }\n",
       "\n",
       "    .dataframe tbody tr th {\n",
       "        vertical-align: top;\n",
       "    }\n",
       "\n",
       "    .dataframe thead th {\n",
       "        text-align: right;\n",
       "    }\n",
       "</style>\n",
       "<table border=\"1\" class=\"dataframe\">\n",
       "  <thead>\n",
       "    <tr style=\"text-align: right;\">\n",
       "      <th></th>\n",
       "      <th>id</th>\n",
       "      <th>title</th>\n",
       "      <th>genre</th>\n",
       "      <th>description</th>\n",
       "      <th>label</th>\n",
       "      <th>description-pre</th>\n",
       "    </tr>\n",
       "  </thead>\n",
       "  <tbody>\n",
       "    <tr>\n",
       "      <th>0</th>\n",
       "      <td>27180</td>\n",
       "      <td>Rivals (1972)</td>\n",
       "      <td>drama</td>\n",
       "      <td>Scott Jacoby, as a boy with an unhealthy and p...</td>\n",
       "      <td>8</td>\n",
       "      <td>scott jacoby boy unhealthy pathological attach...</td>\n",
       "    </tr>\n",
       "    <tr>\n",
       "      <th>1</th>\n",
       "      <td>19975</td>\n",
       "      <td>Kosava (1974)</td>\n",
       "      <td>drama</td>\n",
       "      <td>The story of two workers who returned from abr...</td>\n",
       "      <td>8</td>\n",
       "      <td>story workers returned abroad wants find good ...</td>\n",
       "    </tr>\n",
       "    <tr>\n",
       "      <th>2</th>\n",
       "      <td>48284</td>\n",
       "      <td>In Winter (2017)</td>\n",
       "      <td>drama</td>\n",
       "      <td>In Winter is an independent feature emerging f...</td>\n",
       "      <td>8</td>\n",
       "      <td>winter independent feature emerging classical ...</td>\n",
       "    </tr>\n",
       "    <tr>\n",
       "      <th>3</th>\n",
       "      <td>37540</td>\n",
       "      <td>Maria Chapdelaine (1950)</td>\n",
       "      <td>drama</td>\n",
       "      <td>At the beginning of the 20th century, in the N...</td>\n",
       "      <td>8</td>\n",
       "      <td>beginning th century north province quebec yea...</td>\n",
       "    </tr>\n",
       "    <tr>\n",
       "      <th>4</th>\n",
       "      <td>43389</td>\n",
       "      <td>The Gift Of (2018)</td>\n",
       "      <td>comedy</td>\n",
       "      <td>A delicious combo of romantic-comedy and socia...</td>\n",
       "      <td>5</td>\n",
       "      <td>delicious combo romanticcomedy social satire f...</td>\n",
       "    </tr>\n",
       "    <tr>\n",
       "      <th>...</th>\n",
       "      <td>...</td>\n",
       "      <td>...</td>\n",
       "      <td>...</td>\n",
       "      <td>...</td>\n",
       "      <td>...</td>\n",
       "      <td>...</td>\n",
       "    </tr>\n",
       "    <tr>\n",
       "      <th>43366</th>\n",
       "      <td>40649</td>\n",
       "      <td>Mesto nic neví (1976)</td>\n",
       "      <td>crime</td>\n",
       "      <td>A summer's day. Sixteen-year-old Hedvika arriv...</td>\n",
       "      <td>6</td>\n",
       "      <td>summers day sixteenyearold hedvika arrives ost...</td>\n",
       "    </tr>\n",
       "    <tr>\n",
       "      <th>43367</th>\n",
       "      <td>50892</td>\n",
       "      <td>Join the Cult (2015)</td>\n",
       "      <td>documentary</td>\n",
       "      <td>Join The Cult follows Cult Of Tomorrows End, a...</td>\n",
       "      <td>7</td>\n",
       "      <td>join cult follows cult tomorrows end young ine...</td>\n",
       "    </tr>\n",
       "    <tr>\n",
       "      <th>43368</th>\n",
       "      <td>28767</td>\n",
       "      <td>Hancock's Half Hour: The New Neighbour (2016)</td>\n",
       "      <td>comedy</td>\n",
       "      <td>Whilst claiming all his neighbours are voyeurs...</td>\n",
       "      <td>5</td>\n",
       "      <td>whilst claiming neighbours voyeurs hancock kee...</td>\n",
       "    </tr>\n",
       "    <tr>\n",
       "      <th>43369</th>\n",
       "      <td>37822</td>\n",
       "      <td>New Project 'Zengin Sinifin Dizi Dibinde' (2013)</td>\n",
       "      <td>drama</td>\n",
       "      <td>Spring of 2013, Istanbul in the midst of youth...</td>\n",
       "      <td>8</td>\n",
       "      <td>spring istanbul midst youth upheavals iskender...</td>\n",
       "    </tr>\n",
       "    <tr>\n",
       "      <th>43370</th>\n",
       "      <td>22745</td>\n",
       "      <td>Global Operation (????)</td>\n",
       "      <td>documentary</td>\n",
       "      <td>The series takes its audience around the globe...</td>\n",
       "      <td>7</td>\n",
       "      <td>series takes audience globe cutthroat crime ca...</td>\n",
       "    </tr>\n",
       "  </tbody>\n",
       "</table>\n",
       "<p>43371 rows × 6 columns</p>\n",
       "</div>"
      ],
      "text/plain": [
       "          id                                             title        genre  \\\n",
       "0      27180                                     Rivals (1972)        drama   \n",
       "1      19975                                     Kosava (1974)        drama   \n",
       "2      48284                                  In Winter (2017)        drama   \n",
       "3      37540                          Maria Chapdelaine (1950)        drama   \n",
       "4      43389                                The Gift Of (2018)       comedy   \n",
       "...      ...                                               ...          ...   \n",
       "43366  40649                             Mesto nic neví (1976)        crime   \n",
       "43367  50892                              Join the Cult (2015)  documentary   \n",
       "43368  28767     Hancock's Half Hour: The New Neighbour (2016)       comedy   \n",
       "43369  37822  New Project 'Zengin Sinifin Dizi Dibinde' (2013)        drama   \n",
       "43370  22745                           Global Operation (????)  documentary   \n",
       "\n",
       "                                             description  label  \\\n",
       "0      Scott Jacoby, as a boy with an unhealthy and p...      8   \n",
       "1      The story of two workers who returned from abr...      8   \n",
       "2      In Winter is an independent feature emerging f...      8   \n",
       "3      At the beginning of the 20th century, in the N...      8   \n",
       "4      A delicious combo of romantic-comedy and socia...      5   \n",
       "...                                                  ...    ...   \n",
       "43366  A summer's day. Sixteen-year-old Hedvika arriv...      6   \n",
       "43367  Join The Cult follows Cult Of Tomorrows End, a...      7   \n",
       "43368  Whilst claiming all his neighbours are voyeurs...      5   \n",
       "43369  Spring of 2013, Istanbul in the midst of youth...      8   \n",
       "43370  The series takes its audience around the globe...      7   \n",
       "\n",
       "                                         description-pre  \n",
       "0      scott jacoby boy unhealthy pathological attach...  \n",
       "1      story workers returned abroad wants find good ...  \n",
       "2      winter independent feature emerging classical ...  \n",
       "3      beginning th century north province quebec yea...  \n",
       "4      delicious combo romanticcomedy social satire f...  \n",
       "...                                                  ...  \n",
       "43366  summers day sixteenyearold hedvika arrives ost...  \n",
       "43367  join cult follows cult tomorrows end young ine...  \n",
       "43368  whilst claiming neighbours voyeurs hancock kee...  \n",
       "43369  spring istanbul midst youth upheavals iskender...  \n",
       "43370  series takes audience globe cutthroat crime ca...  \n",
       "\n",
       "[43371 rows x 6 columns]"
      ]
     },
     "execution_count": 3,
     "metadata": {},
     "output_type": "execute_result"
    }
   ],
   "source": [
    "df_train"
   ]
  },
  {
   "cell_type": "code",
   "execution_count": 4,
   "id": "f9cdf7c5-148e-48d2-a09f-ccb5a5182944",
   "metadata": {
    "tags": []
   },
   "outputs": [
    {
     "data": {
      "text/html": [
       "<div>\n",
       "<style scoped>\n",
       "    .dataframe tbody tr th:only-of-type {\n",
       "        vertical-align: middle;\n",
       "    }\n",
       "\n",
       "    .dataframe tbody tr th {\n",
       "        vertical-align: top;\n",
       "    }\n",
       "\n",
       "    .dataframe thead th {\n",
       "        text-align: right;\n",
       "    }\n",
       "</style>\n",
       "<table border=\"1\" class=\"dataframe\">\n",
       "  <thead>\n",
       "    <tr style=\"text-align: right;\">\n",
       "      <th></th>\n",
       "      <th>id</th>\n",
       "      <th>title</th>\n",
       "      <th>genre</th>\n",
       "      <th>description</th>\n",
       "      <th>label</th>\n",
       "      <th>description-pre</th>\n",
       "    </tr>\n",
       "  </thead>\n",
       "  <tbody>\n",
       "    <tr>\n",
       "      <th>0</th>\n",
       "      <td>14679</td>\n",
       "      <td>Undesignated Driver (1996)</td>\n",
       "      <td>short</td>\n",
       "      <td>This video series, in national distribution wi...</td>\n",
       "      <td>21</td>\n",
       "      <td>video series national distribution film ideas ...</td>\n",
       "    </tr>\n",
       "    <tr>\n",
       "      <th>1</th>\n",
       "      <td>8348</td>\n",
       "      <td>Proteolysis (????)</td>\n",
       "      <td>action</td>\n",
       "      <td>\"Proteolysis\" is a gritty, action-adventure, s...</td>\n",
       "      <td>0</td>\n",
       "      <td>proteolysis gritty actionadventure set rural m...</td>\n",
       "    </tr>\n",
       "    <tr>\n",
       "      <th>2</th>\n",
       "      <td>34987</td>\n",
       "      <td>Intimately Yours (1998)</td>\n",
       "      <td>adventure</td>\n",
       "      <td>Love bondager Chelsea Pfeiffer ties and gags o...</td>\n",
       "      <td>2</td>\n",
       "      <td>love bondager chelsea pfeiffer ties gags harmo...</td>\n",
       "    </tr>\n",
       "    <tr>\n",
       "      <th>3</th>\n",
       "      <td>15885</td>\n",
       "      <td>49 Days (????)</td>\n",
       "      <td>horror</td>\n",
       "      <td>Jason and Camille, sweethearts since childhood...</td>\n",
       "      <td>13</td>\n",
       "      <td>jason camille sweethearts childhood swimming n...</td>\n",
       "    </tr>\n",
       "    <tr>\n",
       "      <th>4</th>\n",
       "      <td>42009</td>\n",
       "      <td>The Torturer (2005)</td>\n",
       "      <td>horror</td>\n",
       "      <td>The twenty-four year-old aspirant actress Gine...</td>\n",
       "      <td>13</td>\n",
       "      <td>twentyfour yearold aspirant actress ginette ca...</td>\n",
       "    </tr>\n",
       "    <tr>\n",
       "      <th>...</th>\n",
       "      <td>...</td>\n",
       "      <td>...</td>\n",
       "      <td>...</td>\n",
       "      <td>...</td>\n",
       "      <td>...</td>\n",
       "      <td>...</td>\n",
       "    </tr>\n",
       "    <tr>\n",
       "      <th>10838</th>\n",
       "      <td>47207</td>\n",
       "      <td>Uso Justo (2005)</td>\n",
       "      <td>short</td>\n",
       "      <td>When an experimental filmmaker decides to shoo...</td>\n",
       "      <td>21</td>\n",
       "      <td>experimental filmmaker decides shoot film fict...</td>\n",
       "    </tr>\n",
       "    <tr>\n",
       "      <th>10839</th>\n",
       "      <td>53454</td>\n",
       "      <td>The Perfect Girl (2015)</td>\n",
       "      <td>romance</td>\n",
       "      <td>A young boy (Jay) and a girl (Vedika) happen t...</td>\n",
       "      <td>19</td>\n",
       "      <td>young boy jay girl vedika happen meet tourist ...</td>\n",
       "    </tr>\n",
       "    <tr>\n",
       "      <th>10840</th>\n",
       "      <td>21050</td>\n",
       "      <td>\"Trapped Minds\" (2016)</td>\n",
       "      <td>drama</td>\n",
       "      <td>Trapped Minds is a 4-episode psychological thr...</td>\n",
       "      <td>8</td>\n",
       "      <td>trapped minds episode psychological thriller m...</td>\n",
       "    </tr>\n",
       "    <tr>\n",
       "      <th>10841</th>\n",
       "      <td>44343</td>\n",
       "      <td>Chronicles of a Silver Revolver (????)</td>\n",
       "      <td>short</td>\n",
       "      <td>With today's issue with gun violence and contr...</td>\n",
       "      <td>21</td>\n",
       "      <td>todays issue gun violence control director jd ...</td>\n",
       "    </tr>\n",
       "    <tr>\n",
       "      <th>10842</th>\n",
       "      <td>24378</td>\n",
       "      <td>ESA Topical Team Arts &amp; Science Space Related ...</td>\n",
       "      <td>documentary</td>\n",
       "      <td>Original artworks and interviews with internat...</td>\n",
       "      <td>7</td>\n",
       "      <td>original artworks interviews international art...</td>\n",
       "    </tr>\n",
       "  </tbody>\n",
       "</table>\n",
       "<p>10843 rows × 6 columns</p>\n",
       "</div>"
      ],
      "text/plain": [
       "          id                                              title        genre  \\\n",
       "0      14679                         Undesignated Driver (1996)        short   \n",
       "1       8348                                 Proteolysis (????)       action   \n",
       "2      34987                            Intimately Yours (1998)    adventure   \n",
       "3      15885                                     49 Days (????)       horror   \n",
       "4      42009                                The Torturer (2005)       horror   \n",
       "...      ...                                                ...          ...   \n",
       "10838  47207                                   Uso Justo (2005)        short   \n",
       "10839  53454                            The Perfect Girl (2015)      romance   \n",
       "10840  21050                             \"Trapped Minds\" (2016)        drama   \n",
       "10841  44343             Chronicles of a Silver Revolver (????)        short   \n",
       "10842  24378  ESA Topical Team Arts & Science Space Related ...  documentary   \n",
       "\n",
       "                                             description  label  \\\n",
       "0      This video series, in national distribution wi...     21   \n",
       "1      \"Proteolysis\" is a gritty, action-adventure, s...      0   \n",
       "2      Love bondager Chelsea Pfeiffer ties and gags o...      2   \n",
       "3      Jason and Camille, sweethearts since childhood...     13   \n",
       "4      The twenty-four year-old aspirant actress Gine...     13   \n",
       "...                                                  ...    ...   \n",
       "10838  When an experimental filmmaker decides to shoo...     21   \n",
       "10839  A young boy (Jay) and a girl (Vedika) happen t...     19   \n",
       "10840  Trapped Minds is a 4-episode psychological thr...      8   \n",
       "10841  With today's issue with gun violence and contr...     21   \n",
       "10842  Original artworks and interviews with internat...      7   \n",
       "\n",
       "                                         description-pre  \n",
       "0      video series national distribution film ideas ...  \n",
       "1      proteolysis gritty actionadventure set rural m...  \n",
       "2      love bondager chelsea pfeiffer ties gags harmo...  \n",
       "3      jason camille sweethearts childhood swimming n...  \n",
       "4      twentyfour yearold aspirant actress ginette ca...  \n",
       "...                                                  ...  \n",
       "10838  experimental filmmaker decides shoot film fict...  \n",
       "10839  young boy jay girl vedika happen meet tourist ...  \n",
       "10840  trapped minds episode psychological thriller m...  \n",
       "10841  todays issue gun violence control director jd ...  \n",
       "10842  original artworks interviews international art...  \n",
       "\n",
       "[10843 rows x 6 columns]"
      ]
     },
     "execution_count": 4,
     "metadata": {},
     "output_type": "execute_result"
    }
   ],
   "source": [
    "df_test"
   ]
  },
  {
   "cell_type": "markdown",
   "id": "87a16528-f26f-4d78-bfe5-cb51ebb8d965",
   "metadata": {},
   "source": [
    "## 2. Feature Extraction"
   ]
  },
  {
   "cell_type": "code",
   "execution_count": 5,
   "id": "a4ad6136-7938-476c-a93f-47073d2428dd",
   "metadata": {
    "tags": []
   },
   "outputs": [],
   "source": [
    "from sklearn.feature_extraction.text import TfidfVectorizer\n",
    "\n",
    "tfidf = TfidfVectorizer()\n",
    "\n",
    "X_train = tfidf.fit_transform(df_train['description-pre'])\n",
    "y_train = df_train['label']\n",
    "\n",
    "X_test = tfidf.transform(df_test['description-pre'])\n",
    "y_test = df_test['label']"
   ]
  },
  {
   "cell_type": "code",
   "execution_count": 6,
   "id": "4baab7af-1e5e-47b6-9b82-f615701f060d",
   "metadata": {
    "tags": []
   },
   "outputs": [
    {
     "data": {
      "text/plain": [
       "((43371, 128428), (10843, 128428))"
      ]
     },
     "execution_count": 6,
     "metadata": {},
     "output_type": "execute_result"
    }
   ],
   "source": [
    "X_train.shape, X_test.shape"
   ]
  },
  {
   "cell_type": "code",
   "execution_count": 7,
   "id": "0fe126e6-22fd-4be3-a316-4a2846d15d57",
   "metadata": {
    "tags": []
   },
   "outputs": [
    {
     "name": "stdout",
     "output_type": "stream",
     "text": [
      "Vocabulary size: 128428\n"
     ]
    }
   ],
   "source": [
    "print(f'Vocabulary size: {len(tfidf.vocabulary_)}')"
   ]
  },
  {
   "cell_type": "code",
   "execution_count": 8,
   "id": "bc109a01-10a7-44f9-a21d-f962ff32fd2f",
   "metadata": {},
   "outputs": [],
   "source": [
    "feature_names = tfidf.get_feature_names()"
   ]
  },
  {
   "cell_type": "markdown",
   "id": "73b770da-b6f3-43d2-aebe-9a3b4e37632c",
   "metadata": {},
   "source": [
    "## 3. Evaluate multiple models by `TPOT`"
   ]
  },
  {
   "cell_type": "code",
   "execution_count": 19,
   "id": "7a9fcc70-968f-467b-a15f-d9113cbe7449",
   "metadata": {},
   "outputs": [],
   "source": [
    "from tpot import TPOTClassifier\n",
    "\n",
    "model = TPOTClassifier(generations=5, population_size=50, verbosity=2,\n",
    "                       max_time_mins=2, scoring='f1_macro', random_state=42,\n",
    "                       n_jobs=-1, config_dict='TPOT sparse', cv=1)"
   ]
  },
  {
   "cell_type": "code",
   "execution_count": null,
   "id": "faa8d7a3-e7d0-48cf-aff7-6009d81803c3",
   "metadata": {},
   "outputs": [],
   "source": [
    "# performing the search for best fit\n",
    "model.fit(X_train, y_train)"
   ]
  },
  {
   "cell_type": "code",
   "execution_count": null,
   "id": "6ea61101-d738-4af1-b07e-2d0a8587bf34",
   "metadata": {},
   "outputs": [],
   "source": []
  },
  {
   "cell_type": "code",
   "execution_count": null,
   "id": "7d6f234f-7d98-4daf-baf5-7bd21b4cfde4",
   "metadata": {},
   "outputs": [],
   "source": []
  },
  {
   "cell_type": "code",
   "execution_count": null,
   "id": "e3a5395e-5927-48f6-bd2e-3ffe36237366",
   "metadata": {},
   "outputs": [],
   "source": []
  },
  {
   "cell_type": "code",
   "execution_count": null,
   "id": "0eddee9e-d9b4-477d-a61c-408f4d338fe8",
   "metadata": {},
   "outputs": [],
   "source": []
  },
  {
   "cell_type": "markdown",
   "id": "c9d99482-3487-4df2-bdf7-7a3ad3dad7a4",
   "metadata": {},
   "source": [
    "## 6. Evaluate the model on the Test Set"
   ]
  },
  {
   "cell_type": "code",
   "execution_count": null,
   "id": "da3b5eb3-2ed9-4b27-89af-41c87f1a8b9e",
   "metadata": {},
   "outputs": [],
   "source": [
    "# prediction on testing set\n",
    "y_test_pred = logreg.predict(X_test)"
   ]
  },
  {
   "cell_type": "code",
   "execution_count": null,
   "id": "62383680-d01b-4924-b638-0d335dc736c3",
   "metadata": {},
   "outputs": [],
   "source": [
    "from sklearn.metrics import classification_report\n",
    "\n",
    "print(classification_report(y_test, y_test_pred, target_names=target_names))"
   ]
  },
  {
   "cell_type": "code",
   "execution_count": null,
   "id": "e835224a-544a-45e7-9761-edf04d24bf68",
   "metadata": {},
   "outputs": [],
   "source": [
    "from sklearn.metrics import f1_score\n",
    "\n",
    "f1_test = f1_score(y_test, y_test_pred, average='macro')\n",
    "\n",
    "print(f'F1 Test: {f1_test}')"
   ]
  },
  {
   "cell_type": "markdown",
   "id": "479e9310-0023-4113-b90d-f8d643eb8764",
   "metadata": {},
   "source": [
    "<br/>\n",
    "\n",
    "The resulting **F1 score** has not improved after considering _text preprocessing_, at least for _Logistic Regression_."
   ]
  },
  {
   "cell_type": "code",
   "execution_count": null,
   "id": "7a284944-a4b0-43e4-83bc-5d29218bfdb1",
   "metadata": {},
   "outputs": [],
   "source": []
  }
 ],
 "metadata": {
  "kernelspec": {
   "display_name": "Python 3",
   "language": "python",
   "name": "python3"
  },
  "language_info": {
   "codemirror_mode": {
    "name": "ipython",
    "version": 3
   },
   "file_extension": ".py",
   "mimetype": "text/x-python",
   "name": "python",
   "nbconvert_exporter": "python",
   "pygments_lexer": "ipython3",
   "version": "3.8.5"
  }
 },
 "nbformat": 4,
 "nbformat_minor": 5
}
