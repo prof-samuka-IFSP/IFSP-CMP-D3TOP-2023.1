{
 "cells": [
  {
   "cell_type": "markdown",
   "id": "adc93106-f5f6-44df-91b3-edd19125d0c8",
   "metadata": {},
   "source": [
    "## **D3TOP - Tópicos em Ciência de Dados (IFSP Campinas)**\n",
    "**Prof. Dr. Samuel Martins (@iamsamucoding @samucoding @xavecoding)** <br/>\n",
    "xavecoding: https://youtube.com/c/xavecoding <br/><br/>\n",
    "\n",
    "<a rel=\"license\" href=\"http://creativecommons.org/licenses/by-nc-sa/4.0/\"><img alt=\"Creative Commons License\" style=\"border-width:0\" src=\"https://i.creativecommons.org/l/by-nc-sa/4.0/88x31.png\" /></a><br />This work is licensed under a <a rel=\"license\" href=\"http://creativecommons.org/licenses/by-nc-sa/4.0/\">Creative Commons Attribution-NonCommercial-ShareAlike 4.0 International License</a>.\n",
    "\n",
    "<hr/>"
   ]
  },
  {
   "cell_type": "markdown",
   "id": "76248815-fdae-4066-a572-e866cafa765b",
   "metadata": {},
   "source": [
    "# Genre Identification by Text Classification"
   ]
  },
  {
   "cell_type": "markdown",
   "id": "23bf6444-68f6-4077-8ab4-692a66f69eb4",
   "metadata": {},
   "source": [
    "## Sprint 2"
   ]
  },
  {
   "cell_type": "markdown",
   "id": "663226c5-d3f6-4a40-ade7-25832e0b49a0",
   "metadata": {},
   "source": [
    "We will start solving a **Text Classification** problem. We will train a model to predict movies' genres throught their descriptions <br/>\n",
    "\n",
    "In this notebook, we will:\n",
    "- Perform _text preprocessing_\n",
    "- Run the previous experiments again"
   ]
  },
  {
   "cell_type": "markdown",
   "id": "0ed14b52-271a-456b-8071-f0d9a71ec8d7",
   "metadata": {},
   "source": [
    "## 1. Get the Dataset\n",
    "https://www.kaggle.com/datasets/hijest/genre-classification-dataset-imdb"
   ]
  },
  {
   "cell_type": "code",
   "execution_count": null,
   "id": "a3aeeccc-6b6a-4b7e-a632-6c7260e05f3c",
   "metadata": {},
   "outputs": [],
   "source": [
    "import pandas as pd"
   ]
  },
  {
   "cell_type": "code",
   "execution_count": null,
   "id": "6cea4479-27b0-4020-9a41-942d6b28b887",
   "metadata": {
    "tags": []
   },
   "outputs": [],
   "source": [
    "df_train = pd.read_csv('./datasets/genre_classification_train.csv', sep=';')\n",
    "df_test = pd.read_csv('./datasets/genre_classification_test.csv', sep=';')"
   ]
  },
  {
   "cell_type": "code",
   "execution_count": null,
   "id": "10932172-0432-40b6-a0b0-d2d371a1df7d",
   "metadata": {},
   "outputs": [],
   "source": [
    "df_train"
   ]
  },
  {
   "cell_type": "code",
   "execution_count": null,
   "id": "f9cdf7c5-148e-48d2-a09f-ccb5a5182944",
   "metadata": {},
   "outputs": [],
   "source": [
    "df_test"
   ]
  },
  {
   "cell_type": "markdown",
   "id": "2e702da0-554b-472a-a349-b38fc72886c2",
   "metadata": {},
   "source": [
    "## 2. Text Preprocessing\n",
    "- lowering\n",
    "- expand contractions\n",
    "- remove:\n",
    "  + punctuations\n",
    "  + stop words\n",
    "  + urls\n",
    "  + emails\n",
    "  + numbers\n",
    "  + emojis\n",
    "  + phone numbers\n",
    "  + multiple whitespaces\n",
    "  + currency symbols\n",
    "  + special characters"
   ]
  },
  {
   "cell_type": "code",
   "execution_count": null,
   "id": "e5893ed8-eff5-4dea-a7f9-39200998fc79",
   "metadata": {},
   "outputs": [],
   "source": [
    "import neattext.functions as ntx\n",
    "\n",
    "def text_preprocessing(text_in: str) -> str:\n",
    "    text = text_in.lower()\n",
    "    \n",
    "    text = ntx.fix_contractions(text)\n",
    "    text = ntx.remove_punctuations(text)\n",
    "    text = ntx.remove_stopwords(text)\n",
    "    text = ntx.remove_urls(text)\n",
    "    text = ntx.remove_emails(text)\n",
    "    text = ntx.remove_numbers(text)\n",
    "    text = ntx.remove_emojis(text)\n",
    "    text = ntx.remove_phone_numbers(text)\n",
    "    text = ntx.remove_multiple_spaces(text)\n",
    "    text = ntx.remove_currency_symbols(text)\n",
    "    text = ntx.remove_special_characters(text)\n",
    "    \n",
    "    return text"
   ]
  },
  {
   "cell_type": "code",
   "execution_count": null,
   "id": "b31df326-dacc-4867-ba22-5783e30af2bd",
   "metadata": {},
   "outputs": [],
   "source": [
    "# progress bar in pandas\n",
    "!pip install tqdm"
   ]
  },
  {
   "cell_type": "code",
   "execution_count": null,
   "id": "1f003d03-8e70-4791-b67c-c049db369653",
   "metadata": {},
   "outputs": [],
   "source": []
  },
  {
   "cell_type": "code",
   "execution_count": null,
   "id": "1d2834ad-ab56-4e1d-a4de-cfe8201eea2c",
   "metadata": {},
   "outputs": [],
   "source": [
    "# pre-process the training set\n"
   ]
  },
  {
   "cell_type": "code",
   "execution_count": null,
   "id": "530bc134-8ca7-4a06-b240-9603b8428f62",
   "metadata": {},
   "outputs": [],
   "source": [
    "df_train.head()"
   ]
  },
  {
   "cell_type": "code",
   "execution_count": null,
   "id": "ab789a1b-2aa2-4625-8907-7e73f32088aa",
   "metadata": {},
   "outputs": [],
   "source": [
    "# pre-process the training set\n"
   ]
  },
  {
   "cell_type": "code",
   "execution_count": null,
   "id": "d443de0f-a006-484a-8fc8-1bb9075262f5",
   "metadata": {},
   "outputs": [],
   "source": [
    "df_test.head()"
   ]
  },
  {
   "cell_type": "code",
   "execution_count": null,
   "id": "a3cd0987-cab8-4909-ab42-956eb914105b",
   "metadata": {},
   "outputs": [],
   "source": [
    "# save the preprocessed datasets\n",
    "df_train.to_csv('./datasets/genre_classification_train_preprocessed.csv', sep=';', index=False)\n",
    "df_test.to_csv('./datasets/genre_classification_test_preprocessed.csv', sep=';', index=False)"
   ]
  },
  {
   "cell_type": "markdown",
   "id": "d89bfbbb-741b-46e7-a4db-9e265070e980",
   "metadata": {
    "tags": []
   },
   "source": [
    "## 2. Word Cloud for Train Set"
   ]
  },
  {
   "cell_type": "code",
   "execution_count": null,
   "id": "dc9d6a3a-140b-4d57-96c3-7044e19c4925",
   "metadata": {},
   "outputs": [],
   "source": [
    "# classes/genres\n"
   ]
  },
  {
   "cell_type": "code",
   "execution_count": null,
   "id": "f06ae94c-8e93-42a8-a7b8-af6a138e3376",
   "metadata": {},
   "outputs": [],
   "source": [
    "# plot a word cloud for each genre\n",
    "import matplotlib.pyplot as plt\n",
    "from wordcloud import WordCloud\n",
    "\n",
    "fig, axes = plt.subplots(9, 3, figsize=(15, 20))\n",
    "\n",
    "idx = 0\n",
    "\n",
    "for row in range(9):\n",
    "    for col in range(3):\n",
    "        genre = genres[idx]\n",
    "        \n",
    "        df_genre = df_train.query(\"genre == @genre\")\n",
    "\n",
    "        text = ' '.join(df_genre['description'])\n",
    "        wordcloud = WordCloud().generate(text)\n",
    "        axes[row, col].imshow(wordcloud)\n",
    "        axes[row, col].set_title(f'{genre}')\n",
    "        axes[row, col].axis('off')\n",
    "\n",
    "        idx += 1"
   ]
  },
  {
   "cell_type": "markdown",
   "id": "361c5f0f-030d-4b6b-a615-a3c1327232d9",
   "metadata": {},
   "source": [
    "While there are _stop words_ (which we should remove), we can clearly see that there is a **subset of specific words** related to each _genre_.\n",
    "\n",
    "We should repeat this analysis after **_text cleaning/preprocessing_**."
   ]
  },
  {
   "cell_type": "markdown",
   "id": "87a16528-f26f-4d78-bfe5-cb51ebb8d965",
   "metadata": {},
   "source": [
    "## 3. Feature Extraction"
   ]
  },
  {
   "cell_type": "code",
   "execution_count": null,
   "id": "a4ad6136-7938-476c-a93f-47073d2428dd",
   "metadata": {},
   "outputs": [],
   "source": [
    "from sklearn.feature_extraction.text import TfidfVectorizer\n",
    "\n",
    "tfidf = TfidfVectorizer()\n",
    "\n",
    "X_train = tfidf.fit_transform(df_train['description-pre'])\n",
    "y_train = df_train['label']\n",
    "\n",
    "X_test = tfidf.transform(df_test['description-pre'])\n",
    "y_test = df_test['label']"
   ]
  },
  {
   "cell_type": "code",
   "execution_count": null,
   "id": "4baab7af-1e5e-47b6-9b82-f615701f060d",
   "metadata": {},
   "outputs": [],
   "source": [
    "X_train.shape, X_test.shape"
   ]
  },
  {
   "cell_type": "code",
   "execution_count": null,
   "id": "0fe126e6-22fd-4be3-a316-4a2846d15d57",
   "metadata": {},
   "outputs": [],
   "source": [
    "print(f'Vocabulary size: {len(tfidf.vocabulary_)}')"
   ]
  },
  {
   "cell_type": "markdown",
   "id": "87926ae3-9ac6-478e-891c-54a1ebf45bc1",
   "metadata": {},
   "source": [
    "The **vocabulary size has increased**, probably due to _remove punctuations_. <br/>\n",
    "I belive that when _removing the punctuation_ of **compound words**, like `'well-known'`, a _new word_ has been created `'wellknown'`. However, the _corpus_ may also have the single words `'well'` and `'known'`, which will result in _three words_ to the corpus."
   ]
  },
  {
   "cell_type": "markdown",
   "id": "73b770da-b6f3-43d2-aebe-9a3b4e37632c",
   "metadata": {},
   "source": [
    "## 5. Train the models"
   ]
  },
  {
   "cell_type": "code",
   "execution_count": null,
   "id": "14bc1a9f-1df6-444b-b720-59bb816c627f",
   "metadata": {},
   "outputs": [],
   "source": [
    "from sklearn.linear_model import LogisticRegression\n",
    "\n",
    "logreg = LogisticRegression(class_weight='balanced', n_jobs=-1)\n",
    "\n",
    "logreg.fit(X_train, y_train)"
   ]
  },
  {
   "cell_type": "code",
   "execution_count": null,
   "id": "a4642296-3db2-49b4-a598-dc29924e803a",
   "metadata": {},
   "outputs": [],
   "source": [
    "# prediction on training set\n",
    "y_train_pred = logreg.predict(X_train)"
   ]
  },
  {
   "cell_type": "code",
   "execution_count": null,
   "id": "856b021b-6544-43a9-86bb-4b2524cc1d81",
   "metadata": {},
   "outputs": [],
   "source": [
    "target_names = df_train[['genre', 'label']].sort_values(by='label')['genre'].unique()\n",
    "target_names"
   ]
  },
  {
   "cell_type": "code",
   "execution_count": null,
   "id": "a12b857b-af0e-4458-9cf3-f18b90b9006f",
   "metadata": {},
   "outputs": [],
   "source": [
    "from sklearn.metrics import classification_report\n",
    "\n",
    "print(classification_report(y_train, y_train_pred, target_names=target_names))"
   ]
  },
  {
   "cell_type": "code",
   "execution_count": null,
   "id": "ac79d2f9-7604-4e54-a1f3-3aaf7abe6cae",
   "metadata": {},
   "outputs": [],
   "source": [
    "from sklearn.metrics import f1_score\n",
    "\n",
    "f1_train = f1_score(y_train, y_train_pred, average='macro')\n",
    "\n",
    "print(f'F1 Train: {f1_train}')"
   ]
  },
  {
   "cell_type": "code",
   "execution_count": null,
   "id": "c0f7d9c9-d9b7-4238-a0ea-ddc64b093381",
   "metadata": {},
   "outputs": [],
   "source": [
    "from sklearn.metrics import balanced_accuracy_score\n",
    "\n",
    "balacc_train = balanced_accuracy_score(y_train, y_train_pred)\n",
    "\n",
    "print(f'Balanced Acc Train: {balacc_train}')"
   ]
  },
  {
   "cell_type": "markdown",
   "id": "c9d99482-3487-4df2-bdf7-7a3ad3dad7a4",
   "metadata": {},
   "source": [
    "## 6. Evaluate the model on the Test Set"
   ]
  },
  {
   "cell_type": "code",
   "execution_count": null,
   "id": "da3b5eb3-2ed9-4b27-89af-41c87f1a8b9e",
   "metadata": {},
   "outputs": [],
   "source": [
    "# prediction on testing set\n",
    "y_test_pred = logreg.predict(X_test)"
   ]
  },
  {
   "cell_type": "code",
   "execution_count": null,
   "id": "62383680-d01b-4924-b638-0d335dc736c3",
   "metadata": {},
   "outputs": [],
   "source": [
    "from sklearn.metrics import classification_report\n",
    "\n",
    "print(classification_report(y_test, y_test_pred, target_names=target_names))"
   ]
  },
  {
   "cell_type": "code",
   "execution_count": null,
   "id": "e835224a-544a-45e7-9761-edf04d24bf68",
   "metadata": {},
   "outputs": [],
   "source": [
    "from sklearn.metrics import f1_score\n",
    "\n",
    "f1_test = f1_score(y_test, y_test_pred, average='macro')\n",
    "\n",
    "print(f'F1 Test: {f1_test}')"
   ]
  },
  {
   "cell_type": "markdown",
   "id": "479e9310-0023-4113-b90d-f8d643eb8764",
   "metadata": {},
   "source": [
    "<br/>\n",
    "\n",
    "The resulting **F1 score** has not improved after considering _text preprocessing_, at least for _Logistic Regression_."
   ]
  },
  {
   "cell_type": "code",
   "execution_count": null,
   "id": "7a284944-a4b0-43e4-83bc-5d29218bfdb1",
   "metadata": {},
   "outputs": [],
   "source": []
  }
 ],
 "metadata": {
  "kernelspec": {
   "display_name": "Python 3",
   "language": "python",
   "name": "python3"
  },
  "language_info": {
   "codemirror_mode": {
    "name": "ipython",
    "version": 3
   },
   "file_extension": ".py",
   "mimetype": "text/x-python",
   "name": "python",
   "nbconvert_exporter": "python",
   "pygments_lexer": "ipython3",
   "version": "3.8.5"
  }
 },
 "nbformat": 4,
 "nbformat_minor": 5
}
