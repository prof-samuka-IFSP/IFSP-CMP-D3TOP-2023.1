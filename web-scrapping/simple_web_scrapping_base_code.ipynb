{
 "cells": [
  {
   "cell_type": "markdown",
   "id": "ea7e539d-1b72-40c0-b280-4a1c11337f21",
   "metadata": {},
   "source": [
    "## **D3TOP - Tópicos em Ciência de Dados (IFSP Campinas)**\n",
    "**Prof. Dr. Samuel Martins (@iamsamucoding @samucoding @xavecoding)** <br/>\n",
    "xavecoding: https://youtube.com/c/xavecoding <br/><br/>\n",
    "\n",
    "<a rel=\"license\" href=\"http://creativecommons.org/licenses/by-nc-sa/4.0/\"><img alt=\"Creative Commons License\" style=\"border-width:0\" src=\"https://i.creativecommons.org/l/by-nc-sa/4.0/88x31.png\" /></a><br />This work is licensed under a <a rel=\"license\" href=\"http://creativecommons.org/licenses/by-nc-sa/4.0/\">Creative Commons Attribution-NonCommercial-ShareAlike 4.0 International License</a>.\n",
    "\n",
    "<hr/>"
   ]
  },
  {
   "cell_type": "markdown",
   "id": "da80057c-c6c2-4357-8762-d8c76dfb743a",
   "metadata": {},
   "source": [
    "# Web Scrapping\n",
    "Web scraping is the process of **extracting data from websites (or other sources - e.g., pdfs)** using _automated software tools_, also known as **web scrapers** or **crawlers**. In case of websites, these tools access websites and _extract data_ from the _HTML code_, which can be used for a variety of purposes such as data analysis, research, and content creation.\n",
    "\n",
    "Web scraping is commonly used in fields such as e-commerce, finance, and marketing, as it allows companies to gather data on competitors, track prices and inventory levels, and monitor customer sentiment. It can also be used by researchers to collect data for academic studies, and by journalists to uncover newsworthy information.\n",
    "\n",
    "However, it's important to note that web scraping can _raise ethical_ and _legal concerns_, as _some websites explicitly prohibit scraping_ of their data. Additionally, scraping can put a strain on server resources and can potentially cause website downtime or other technical issues. As such, it's important to use web scraping tools responsibly and within the boundaries of the law and ethical considerations.\n",
    "\n",
    "## Goal\n",
    "In this notebook, we will scrap the page with the **[top 250 movies on IMBD](https://www.imdb.com/chart/top/?ref_=nv_mv_250)**. We will extract data from the html table and save the it into a CSV file."
   ]
  },
  {
   "cell_type": "markdown",
   "id": "15ec7d04-883b-4aef-820e-73119d5d0d79",
   "metadata": {},
   "source": [
    "## Required Packages\n",
    "Beautiful Soup - https://beautiful-soup-4.readthedocs.io/en/latest/"
   ]
  },
  {
   "cell_type": "code",
   "execution_count": null,
   "id": "ff42dc8b-b4be-45f9-88e9-2d8a07d57b42",
   "metadata": {},
   "outputs": [],
   "source": [
    "!pip install beautifulsoup4"
   ]
  },
  {
   "cell_type": "markdown",
   "id": "e119b30e-4f1a-43fd-b03f-8d7d3ec84a56",
   "metadata": {},
   "source": [
    "## Getting the page"
   ]
  },
  {
   "cell_type": "code",
   "execution_count": null,
   "id": "81020924-3013-4558-a62f-86c175fe2cd0",
   "metadata": {
    "tags": []
   },
   "outputs": [],
   "source": []
  },
  {
   "cell_type": "code",
   "execution_count": null,
   "id": "9c29a819-3ed3-4524-867f-4a15931c21b8",
   "metadata": {
    "tags": []
   },
   "outputs": [],
   "source": [
    "# target website\n",
    "URL = 'https://www.imdb.com/chart/top/?ref_=nv_mv_250'"
   ]
  },
  {
   "cell_type": "markdown",
   "id": "b251e297-b582-4a03-a47b-b72e18d3483b",
   "metadata": {},
   "source": [
    "**HTML Protocol**\n",
    "\n",
    "<img src='https://d77da31580fbc8944c00-52b01ccbcfe56047120eec75d9cb2cbd.ssl.cf6.rackcdn.com/695bb7d8-d242-47a8-ab92-bc72225323df/what-is-http---teachoo.jpg' width=400/>\n",
    "\n",
    "Source: https://d77da31580fbc8944c00-52b01ccbcfe56047120eec75d9cb2cbd.ssl.cf6.rackcdn.com/695bb7d8-d242-47a8-ab92-bc72225323df/what-is-http---teachoo.jpg"
   ]
  },
  {
   "cell_type": "code",
   "execution_count": null,
   "id": "49bcaa75-1cf4-455b-9946-99da0ab9b06e",
   "metadata": {
    "tags": []
   },
   "outputs": [],
   "source": [
    "# get the page\n"
   ]
  },
  {
   "cell_type": "code",
   "execution_count": null,
   "id": "cec1c798-65eb-4504-bc73-fe854c805370",
   "metadata": {
    "tags": []
   },
   "outputs": [],
   "source": [
    "# HTML success code - 200\n"
   ]
  },
  {
   "cell_type": "code",
   "execution_count": null,
   "id": "f901cafd-82bc-44ab-91b3-60c0ab88fbe5",
   "metadata": {
    "tags": []
   },
   "outputs": [],
   "source": [
    "# save the obtained HTML page into a file just for inspection\n"
   ]
  },
  {
   "cell_type": "markdown",
   "id": "176b83a1-8134-448b-aa8e-7a63b626e3ec",
   "metadata": {},
   "source": [
    "## Beautiful Soup Basics\n",
    "Install the [**Selector Gadget**](https://chrome.google.com/webstore/detail/selectorgadget/mhjhnkcfbdhnjickkkdbjoemdmbfginb) on Chrome Web Store - it is a plugin for HTML inspection."
   ]
  },
  {
   "cell_type": "code",
   "execution_count": null,
   "id": "a5e1566a-48f8-4235-b0f2-01eecb0c5caf",
   "metadata": {
    "tags": []
   },
   "outputs": [],
   "source": [
    "# parsing the html page to a BS object\n"
   ]
  },
  {
   "cell_type": "markdown",
   "id": "380e3942-7a2f-483c-9d3b-704629618de8",
   "metadata": {},
   "source": [
    "<br/>\n",
    "\n",
    "`find(tag)`: find the _first_ HTML element with the tag `<tag>`.\n",
    "\n",
    "https://beautiful-soup-4.readthedocs.io/en/latest/#kinds-of-filters"
   ]
  },
  {
   "cell_type": "code",
   "execution_count": null,
   "id": "b54d4224-7e8a-41a9-bb94-ea4689e16a8b",
   "metadata": {
    "tags": []
   },
   "outputs": [],
   "source": [
    "# find h3\n"
   ]
  },
  {
   "cell_type": "code",
   "execution_count": null,
   "id": "1a76effd-d56d-43f1-937e-106941ce7e21",
   "metadata": {
    "tags": []
   },
   "outputs": [],
   "source": [
    "# find tr\n"
   ]
  },
  {
   "cell_type": "code",
   "execution_count": null,
   "id": "9a5416cb-cf38-436c-8cb8-22a61871185f",
   "metadata": {
    "tags": []
   },
   "outputs": [],
   "source": []
  },
  {
   "cell_type": "code",
   "execution_count": null,
   "id": "f20a63f6-6077-4042-b7fe-4535e4715aa1",
   "metadata": {
    "tags": []
   },
   "outputs": [],
   "source": [
    "type(first_tr)"
   ]
  },
  {
   "cell_type": "code",
   "execution_count": null,
   "id": "ea2be766-8970-4351-962d-7dc1caf445e9",
   "metadata": {
    "tags": []
   },
   "outputs": [],
   "source": [
    "print(first_tr.prettify())"
   ]
  },
  {
   "cell_type": "code",
   "execution_count": null,
   "id": "3f598c65-fd25-4905-a4c4-385575542ccc",
   "metadata": {
    "tags": []
   },
   "outputs": [],
   "source": [
    "# find for the (first) tag with id='suggestion-search'\n"
   ]
  },
  {
   "cell_type": "code",
   "execution_count": null,
   "id": "e3ed02b0-967b-4c03-9c08-7316a63303a7",
   "metadata": {
    "tags": []
   },
   "outputs": [],
   "source": [
    "# find for the <input> tag with id='suggestion-search'\n"
   ]
  },
  {
   "cell_type": "code",
   "execution_count": null,
   "id": "0fc928b1-53ee-43f5-8b16-966a43f9e187",
   "metadata": {
    "tags": []
   },
   "outputs": [],
   "source": [
    "# find for the first <td> tag with class='titleColumn'\n"
   ]
  },
  {
   "cell_type": "markdown",
   "id": "8da61570-7774-489c-80fc-c319ccdec590",
   "metadata": {},
   "source": [
    "<br/>\n",
    "\n",
    "`find_all(tag)`: find **all** HTML elements with the tag `<tag>`.\n",
    "\n",
    "https://beautiful-soup-4.readthedocs.io/en/latest/#kinds-of-filters"
   ]
  },
  {
   "cell_type": "code",
   "execution_count": null,
   "id": "5ce163c4-117b-4726-93d7-c46270ba7a12",
   "metadata": {
    "tags": []
   },
   "outputs": [],
   "source": [
    "# find for all <h3> tags\n"
   ]
  },
  {
   "cell_type": "code",
   "execution_count": null,
   "id": "911642bd-3b13-4ae2-ac73-0b2c01ec76cf",
   "metadata": {
    "tags": []
   },
   "outputs": [],
   "source": [
    "# find for all HTML elements with class='titleColumn'\n",
    "\n",
    "\n",
    "print(len(elements))\n",
    "print(elements[:3])"
   ]
  },
  {
   "cell_type": "code",
   "execution_count": null,
   "id": "0fea7929-99cc-4ce0-9cd1-a73f6837c6be",
   "metadata": {
    "tags": []
   },
   "outputs": [],
   "source": [
    "# find for all <td> tags with class='titleColumn'\n",
    "\n",
    "\n",
    "print(len(td_list))\n",
    "print(td_list[:3])"
   ]
  },
  {
   "cell_type": "markdown",
   "id": "d47e7241-ffc0-44aa-953b-f5f6e6c95e13",
   "metadata": {},
   "source": [
    "<br/>\n",
    "\n",
    "`search(selector)`: search for **all** HTML elements with the CSS selector `selector`.\n",
    "\n",
    "https://beautiful-soup-4.readthedocs.io/en/latest/#searching-by-css-class"
   ]
  },
  {
   "cell_type": "code",
   "execution_count": null,
   "id": "25d8c3b2-7875-46b7-a5a2-6687d6032fbe",
   "metadata": {
    "tags": []
   },
   "outputs": [],
   "source": [
    "# find for all <h3> elements\n"
   ]
  },
  {
   "cell_type": "code",
   "execution_count": null,
   "id": "ca6c9eb9-79c5-4e1f-bb01-42f98b7228b4",
   "metadata": {
    "tags": []
   },
   "outputs": [],
   "source": [
    "# find for the HTML with the 'suggestion-search'\n",
    "# note that the return is a list\n"
   ]
  },
  {
   "cell_type": "code",
   "execution_count": null,
   "id": "0f9a790f-0f00-4428-831f-0bdf6988f599",
   "metadata": {
    "tags": []
   },
   "outputs": [],
   "source": [
    "# find for the <input> tag with the 'suggestion-search'\n",
    "# note that the return is a list\n"
   ]
  },
  {
   "cell_type": "code",
   "execution_count": null,
   "id": "597887ac-4aef-41ec-9710-cd7e580c3ae3",
   "metadata": {
    "tags": []
   },
   "outputs": [],
   "source": [
    "# find for all HTML elements with class='titleColumn'\n",
    "\n",
    "\n",
    "print(len(elements))\n",
    "print(elements[:3])"
   ]
  },
  {
   "cell_type": "code",
   "execution_count": null,
   "id": "ebf378d5-7d4f-410c-8a87-ce219dadb11d",
   "metadata": {
    "tags": []
   },
   "outputs": [],
   "source": [
    "# find for all <td> tags with class='titleColumn'\n",
    "\n",
    "\n",
    "print(len(td_list))\n",
    "print(td_list[:3])"
   ]
  },
  {
   "cell_type": "markdown",
   "id": "a5595103-8635-468a-a3cb-614ec34cf093",
   "metadata": {},
   "source": [
    "### More BS useful functions\n",
    "\n",
    "https://www.crummy.com/software/BeautifulSoup/bs4/doc/\n",
    "\n",
    "- `encode_contents`\n",
    "- `replace_with`\n",
    "- `unwrap`\n",
    "- `find_all`\n",
    "- `find_all_next`\n",
    "- `find_all_previous`\n",
    "- `find_next`\n",
    "- `find_next_sibling`\n",
    "- `find_next_siblings`\n",
    "- `find_parent`\n",
    "- `find_parents`\n",
    "- `find_previous`\n",
    "- `find_previous_sibling`\n",
    "- `find_previous_siblings`\n",
    "- `get_text`\n",
    "- `next_sibling`\n",
    "- `previous_sibling`"
   ]
  },
  {
   "cell_type": "markdown",
   "id": "1d2b0d22-3b31-438d-ad5b-262cadb1a59c",
   "metadata": {},
   "source": [
    "## Scrapping the movies\n",
    "- Inspect the target page to find which is the HTML element that holds the movie data\n",
    "    + use **SelectorGadget**"
   ]
  },
  {
   "cell_type": "markdown",
   "id": "b2107bd6-5dcd-4db6-8c33-4a426701a972",
   "metadata": {},
   "source": [
    "### Page HTML overview"
   ]
  },
  {
   "cell_type": "markdown",
   "id": "476ddf66-7d0b-4695-90e0-05fa3b754fa6",
   "metadata": {},
   "source": [
    "<br/>\n",
    "\n",
    "Get all `<tr>` elements:"
   ]
  },
  {
   "cell_type": "code",
   "execution_count": null,
   "id": "a5af4d95-4706-4342-8eef-c59f40949c79",
   "metadata": {
    "tags": []
   },
   "outputs": [],
   "source": []
  },
  {
   "cell_type": "code",
   "execution_count": null,
   "id": "c3f625a3-fde8-4234-b273-7ef496bcedcf",
   "metadata": {
    "tags": []
   },
   "outputs": [],
   "source": [
    "# number of elements\n",
    "print(len(movies_tr))"
   ]
  },
  {
   "cell_type": "markdown",
   "id": "d4a58c1f-d538-459e-8b98-107df7579c66",
   "metadata": {},
   "source": [
    "It took _one more element_, let's see which is that."
   ]
  },
  {
   "cell_type": "code",
   "execution_count": null,
   "id": "b74db123-20d8-4dca-a931-9bb3588cd66f",
   "metadata": {
    "tags": []
   },
   "outputs": [],
   "source": []
  },
  {
   "cell_type": "markdown",
   "id": "0c4b2468-dae5-41d3-aaa4-e641c4980f28",
   "metadata": {
    "tags": []
   },
   "source": [
    "It took the **table header** as the _extra element_, which is the _first element_ of the list:"
   ]
  },
  {
   "cell_type": "code",
   "execution_count": null,
   "id": "be47f30c-88dc-4b1c-b8ef-cf7039887634",
   "metadata": {
    "tags": []
   },
   "outputs": [],
   "source": []
  },
  {
   "cell_type": "markdown",
   "id": "2d526a5b-9173-4d86-8d22-236d1f280463",
   "metadata": {},
   "source": [
    "<br/>\n",
    "\n",
    "To solve this problem, we can simply ***delete** the first list's element*:"
   ]
  },
  {
   "cell_type": "code",
   "execution_count": null,
   "id": "581a6433-603c-4ac6-bf86-608385c6ec56",
   "metadata": {
    "tags": []
   },
   "outputs": [],
   "source": []
  },
  {
   "cell_type": "code",
   "execution_count": null,
   "id": "274353e2-c720-4f72-8aa8-77d3fee01ae6",
   "metadata": {
    "tags": []
   },
   "outputs": [],
   "source": [
    "len(movies_tr)"
   ]
  },
  {
   "cell_type": "code",
   "execution_count": null,
   "id": "f77a0975-1569-454c-afe8-2e36c81ff28b",
   "metadata": {
    "tags": []
   },
   "outputs": [],
   "source": [
    "movies_tr[:2]"
   ]
  },
  {
   "cell_type": "markdown",
   "id": "0cf6de3e-5127-409b-afa8-82df9fb4417d",
   "metadata": {},
   "source": [
    "<br/>\n",
    "\n",
    "Alternatively, we can perform a more advance **search** with a more specific _CSS selector_: `'TAG1 TAG2'` <br/>\n",
    "- Select all HTML elements with TAG2 that are \"inside\" the HTML elements with TAG1"
   ]
  },
  {
   "cell_type": "code",
   "execution_count": 1,
   "id": "2460b9b0-49ea-41cb-8b11-3bd2fcfbf32e",
   "metadata": {
    "tags": []
   },
   "outputs": [],
   "source": [
    "# select all <tr> inside <tbody>\n"
   ]
  },
  {
   "cell_type": "code",
   "execution_count": null,
   "id": "60a10160-7628-4db4-8611-c364987cb2c2",
   "metadata": {
    "tags": []
   },
   "outputs": [],
   "source": [
    "len(movies_tr)"
   ]
  },
  {
   "cell_type": "code",
   "execution_count": null,
   "id": "d77048db-64b7-4bf5-8c13-667a2f614883",
   "metadata": {
    "tags": []
   },
   "outputs": [],
   "source": [
    "movies_tr[:2]"
   ]
  },
  {
   "cell_type": "code",
   "execution_count": null,
   "id": "cddda824-8cf5-4640-963d-2dc336a0984b",
   "metadata": {
    "tags": []
   },
   "outputs": [],
   "source": [
    "for tr in movies_tr[:2]:\n",
    "    print(tr.prettify())"
   ]
  },
  {
   "cell_type": "markdown",
   "id": "09fdc43d-1ca9-4fb4-86e4-f43f63937609",
   "metadata": {},
   "source": [
    "### Scrapping the movies"
   ]
  },
  {
   "cell_type": "code",
   "execution_count": null,
   "id": "3b9b9bf6-3d29-472a-8752-7c83d9b0fc7c",
   "metadata": {
    "tags": []
   },
   "outputs": [],
   "source": [
    "print(movies_tr[0].prettify())"
   ]
  },
  {
   "cell_type": "markdown",
   "id": "a961349e-b6b1-4ef7-94e4-05d1e34ae627",
   "metadata": {},
   "source": [
    "<br/>\n",
    "\n",
    "Note that the `<td class=\"titleColumn\">` has the movie's **ranking**, a _link_ (`<a>`) with the **title**, and another HTML element (`<span>`) with the movie's **year**.\n",
    "\n",
    "<pre>\n",
    "&lt;td class=\"titleColumn\">\n",
    "  1.\n",
    "  &lt;a href=\"/title/tt0111161/\" title=\"Frank Darabont (dir.), Tim Robbins, Morgan Freeman\">\n",
    "   Um Sonho de Liberdade\n",
    "  &lt;/a>\n",
    "  &lt;span class=\"secondaryInfo\">\n",
    "   (1994)\n",
    "  &lt;/span>\n",
    " &lt;/td>\n",
    "</pre>\n",
    "\n",
    "We need to **extract** these information. Let's make some tests with the _first movie_."
   ]
  },
  {
   "cell_type": "code",
   "execution_count": null,
   "id": "b7c0ae36-47c2-4479-aefc-101bfaa8cb8d",
   "metadata": {
    "tags": []
   },
   "outputs": [],
   "source": [
    "\n",
    "\n",
    "print(first_movie_tr.prettify())"
   ]
  },
  {
   "cell_type": "code",
   "execution_count": null,
   "id": "74417bcd-0fb2-490c-b308-fdf3310b264a",
   "metadata": {
    "tags": []
   },
   "outputs": [],
   "source": [
    "# extract the `ranking & title` column\n"
   ]
  },
  {
   "cell_type": "code",
   "execution_count": null,
   "id": "475fb437-3555-4b03-87e7-21b1fc90deb0",
   "metadata": {
    "tags": []
   },
   "outputs": [],
   "source": []
  },
  {
   "cell_type": "code",
   "execution_count": null,
   "id": "431101ea-1841-43ca-8fa3-968ca7a521b5",
   "metadata": {
    "tags": []
   },
   "outputs": [],
   "source": [
    "# strip the HTML text\n"
   ]
  },
  {
   "cell_type": "code",
   "execution_count": null,
   "id": "8705c65a-2ef8-49f5-8d96-efae63e0979e",
   "metadata": {
    "tags": []
   },
   "outputs": [],
   "source": [
    "# extract the ranking, title, and year from the title column <td> by regex\n",
    "\n",
    "print(ranking_str)\n",
    "print(title)\n",
    "print(year_str)"
   ]
  },
  {
   "cell_type": "code",
   "execution_count": null,
   "id": "ce15c8a1-c537-4ecd-a66d-7847e7113add",
   "metadata": {
    "tags": []
   },
   "outputs": [],
   "source": [
    "# converting string ranking to integer\n"
   ]
  },
  {
   "cell_type": "code",
   "execution_count": null,
   "id": "e09b521b-83dd-4110-a32b-eb49e473d7dd",
   "metadata": {
    "tags": []
   },
   "outputs": [],
   "source": [
    "# converting string year to integer\n"
   ]
  },
  {
   "cell_type": "markdown",
   "id": "3502a413-b8ee-429b-9128-fb9b3a2923ac",
   "metadata": {
    "tags": []
   },
   "source": [
    "Ok, now we know how to extract those movie's information from HTML. \n",
    "\n",
    "Let's analyse the HTML of the first movie again. We still need to **extract the *IMBD rating***."
   ]
  },
  {
   "cell_type": "code",
   "execution_count": null,
   "id": "12d005d6-22f2-4e62-bb1a-ca5cb67ae9d2",
   "metadata": {
    "tags": []
   },
   "outputs": [],
   "source": [
    "print(first_movie_tr.prettify())"
   ]
  },
  {
   "cell_type": "markdown",
   "id": "f5d205f0-d6af-402b-b622-97b0d65ec5db",
   "metadata": {},
   "source": [
    "Note that the **IMBD rating** is in the following table column `<td>`:\n",
    "\n",
    "<pre>\n",
    "&lt;td class=\"ratingColumn imdbRating\">\n",
    "  &lt;strong title=\"9.2 based on 2,704,868 user ratings\">\n",
    "   9.2\n",
    "  &lt;/strong>\n",
    " &lt;/td>\n",
    "</pre\n",
    "\n",
    "To extract the number inside the `<td>`, we just need to select the HTML element and get your **text**."
   ]
  },
  {
   "cell_type": "code",
   "execution_count": null,
   "id": "a051f51b-00c4-4b2a-a7d8-a9be2dd5cefe",
   "metadata": {
    "tags": []
   },
   "outputs": [],
   "source": []
  },
  {
   "cell_type": "code",
   "execution_count": null,
   "id": "71bbd3a4-1fde-45d8-a359-d6d1d2bf339a",
   "metadata": {
    "tags": []
   },
   "outputs": [],
   "source": []
  },
  {
   "cell_type": "code",
   "execution_count": null,
   "id": "0ca43b2c-b50f-4bec-9286-f3719c40beb2",
   "metadata": {
    "tags": []
   },
   "outputs": [],
   "source": []
  },
  {
   "cell_type": "markdown",
   "id": "bc422105-8b7f-4f29-8751-c07db4bab714",
   "metadata": {},
   "source": [
    "<br/>\n",
    "\n",
    "We're done! We know how to extract movie's data from the HTML page. Since all movies follow the same _HTML pattern_, we can create a function to extract a movie's information and then perform it in a loop.\n"
   ]
  },
  {
   "cell_type": "code",
   "execution_count": null,
   "id": "9e94c4b3-0ce3-4998-879d-d86a7f9561ef",
   "metadata": {
    "tags": []
   },
   "outputs": [],
   "source": []
  },
  {
   "cell_type": "markdown",
   "id": "93837b1f-8e16-415a-a046-973c9113a89f",
   "metadata": {},
   "source": [
    "<br/>\n",
    "\n",
    "Now, we will save each movie's variable in a corresponding list."
   ]
  },
  {
   "cell_type": "code",
   "execution_count": null,
   "id": "9e975894-c7b2-4c41-99a4-60fe5c4da1b2",
   "metadata": {
    "tags": []
   },
   "outputs": [],
   "source": [
    "ranking_list = []\n",
    "title_list = []\n",
    "year_list = []\n",
    "rating_list = []"
   ]
  },
  {
   "cell_type": "code",
   "execution_count": null,
   "id": "eb50a81b-54ca-4434-a6ee-506b45d0a7eb",
   "metadata": {
    "tags": []
   },
   "outputs": [],
   "source": []
  },
  {
   "cell_type": "markdown",
   "id": "2d059916-f612-414c-8e7f-979e54203631",
   "metadata": {},
   "source": [
    "<br/>\n",
    "\n",
    "Create a pandas `DataFrame` to save the **scrapped data** into a _CSV_."
   ]
  },
  {
   "cell_type": "code",
   "execution_count": null,
   "id": "baaf0cdd-e7b6-4c25-bb68-438a359124f3",
   "metadata": {
    "tags": []
   },
   "outputs": [],
   "source": [
    "import pandas as pd"
   ]
  },
  {
   "cell_type": "code",
   "execution_count": null,
   "id": "5181b524-2244-45ec-8b4e-0418a8a8f031",
   "metadata": {},
   "outputs": [],
   "source": [
    "df = pd.DataFrame({\n",
    "    'ranking': ranking_list,\n",
    "    'title': title_list,\n",
    "    'year': year_list,\n",
    "    'rating': rating_list\n",
    "})"
   ]
  },
  {
   "cell_type": "code",
   "execution_count": null,
   "id": "636a6e9e-d246-4b84-aede-5cb8a28b6e36",
   "metadata": {},
   "outputs": [],
   "source": [
    "df.to_csv('out/movies_imbd_250.csv', index=False)"
   ]
  },
  {
   "cell_type": "markdown",
   "id": "6154cd10-c9cc-405b-a01f-90c8304c28c7",
   "metadata": {},
   "source": [
    "# Exercise\n",
    "- Extend this web scrapping by also extracting the **movie's synopsis** in each movie's page, adding it as a column."
   ]
  },
  {
   "cell_type": "code",
   "execution_count": null,
   "id": "b7799ab3-1a56-44b2-9999-6d9e056280cd",
   "metadata": {},
   "outputs": [],
   "source": []
  }
 ],
 "metadata": {
  "kernelspec": {
   "display_name": "Python 3 (ipykernel)",
   "language": "python",
   "name": "python3"
  },
  "language_info": {
   "codemirror_mode": {
    "name": "ipython",
    "version": 3
   },
   "file_extension": ".py",
   "mimetype": "text/x-python",
   "name": "python",
   "nbconvert_exporter": "python",
   "pygments_lexer": "ipython3",
   "version": "3.9.5"
  }
 },
 "nbformat": 4,
 "nbformat_minor": 5
}
